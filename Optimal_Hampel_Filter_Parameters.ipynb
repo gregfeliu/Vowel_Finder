{
 "cells": [
  {
   "cell_type": "markdown",
   "metadata": {},
   "source": [
    "**Find the Optimal Hampel Filters**"
   ]
  },
  {
   "cell_type": "markdown",
   "metadata": {},
   "source": [
    "# Imports"
   ]
  },
  {
   "cell_type": "markdown",
   "metadata": {},
   "source": [
    "## Libraries"
   ]
  },
  {
   "cell_type": "code",
   "execution_count": 127,
   "metadata": {},
   "outputs": [],
   "source": [
    "import os\n",
    "import pandas as pd\n",
    "import glob\n",
    "import matplotlib\n",
    "import matplotlib.pyplot as plt\n",
    "%matplotlib inline\n",
    "matplotlib.rcParams.update({'font.size': 12})\n",
    "import numpy as np\n",
    "import librosa\n",
    "import numba \n",
    "from numba import jit\n",
    "import warnings # from https://stackoverflow.com/questions/14463277/how-to-disable-python-warnings\n",
    "def fxn():\n",
    "    warnings.warn(\"deprecated\", DeprecationWarning)\n",
    "with warnings.catch_warnings():\n",
    "    warnings.simplefilter(\"ignore\")\n",
    "    fxn()\n",
    "from functions import *\n",
    "from sklearn.metrics import confusion_matrix, recall_score, precision_score, f1_score\n",
    "import seaborn as sns"
   ]
  },
  {
   "cell_type": "markdown",
   "metadata": {},
   "source": [
    "## Data"
   ]
  },
  {
   "cell_type": "code",
   "execution_count": 2,
   "metadata": {},
   "outputs": [],
   "source": [
    "cwd = os.getcwd()\n",
    "corrected_textgrid_names_list = glob.glob(cwd + \"/corrected_textgrid/*ENF_0?TextGrid\")"
   ]
  },
  {
   "cell_type": "code",
   "execution_count": 3,
   "metadata": {},
   "outputs": [
    {
     "data": {
      "text/plain": [
       "['/Users/gregfeliu/Desktop/Flatiron Bootcamp/Vowel Identifier/corrected_textgrid/ENF_06TextGrid',\n",
       " '/Users/gregfeliu/Desktop/Flatiron Bootcamp/Vowel Identifier/corrected_textgrid/ENF_02TextGrid']"
      ]
     },
     "execution_count": 3,
     "metadata": {},
     "output_type": "execute_result"
    }
   ],
   "source": [
    "corrected_textgrid_names_list"
   ]
  },
  {
   "cell_type": "markdown",
   "metadata": {},
   "source": [
    "### DataFrame"
   ]
  },
  {
   "cell_type": "code",
   "execution_count": 4,
   "metadata": {},
   "outputs": [],
   "source": [
    "df = pd.read_csv(\"combined_corrected_textgrids\", index_col= 0)"
   ]
  },
  {
   "cell_type": "code",
   "execution_count": 5,
   "metadata": {},
   "outputs": [
    {
     "data": {
      "text/html": [
       "<div>\n",
       "<style scoped>\n",
       "    .dataframe tbody tr th:only-of-type {\n",
       "        vertical-align: middle;\n",
       "    }\n",
       "\n",
       "    .dataframe tbody tr th {\n",
       "        vertical-align: top;\n",
       "    }\n",
       "\n",
       "    .dataframe thead th {\n",
       "        text-align: right;\n",
       "    }\n",
       "</style>\n",
       "<table border=\"1\" class=\"dataframe\">\n",
       "  <thead>\n",
       "    <tr style=\"text-align: right;\">\n",
       "      <th></th>\n",
       "      <th>Phone_Text</th>\n",
       "      <th>Phone_xmin</th>\n",
       "      <th>Phone_xmax</th>\n",
       "      <th>Word_Text</th>\n",
       "      <th>Word_xmin</th>\n",
       "      <th>Word_xmax</th>\n",
       "      <th>Vowel</th>\n",
       "      <th>Speaker</th>\n",
       "      <th>Phone_Duration</th>\n",
       "    </tr>\n",
       "  </thead>\n",
       "  <tbody>\n",
       "    <tr>\n",
       "      <th>0</th>\n",
       "      <td>NaN</td>\n",
       "      <td>0.000000</td>\n",
       "      <td>2.000000</td>\n",
       "      <td>NaN</td>\n",
       "      <td>0.0</td>\n",
       "      <td>2.000000</td>\n",
       "      <td>0</td>\n",
       "      <td>6</td>\n",
       "      <td>2.000000</td>\n",
       "    </tr>\n",
       "    <tr>\n",
       "      <th>1</th>\n",
       "      <td>!SIL</td>\n",
       "      <td>2.000000</td>\n",
       "      <td>4.589832</td>\n",
       "      <td>!SIL</td>\n",
       "      <td>2.0</td>\n",
       "      <td>4.361218</td>\n",
       "      <td>0</td>\n",
       "      <td>6</td>\n",
       "      <td>2.589832</td>\n",
       "    </tr>\n",
       "    <tr>\n",
       "      <th>2</th>\n",
       "      <td>AH</td>\n",
       "      <td>4.589832</td>\n",
       "      <td>4.831125</td>\n",
       "      <td>!SIL</td>\n",
       "      <td>2.0</td>\n",
       "      <td>4.361218</td>\n",
       "      <td>1</td>\n",
       "      <td>6</td>\n",
       "      <td>0.241293</td>\n",
       "    </tr>\n",
       "  </tbody>\n",
       "</table>\n",
       "</div>"
      ],
      "text/plain": [
       "  Phone_Text  Phone_xmin  Phone_xmax Word_Text  Word_xmin  Word_xmax  Vowel  \\\n",
       "0        NaN    0.000000    2.000000       NaN        0.0   2.000000      0   \n",
       "1       !SIL    2.000000    4.589832      !SIL        2.0   4.361218      0   \n",
       "2         AH    4.589832    4.831125      !SIL        2.0   4.361218      1   \n",
       "\n",
       "   Speaker  Phone_Duration  \n",
       "0        6        2.000000  \n",
       "1        6        2.589832  \n",
       "2        6        0.241293  "
      ]
     },
     "execution_count": 5,
     "metadata": {},
     "output_type": "execute_result"
    }
   ],
   "source": [
    "df.head(3)"
   ]
  },
  {
   "cell_type": "markdown",
   "metadata": {},
   "source": [
    "### Audio"
   ]
  },
  {
   "cell_type": "markdown",
   "metadata": {},
   "source": [
    "For this notebook, the main focus will be identifying the optimal parameters for the hampel filter, using the corrected textgrids from speakers ENF_02 and ENF_06. In order to optimize the amount of processing and time needed to find these parameters, I will only be sampling the first 90 seconds of each audio file."
   ]
  },
  {
   "cell_type": "code",
   "execution_count": 6,
   "metadata": {},
   "outputs": [],
   "source": [
    "short_audio, sr = librosa.load(\"./original_en_diapix_data/DP_ENF_02_ENF_06_EN_ENF_02_DP_ENF_02_ENF_06_EN_ENF_06.wav\", duration = 90, sr = 8000)"
   ]
  },
  {
   "cell_type": "code",
   "execution_count": 7,
   "metadata": {},
   "outputs": [
    {
     "data": {
      "text/plain": [
       "720000"
      ]
     },
     "execution_count": 7,
     "metadata": {},
     "output_type": "execute_result"
    }
   ],
   "source": [
    "len(short_audio)"
   ]
  },
  {
   "cell_type": "markdown",
   "metadata": {},
   "source": [
    "# Using Hampel Filter"
   ]
  },
  {
   "cell_type": "markdown",
   "metadata": {},
   "source": [
    "I will use the hampel filter with a set of parameters, then evaluate how many predictions made were in a vowel interval. Additionally, I will find the recall, precision, and F1 score for that set of parameters. I will plot each of these set of parameters according to these parameters to determine which one is best."
   ]
  },
  {
   "cell_type": "markdown",
   "metadata": {},
   "source": [
    "## Building Evaluation Method"
   ]
  },
  {
   "cell_type": "markdown",
   "metadata": {},
   "source": [
    "### Find all of the intervals for each speaker that are actually vowels"
   ]
  },
  {
   "cell_type": "markdown",
   "metadata": {},
   "source": [
    "#### Narrowing dataframe"
   ]
  },
  {
   "cell_type": "code",
   "execution_count": 8,
   "metadata": {},
   "outputs": [],
   "source": [
    "short_df = df[(df['Phone_xmax'] < 90) & (df['Vowel'] == 1)].reset_index(drop = True)"
   ]
  },
  {
   "cell_type": "code",
   "execution_count": 9,
   "metadata": {},
   "outputs": [
    {
     "data": {
      "text/html": [
       "<div>\n",
       "<style scoped>\n",
       "    .dataframe tbody tr th:only-of-type {\n",
       "        vertical-align: middle;\n",
       "    }\n",
       "\n",
       "    .dataframe tbody tr th {\n",
       "        vertical-align: top;\n",
       "    }\n",
       "\n",
       "    .dataframe thead th {\n",
       "        text-align: right;\n",
       "    }\n",
       "</style>\n",
       "<table border=\"1\" class=\"dataframe\">\n",
       "  <thead>\n",
       "    <tr style=\"text-align: right;\">\n",
       "      <th></th>\n",
       "      <th>Phone_Text</th>\n",
       "      <th>Phone_xmin</th>\n",
       "      <th>Phone_xmax</th>\n",
       "      <th>Word_Text</th>\n",
       "      <th>Word_xmin</th>\n",
       "      <th>Word_xmax</th>\n",
       "      <th>Vowel</th>\n",
       "      <th>Speaker</th>\n",
       "      <th>Phone_Duration</th>\n",
       "    </tr>\n",
       "  </thead>\n",
       "  <tbody>\n",
       "    <tr>\n",
       "      <th>0</th>\n",
       "      <td>AH</td>\n",
       "      <td>4.589832</td>\n",
       "      <td>4.831125</td>\n",
       "      <td>!SIL</td>\n",
       "      <td>2.000000</td>\n",
       "      <td>4.361218</td>\n",
       "      <td>1</td>\n",
       "      <td>6</td>\n",
       "      <td>0.241293</td>\n",
       "    </tr>\n",
       "    <tr>\n",
       "      <th>1</th>\n",
       "      <td>AY</td>\n",
       "      <td>5.481125</td>\n",
       "      <td>5.881125</td>\n",
       "      <td>mine</td>\n",
       "      <td>5.141125</td>\n",
       "      <td>6.111125</td>\n",
       "      <td>1</td>\n",
       "      <td>6</td>\n",
       "      <td>0.400000</td>\n",
       "    </tr>\n",
       "    <tr>\n",
       "      <th>2</th>\n",
       "      <td>IH</td>\n",
       "      <td>6.161722</td>\n",
       "      <td>6.441125</td>\n",
       "      <td>mine</td>\n",
       "      <td>5.141125</td>\n",
       "      <td>6.111125</td>\n",
       "      <td>1</td>\n",
       "      <td>6</td>\n",
       "      <td>0.279403</td>\n",
       "    </tr>\n",
       "  </tbody>\n",
       "</table>\n",
       "</div>"
      ],
      "text/plain": [
       "  Phone_Text  Phone_xmin  Phone_xmax Word_Text  Word_xmin  Word_xmax  Vowel  \\\n",
       "0         AH    4.589832    4.831125      !SIL   2.000000   4.361218      1   \n",
       "1         AY    5.481125    5.881125      mine   5.141125   6.111125      1   \n",
       "2         IH    6.161722    6.441125      mine   5.141125   6.111125      1   \n",
       "\n",
       "   Speaker  Phone_Duration  \n",
       "0        6        0.241293  \n",
       "1        6        0.400000  \n",
       "2        6        0.279403  "
      ]
     },
     "execution_count": 9,
     "metadata": {},
     "output_type": "execute_result"
    }
   ],
   "source": [
    "short_df.head(3)"
   ]
  },
  {
   "cell_type": "markdown",
   "metadata": {},
   "source": [
    "#### Chunk the original audio into segments of 1/8000th of a second "
   ]
  },
  {
   "cell_type": "code",
   "execution_count": 10,
   "metadata": {},
   "outputs": [],
   "source": [
    "vowel_indices = chunk_vowels_to_sr(short_df)"
   ]
  },
  {
   "cell_type": "markdown",
   "metadata": {},
   "source": [
    "##### Checking if this method worked"
   ]
  },
  {
   "cell_type": "code",
   "execution_count": 12,
   "metadata": {},
   "outputs": [
    {
     "data": {
      "text/plain": [
       "22.0005"
      ]
     },
     "execution_count": 12,
     "metadata": {},
     "output_type": "execute_result"
    }
   ],
   "source": [
    "# doing this, I predict that 22 seconds of the first 90 seconds of the data are vowels\n",
    "len(vowel_indices) / 8000"
   ]
  },
  {
   "cell_type": "code",
   "execution_count": 13,
   "metadata": {},
   "outputs": [
    {
     "data": {
      "text/plain": [
       "21.97939940385457"
      ]
     },
     "execution_count": 13,
     "metadata": {},
     "output_type": "execute_result"
    }
   ],
   "source": [
    "# checking the actual duration of vowel sounds in this section of the audio \n",
    "short_df.Phone_Duration.sum()"
   ]
  },
  {
   "cell_type": "code",
   "execution_count": 14,
   "metadata": {},
   "outputs": [
    {
     "data": {
      "text/plain": [
       "0.24445"
      ]
     },
     "execution_count": 14,
     "metadata": {},
     "output_type": "execute_result"
    }
   ],
   "source": [
    "# I am predicting that 24% of this section of the audio file is made up of vowel sounds. \n",
    "# Initially, I saw 12% of the audio was made up of vowel sounds\n",
    "len(vowel_indices) / (90 * 8000)"
   ]
  },
  {
   "cell_type": "markdown",
   "metadata": {},
   "source": [
    "### Calculate the metrics"
   ]
  },
  {
   "cell_type": "code",
   "execution_count": 12,
   "metadata": {},
   "outputs": [],
   "source": [
    "vowel_indices_binary = make_results_into_binary(vowel_indices)"
   ]
  },
  {
   "cell_type": "markdown",
   "metadata": {},
   "source": [
    "## Testing Different Filters"
   ]
  },
  {
   "cell_type": "code",
   "execution_count": 30,
   "metadata": {},
   "outputs": [],
   "source": [
    "# putting all results into a dataframe\n",
    "metric_df = pd.DataFrame()"
   ]
  },
  {
   "cell_type": "code",
   "execution_count": 31,
   "metadata": {},
   "outputs": [],
   "source": [
    "# trying all window sizes from 25 - 200\n",
    "metric_df_list = []\n",
    "for y in range(0, 36, 5): # 25 b/c I want 0.25 and the step has to be an integer. All cases where its used are divided by 10\n",
    "    for x in range(25, 201, 25):\n",
    "        single_filter_metric_dict = use_filter_and_calculate_metrics(x, (y/10), short_audio, vowel_indices_binary)\n",
    "        single_filter_metric_dict['window_size'] = x\n",
    "        single_filter_metric_dict['n_sigmas'] = (y/10)\n",
    "        single_metric_df = pd.DataFrame.from_dict(single_filter_metric_dict, orient='index').T\n",
    "        metric_df_list.append(single_metric_df)"
   ]
  },
  {
   "cell_type": "code",
   "execution_count": 32,
   "metadata": {},
   "outputs": [],
   "source": [
    "all_metric_values_df = pd.concat(metric_df_list)"
   ]
  },
  {
   "cell_type": "code",
   "execution_count": 33,
   "metadata": {},
   "outputs": [],
   "source": [
    "all_metric_values_df.sort_values(by='F1_score', inplace=True, ascending=False)"
   ]
  },
  {
   "cell_type": "code",
   "execution_count": 13,
   "metadata": {},
   "outputs": [
    {
     "ename": "NameError",
     "evalue": "name 'all_metric_values_df' is not defined",
     "output_type": "error",
     "traceback": [
      "\u001b[0;31m---------------------------------------------------------------------------\u001b[0m",
      "\u001b[0;31mNameError\u001b[0m                                 Traceback (most recent call last)",
      "\u001b[0;32m<ipython-input-13-b2693ef459ad>\u001b[0m in \u001b[0;36m<module>\u001b[0;34m\u001b[0m\n\u001b[0;32m----> 1\u001b[0;31m \u001b[0mall_metric_values_df\u001b[0m\u001b[0;34m.\u001b[0m\u001b[0mhead\u001b[0m\u001b[0;34m(\u001b[0m\u001b[0;36m5\u001b[0m\u001b[0;34m)\u001b[0m\u001b[0;34m\u001b[0m\u001b[0;34m\u001b[0m\u001b[0m\n\u001b[0m",
      "\u001b[0;31mNameError\u001b[0m: name 'all_metric_values_df' is not defined"
     ]
    }
   ],
   "source": [
    "all_metric_values_df.head(5)"
   ]
  },
  {
   "cell_type": "code",
   "execution_count": 35,
   "metadata": {},
   "outputs": [],
   "source": [
    "# all_metric_values_df.to_csv(\"First_round_of_hampel_filter_values.csv\")"
   ]
  },
  {
   "cell_type": "markdown",
   "metadata": {},
   "source": [
    "Couple of conclusions from this:\n",
    "- The maximum F1_score we can get from this is 0.42\n",
    "- Having a sigma of 0 means that all cases are predicted to be vowels\n",
    "- Recall (number of correct guesses) is almost always higher than precision (correctly choosing a vowel on a guess)\n",
    "- The lower sigma values did much better"
   ]
  },
  {
   "cell_type": "markdown",
   "metadata": {},
   "source": [
    "## Second round of testing filters"
   ]
  },
  {
   "cell_type": "markdown",
   "metadata": {},
   "source": [
    "In this round of testing, we'll focus on the lower sigma values. \n",
    "For both parameters, we'll test more values"
   ]
  },
  {
   "cell_type": "code",
   "execution_count": 20,
   "metadata": {},
   "outputs": [],
   "source": [
    "log_window_values = [x**4 for x in range(2, 7)]"
   ]
  },
  {
   "cell_type": "code",
   "execution_count": 21,
   "metadata": {},
   "outputs": [],
   "source": [
    "# putting all results into a dataframe\n",
    "metric_df2 = pd.DataFrame()"
   ]
  },
  {
   "cell_type": "code",
   "execution_count": 23,
   "metadata": {},
   "outputs": [],
   "source": [
    "# trying all window sizes from 25 - 200\n",
    "metric_df_list2 = []\n",
    "for y in range(1, 11, 1):\n",
    "    for x in log_window_values:\n",
    "        single_filter_metric_dict = use_filter_and_calculate_metrics(x, (y/10), short_audio, vowel_indices_binary)\n",
    "        single_filter_metric_dict['window_size'] = x\n",
    "        single_filter_metric_dict['n_sigmas'] = (y/10)\n",
    "        single_metric_df = pd.DataFrame.from_dict(single_filter_metric_dict, orient='index').T\n",
    "        metric_df_list2.append(single_metric_df)"
   ]
  },
  {
   "cell_type": "code",
   "execution_count": 24,
   "metadata": {},
   "outputs": [],
   "source": [
    "all_metric_values_df2 = pd.concat(metric_df_list2)"
   ]
  },
  {
   "cell_type": "code",
   "execution_count": 25,
   "metadata": {},
   "outputs": [],
   "source": [
    "all_metric_values_df2.sort_values(by='F1_score', inplace=True, ascending=False)"
   ]
  },
  {
   "cell_type": "code",
   "execution_count": 28,
   "metadata": {},
   "outputs": [
    {
     "data": {
      "text/html": [
       "<div>\n",
       "<style scoped>\n",
       "    .dataframe tbody tr th:only-of-type {\n",
       "        vertical-align: middle;\n",
       "    }\n",
       "\n",
       "    .dataframe tbody tr th {\n",
       "        vertical-align: top;\n",
       "    }\n",
       "\n",
       "    .dataframe thead th {\n",
       "        text-align: right;\n",
       "    }\n",
       "</style>\n",
       "<table border=\"1\" class=\"dataframe\">\n",
       "  <thead>\n",
       "    <tr style=\"text-align: right;\">\n",
       "      <th></th>\n",
       "      <th>F1_score</th>\n",
       "      <th>Recall</th>\n",
       "      <th>Precision</th>\n",
       "      <th>window_size</th>\n",
       "      <th>n_sigmas</th>\n",
       "    </tr>\n",
       "  </thead>\n",
       "  <tbody>\n",
       "    <tr>\n",
       "      <th>0</th>\n",
       "      <td>0.436068</td>\n",
       "      <td>0.813200</td>\n",
       "      <td>0.297908</td>\n",
       "      <td>16.0</td>\n",
       "      <td>0.2</td>\n",
       "    </tr>\n",
       "    <tr>\n",
       "      <th>0</th>\n",
       "      <td>0.435113</td>\n",
       "      <td>0.746324</td>\n",
       "      <td>0.307068</td>\n",
       "      <td>16.0</td>\n",
       "      <td>0.3</td>\n",
       "    </tr>\n",
       "    <tr>\n",
       "      <th>0</th>\n",
       "      <td>0.429632</td>\n",
       "      <td>0.680919</td>\n",
       "      <td>0.313820</td>\n",
       "      <td>16.0</td>\n",
       "      <td>0.4</td>\n",
       "    </tr>\n",
       "    <tr>\n",
       "      <th>0</th>\n",
       "      <td>0.427297</td>\n",
       "      <td>0.888708</td>\n",
       "      <td>0.281266</td>\n",
       "      <td>16.0</td>\n",
       "      <td>0.1</td>\n",
       "    </tr>\n",
       "    <tr>\n",
       "      <th>0</th>\n",
       "      <td>0.423631</td>\n",
       "      <td>0.499028</td>\n",
       "      <td>0.368027</td>\n",
       "      <td>1296.0</td>\n",
       "      <td>1.0</td>\n",
       "    </tr>\n",
       "  </tbody>\n",
       "</table>\n",
       "</div>"
      ],
      "text/plain": [
       "   F1_score    Recall  Precision  window_size  n_sigmas\n",
       "0  0.436068  0.813200   0.297908         16.0       0.2\n",
       "0  0.435113  0.746324   0.307068         16.0       0.3\n",
       "0  0.429632  0.680919   0.313820         16.0       0.4\n",
       "0  0.427297  0.888708   0.281266         16.0       0.1\n",
       "0  0.423631  0.499028   0.368027       1296.0       1.0"
      ]
     },
     "execution_count": 28,
     "metadata": {},
     "output_type": "execute_result"
    }
   ],
   "source": [
    "all_metric_values_df2.head()"
   ]
  },
  {
   "cell_type": "markdown",
   "metadata": {},
   "source": [
    "#### Saving the dataframe"
   ]
  },
  {
   "cell_type": "code",
   "execution_count": 27,
   "metadata": {},
   "outputs": [],
   "source": [
    "# all_metric_values_df2.to_csv(\"Second_round_of_hampel_filter_values.csv\")"
   ]
  },
  {
   "cell_type": "markdown",
   "metadata": {},
   "source": [
    "Final conclusions on this:\n",
    "- The maximum that this method can achieve, even after manual testing is an F1 score of about 0.43"
   ]
  },
  {
   "cell_type": "markdown",
   "metadata": {},
   "source": [
    "# Did the filter find all vowels? "
   ]
  },
  {
   "cell_type": "markdown",
   "metadata": {},
   "source": [
    "In the previous section, we were checking if the filter was able to find each of the samples for each vowel. This, of course, is a very precise task: it needed to find each part of the file that was a vowel to 1/8000th of a second precision. If we evaluate how many predictions were made for each of the vowels in the file, we could potentially have much better results. In other words, if there are 100 samples that are vowels, and our hampel filter finds 10 of them, according to our previous metrics it looks pretty bad. However, if it only made high-density predictions on actual vowels, this method might look a lot better."
   ]
  },
  {
   "cell_type": "markdown",
   "metadata": {},
   "source": [
    "## Counting number of predictions per vowel "
   ]
  },
  {
   "cell_type": "code",
   "execution_count": 14,
   "metadata": {},
   "outputs": [],
   "source": [
    "# new column to vowel_df that counts how many predictions were made for each vowel"
   ]
  },
  {
   "cell_type": "markdown",
   "metadata": {},
   "source": [
    "### window_size 16, 0.2 sigma"
   ]
  },
  {
   "cell_type": "code",
   "execution_count": 15,
   "metadata": {},
   "outputs": [],
   "source": [
    "new_series_16_2, indices_16_2 = hampel_filter_forloop_numba(short_audio, 16, 0.2)\n",
    "binary_indices_16_2 = make_results_into_binary(indices_16_2)"
   ]
  },
  {
   "cell_type": "code",
   "execution_count": 44,
   "metadata": {},
   "outputs": [
    {
     "data": {
      "text/html": [
       "<div>\n",
       "<style scoped>\n",
       "    .dataframe tbody tr th:only-of-type {\n",
       "        vertical-align: middle;\n",
       "    }\n",
       "\n",
       "    .dataframe tbody tr th {\n",
       "        vertical-align: top;\n",
       "    }\n",
       "\n",
       "    .dataframe thead th {\n",
       "        text-align: right;\n",
       "    }\n",
       "</style>\n",
       "<table border=\"1\" class=\"dataframe\">\n",
       "  <thead>\n",
       "    <tr style=\"text-align: right;\">\n",
       "      <th></th>\n",
       "      <th>Phone_Text</th>\n",
       "      <th>Phone_xmin</th>\n",
       "      <th>Phone_xmax</th>\n",
       "      <th>Word_Text</th>\n",
       "      <th>Word_xmin</th>\n",
       "      <th>Word_xmax</th>\n",
       "      <th>Vowel</th>\n",
       "      <th>Speaker</th>\n",
       "      <th>Phone_Duration</th>\n",
       "    </tr>\n",
       "  </thead>\n",
       "  <tbody>\n",
       "    <tr>\n",
       "      <th>0</th>\n",
       "      <td>AH</td>\n",
       "      <td>4.589832</td>\n",
       "      <td>4.831125</td>\n",
       "      <td>!SIL</td>\n",
       "      <td>2.000000</td>\n",
       "      <td>4.361218</td>\n",
       "      <td>1</td>\n",
       "      <td>6</td>\n",
       "      <td>0.241293</td>\n",
       "    </tr>\n",
       "    <tr>\n",
       "      <th>1</th>\n",
       "      <td>AY</td>\n",
       "      <td>5.481125</td>\n",
       "      <td>5.881125</td>\n",
       "      <td>mine</td>\n",
       "      <td>5.141125</td>\n",
       "      <td>6.111125</td>\n",
       "      <td>1</td>\n",
       "      <td>6</td>\n",
       "      <td>0.400000</td>\n",
       "    </tr>\n",
       "  </tbody>\n",
       "</table>\n",
       "</div>"
      ],
      "text/plain": [
       "  Phone_Text  Phone_xmin  Phone_xmax Word_Text  Word_xmin  Word_xmax  Vowel  \\\n",
       "0         AH    4.589832    4.831125      !SIL   2.000000   4.361218      1   \n",
       "1         AY    5.481125    5.881125      mine   5.141125   6.111125      1   \n",
       "\n",
       "   Speaker  Phone_Duration  \n",
       "0        6        0.241293  \n",
       "1        6        0.400000  "
      ]
     },
     "execution_count": 44,
     "metadata": {},
     "output_type": "execute_result"
    }
   ],
   "source": [
    "short_df.head(2)"
   ]
  },
  {
   "cell_type": "code",
   "execution_count": 46,
   "metadata": {},
   "outputs": [],
   "source": [
    "binary_indices_16_2_timepoints = []\n",
    "for idx, x in enumerate(binary_indices_16_2):\n",
    "    binary_indices_16_2_timepoints.append(x*idx)"
   ]
  },
  {
   "cell_type": "code",
   "execution_count": 48,
   "metadata": {},
   "outputs": [
    {
     "data": {
      "text/plain": [
       "178739128949.0"
      ]
     },
     "execution_count": 48,
     "metadata": {},
     "output_type": "execute_result"
    }
   ],
   "source": [
    "np.array(binary_indices_16_2_timepoints).sum()"
   ]
  },
  {
   "cell_type": "code",
   "execution_count": 19,
   "metadata": {},
   "outputs": [
    {
     "data": {
      "text/plain": [
       "170"
      ]
     },
     "execution_count": 19,
     "metadata": {},
     "output_type": "execute_result"
    }
   ],
   "source": [
    "short_df.shape[0]"
   ]
  },
  {
   "cell_type": "code",
   "execution_count": 49,
   "metadata": {},
   "outputs": [],
   "source": [
    "prediction_counter_list = []\n",
    "for x in range(short_df.shape[0]):\n",
    "    predictions_in_seconds = np.array(binary_indices_16_2_timepoints) / 8000\n",
    "    prediction_counter_binary = np.where((predictions_in_seconds > short_df['Phone_xmin'][x]) &\n",
    "                                  (predictions_in_seconds < short_df['Phone_xmax'][x]),\n",
    "                                         1, 0)\n",
    "    total = prediction_counter_binary.sum()\n",
    "    prediction_counter_list.append(total)"
   ]
  },
  {
   "cell_type": "code",
   "execution_count": 51,
   "metadata": {},
   "outputs": [
    {
     "data": {
      "text/plain": [
       "170"
      ]
     },
     "execution_count": 51,
     "metadata": {},
     "output_type": "execute_result"
    }
   ],
   "source": [
    "len(prediction_counter_list)"
   ]
  },
  {
   "cell_type": "code",
   "execution_count": 78,
   "metadata": {},
   "outputs": [
    {
     "data": {
      "text/plain": [
       "[1635, 2254, 1796, 1219, 673, 997, 1042, 543, 1158, 1300]"
      ]
     },
     "execution_count": 78,
     "metadata": {},
     "output_type": "execute_result"
    }
   ],
   "source": [
    "# the filter checks each sample, not just each one in a window\n",
    "prediction_counter_list[0:10]"
   ]
  },
  {
   "cell_type": "code",
   "execution_count": 59,
   "metadata": {},
   "outputs": [],
   "source": [
    "short_df['Sigma0.2_window16'] = prediction_counter_list"
   ]
  },
  {
   "cell_type": "code",
   "execution_count": 60,
   "metadata": {},
   "outputs": [],
   "source": [
    "short_df['Percent_of_16_2_predicted'] = short_df['Sigma0.2_window16'] / (short_df['Phone_Duration'] * 8000)"
   ]
  },
  {
   "cell_type": "code",
   "execution_count": 77,
   "metadata": {},
   "outputs": [
    {
     "data": {
      "text/html": [
       "<div>\n",
       "<style scoped>\n",
       "    .dataframe tbody tr th:only-of-type {\n",
       "        vertical-align: middle;\n",
       "    }\n",
       "\n",
       "    .dataframe tbody tr th {\n",
       "        vertical-align: top;\n",
       "    }\n",
       "\n",
       "    .dataframe thead th {\n",
       "        text-align: right;\n",
       "    }\n",
       "</style>\n",
       "<table border=\"1\" class=\"dataframe\">\n",
       "  <thead>\n",
       "    <tr style=\"text-align: right;\">\n",
       "      <th></th>\n",
       "      <th>Phone_Text</th>\n",
       "      <th>Phone_xmin</th>\n",
       "      <th>Phone_xmax</th>\n",
       "      <th>Word_Text</th>\n",
       "      <th>Word_xmin</th>\n",
       "      <th>Word_xmax</th>\n",
       "      <th>Vowel</th>\n",
       "      <th>Speaker</th>\n",
       "      <th>Phone_Duration</th>\n",
       "      <th>Sigma0.2_window16</th>\n",
       "      <th>Percent_of_16_2_predicted</th>\n",
       "    </tr>\n",
       "  </thead>\n",
       "  <tbody>\n",
       "    <tr>\n",
       "      <th>0</th>\n",
       "      <td>AH</td>\n",
       "      <td>4.589832</td>\n",
       "      <td>4.831125</td>\n",
       "      <td>!SIL</td>\n",
       "      <td>2.000000</td>\n",
       "      <td>4.361218</td>\n",
       "      <td>1</td>\n",
       "      <td>6</td>\n",
       "      <td>0.241293</td>\n",
       "      <td>1635</td>\n",
       "      <td>0.847000</td>\n",
       "    </tr>\n",
       "    <tr>\n",
       "      <th>1</th>\n",
       "      <td>AY</td>\n",
       "      <td>5.481125</td>\n",
       "      <td>5.881125</td>\n",
       "      <td>mine</td>\n",
       "      <td>5.141125</td>\n",
       "      <td>6.111125</td>\n",
       "      <td>1</td>\n",
       "      <td>6</td>\n",
       "      <td>0.400000</td>\n",
       "      <td>2254</td>\n",
       "      <td>0.704375</td>\n",
       "    </tr>\n",
       "  </tbody>\n",
       "</table>\n",
       "</div>"
      ],
      "text/plain": [
       "  Phone_Text  Phone_xmin  Phone_xmax Word_Text  Word_xmin  Word_xmax  Vowel  \\\n",
       "0         AH    4.589832    4.831125      !SIL   2.000000   4.361218      1   \n",
       "1         AY    5.481125    5.881125      mine   5.141125   6.111125      1   \n",
       "\n",
       "   Speaker  Phone_Duration  Sigma0.2_window16  Percent_of_16_2_predicted  \n",
       "0        6        0.241293               1635                   0.847000  \n",
       "1        6        0.400000               2254                   0.704375  "
      ]
     },
     "execution_count": 77,
     "metadata": {},
     "output_type": "execute_result"
    }
   ],
   "source": [
    "short_df.head(2)"
   ]
  },
  {
   "cell_type": "markdown",
   "metadata": {},
   "source": [
    "#### Evaluating the success of window size 16, sigma 0.2"
   ]
  },
  {
   "cell_type": "code",
   "execution_count": 64,
   "metadata": {},
   "outputs": [
    {
     "data": {
      "text/plain": [
       "0.6187500000000132"
      ]
     },
     "execution_count": 64,
     "metadata": {},
     "output_type": "execute_result"
    }
   ],
   "source": [
    "short_df['Percent_of_16_2_predicted'].min()"
   ]
  },
  {
   "cell_type": "code",
   "execution_count": 65,
   "metadata": {},
   "outputs": [
    {
     "data": {
      "text/plain": [
       "0.9120826728242175"
      ]
     },
     "execution_count": 65,
     "metadata": {},
     "output_type": "execute_result"
    }
   ],
   "source": [
    "short_df['Percent_of_16_2_predicted'].max()"
   ]
  },
  {
   "cell_type": "code",
   "execution_count": 66,
   "metadata": {
    "code_folding": []
   },
   "outputs": [],
   "source": [
    "# So this filter predicted most of the vowel for all cases"
   ]
  },
  {
   "cell_type": "code",
   "execution_count": 68,
   "metadata": {
    "code_folding": []
   },
   "outputs": [
    {
     "data": {
      "text/plain": [
       "<matplotlib.axes._subplots.AxesSubplot at 0x1c296f66d8>"
      ]
     },
     "execution_count": 68,
     "metadata": {},
     "output_type": "execute_result"
    },
    {
     "data": {
      "image/png": "[encoded data removed]",
      "text/plain": [
       "<Figure size 432x288 with 1 Axes>"
      ]
     },
     "metadata": {
      "needs_background": "light"
     },
     "output_type": "display_data"
    }
   ],
   "source": [
    "# visualizing the distribution of the percent correct\n",
    "short_df['Percent_of_16_2_predicted'].plot(kind='hist')"
   ]
  },
  {
   "cell_type": "code",
   "execution_count": 74,
   "metadata": {},
   "outputs": [
    {
     "data": {
      "text/plain": [
       "Phone_Text                   0.964706\n",
       "Phone_xmin                   0.964706\n",
       "Phone_xmax                   0.964706\n",
       "Word_Text                    0.964706\n",
       "Word_xmin                    0.964706\n",
       "Word_xmax                    0.964706\n",
       "Vowel                        0.964706\n",
       "Speaker                      0.964706\n",
       "Phone_Duration               0.964706\n",
       "Sigma0.2_window16            0.964706\n",
       "Percent_of_16_2_predicted    0.964706\n",
       "dtype: float64"
      ]
     },
     "execution_count": 74,
     "metadata": {},
     "output_type": "execute_result"
    }
   ],
   "source": [
    "# how many of the vowels had a prediction percentage above 70%?\n",
    "short_df[short_df['Percent_of_16_2_predicted'] > 0.7].count() / short_df.shape[0]"
   ]
  },
  {
   "cell_type": "markdown",
   "metadata": {},
   "source": [
    "In 96.5 % of cases, if the filter predicted at least 70% of the samples of the segment to be a vowel, it was actually a vowel. Not entirely sure what the F1 score would be for that, but I assume very high. "
   ]
  },
  {
   "cell_type": "markdown",
   "metadata": {},
   "source": [
    "What does this mean? This means that if we had a pre-segmented file for each of the speech sounds, we could find at least 96% of the vowels. One caveat to this is that we are not sure how imprecise the filter is. In other words, if it ONLY predicted vowel, this still may hold true but would be useless. Thus, I will see how this filter did on non-vowels, too."
   ]
  },
  {
   "cell_type": "markdown",
   "metadata": {},
   "source": [
    "#### Evaluating success/failure of hampel filter "
   ]
  },
  {
   "cell_type": "code",
   "execution_count": 75,
   "metadata": {},
   "outputs": [],
   "source": [
    "df_90 = df[df['Phone_xmax'] < 90].reset_index(drop = True)"
   ]
  },
  {
   "cell_type": "code",
   "execution_count": 90,
   "metadata": {},
   "outputs": [
    {
     "data": {
      "text/html": [
       "<div>\n",
       "<style scoped>\n",
       "    .dataframe tbody tr th:only-of-type {\n",
       "        vertical-align: middle;\n",
       "    }\n",
       "\n",
       "    .dataframe tbody tr th {\n",
       "        vertical-align: top;\n",
       "    }\n",
       "\n",
       "    .dataframe thead th {\n",
       "        text-align: right;\n",
       "    }\n",
       "</style>\n",
       "<table border=\"1\" class=\"dataframe\">\n",
       "  <thead>\n",
       "    <tr style=\"text-align: right;\">\n",
       "      <th></th>\n",
       "      <th>Phone_Text</th>\n",
       "      <th>Phone_xmin</th>\n",
       "      <th>Phone_xmax</th>\n",
       "      <th>Word_Text</th>\n",
       "      <th>Word_xmin</th>\n",
       "      <th>Word_xmax</th>\n",
       "      <th>Vowel</th>\n",
       "      <th>Speaker</th>\n",
       "      <th>Phone_Duration</th>\n",
       "      <th>Sigma0.2_window16</th>\n",
       "      <th>Percent_of_16_2_predicted</th>\n",
       "    </tr>\n",
       "  </thead>\n",
       "  <tbody>\n",
       "    <tr>\n",
       "      <th>0</th>\n",
       "      <td>NaN</td>\n",
       "      <td>0.0</td>\n",
       "      <td>2.000000</td>\n",
       "      <td>NaN</td>\n",
       "      <td>0.0</td>\n",
       "      <td>2.000000</td>\n",
       "      <td>0</td>\n",
       "      <td>6</td>\n",
       "      <td>2.000000</td>\n",
       "      <td>60</td>\n",
       "      <td>0.003750</td>\n",
       "    </tr>\n",
       "    <tr>\n",
       "      <th>1</th>\n",
       "      <td>!SIL</td>\n",
       "      <td>2.0</td>\n",
       "      <td>4.589832</td>\n",
       "      <td>!SIL</td>\n",
       "      <td>2.0</td>\n",
       "      <td>4.361218</td>\n",
       "      <td>0</td>\n",
       "      <td>6</td>\n",
       "      <td>2.589832</td>\n",
       "      <td>12284</td>\n",
       "      <td>0.592896</td>\n",
       "    </tr>\n",
       "  </tbody>\n",
       "</table>\n",
       "</div>"
      ],
      "text/plain": [
       "  Phone_Text  Phone_xmin  Phone_xmax Word_Text  Word_xmin  Word_xmax  Vowel  \\\n",
       "0        NaN         0.0    2.000000       NaN        0.0   2.000000      0   \n",
       "1       !SIL         2.0    4.589832      !SIL        2.0   4.361218      0   \n",
       "\n",
       "   Speaker  Phone_Duration  Sigma0.2_window16  Percent_of_16_2_predicted  \n",
       "0        6        2.000000                 60                   0.003750  \n",
       "1        6        2.589832              12284                   0.592896  "
      ]
     },
     "execution_count": 90,
     "metadata": {},
     "output_type": "execute_result"
    }
   ],
   "source": [
    "df_90.head(2)"
   ]
  },
  {
   "cell_type": "code",
   "execution_count": 80,
   "metadata": {},
   "outputs": [],
   "source": [
    "prediction_counter_list2 = []\n",
    "predictions_in_seconds2 = np.array(binary_indices_16_2_timepoints) / 8000\n",
    "for x in range(df_90.shape[0]):\n",
    "    prediction_counter_binary2 = np.where((predictions_in_seconds2 > df_90['Phone_xmin'][x]) &\n",
    "                                  (predictions_in_seconds2 < df_90['Phone_xmax'][x]),\n",
    "                                         1, 0)\n",
    "    total2 = prediction_counter_binary2.sum()\n",
    "    prediction_counter_list2.append(total2)"
   ]
  },
  {
   "cell_type": "code",
   "execution_count": 82,
   "metadata": {},
   "outputs": [
    {
     "data": {
      "text/plain": [
       "464"
      ]
     },
     "execution_count": 82,
     "metadata": {},
     "output_type": "execute_result"
    }
   ],
   "source": [
    "len(prediction_counter_list2)"
   ]
  },
  {
   "cell_type": "code",
   "execution_count": 83,
   "metadata": {},
   "outputs": [],
   "source": [
    "df_90['Sigma0.2_window16'] = prediction_counter_list2"
   ]
  },
  {
   "cell_type": "code",
   "execution_count": 84,
   "metadata": {},
   "outputs": [],
   "source": [
    "df_90['Percent_of_16_2_predicted'] = df_90['Sigma0.2_window16'] / (df_90['Phone_Duration'] * 8000)"
   ]
  },
  {
   "cell_type": "code",
   "execution_count": 86,
   "metadata": {},
   "outputs": [
    {
     "data": {
      "text/html": [
       "<div>\n",
       "<style scoped>\n",
       "    .dataframe tbody tr th:only-of-type {\n",
       "        vertical-align: middle;\n",
       "    }\n",
       "\n",
       "    .dataframe tbody tr th {\n",
       "        vertical-align: top;\n",
       "    }\n",
       "\n",
       "    .dataframe thead th {\n",
       "        text-align: right;\n",
       "    }\n",
       "</style>\n",
       "<table border=\"1\" class=\"dataframe\">\n",
       "  <thead>\n",
       "    <tr style=\"text-align: right;\">\n",
       "      <th></th>\n",
       "      <th>Phone_Text</th>\n",
       "      <th>Phone_xmin</th>\n",
       "      <th>Phone_xmax</th>\n",
       "      <th>Word_Text</th>\n",
       "      <th>Word_xmin</th>\n",
       "      <th>Word_xmax</th>\n",
       "      <th>Vowel</th>\n",
       "      <th>Speaker</th>\n",
       "      <th>Phone_Duration</th>\n",
       "      <th>Sigma0.2_window16</th>\n",
       "      <th>Percent_of_16_2_predicted</th>\n",
       "    </tr>\n",
       "  </thead>\n",
       "  <tbody>\n",
       "    <tr>\n",
       "      <th>0</th>\n",
       "      <td>NaN</td>\n",
       "      <td>0.0</td>\n",
       "      <td>2.000000</td>\n",
       "      <td>NaN</td>\n",
       "      <td>0.0</td>\n",
       "      <td>2.000000</td>\n",
       "      <td>0</td>\n",
       "      <td>6</td>\n",
       "      <td>2.000000</td>\n",
       "      <td>60</td>\n",
       "      <td>0.003750</td>\n",
       "    </tr>\n",
       "    <tr>\n",
       "      <th>1</th>\n",
       "      <td>!SIL</td>\n",
       "      <td>2.0</td>\n",
       "      <td>4.589832</td>\n",
       "      <td>!SIL</td>\n",
       "      <td>2.0</td>\n",
       "      <td>4.361218</td>\n",
       "      <td>0</td>\n",
       "      <td>6</td>\n",
       "      <td>2.589832</td>\n",
       "      <td>12284</td>\n",
       "      <td>0.592896</td>\n",
       "    </tr>\n",
       "  </tbody>\n",
       "</table>\n",
       "</div>"
      ],
      "text/plain": [
       "  Phone_Text  Phone_xmin  Phone_xmax Word_Text  Word_xmin  Word_xmax  Vowel  \\\n",
       "0        NaN         0.0    2.000000       NaN        0.0   2.000000      0   \n",
       "1       !SIL         2.0    4.589832      !SIL        2.0   4.361218      0   \n",
       "\n",
       "   Speaker  Phone_Duration  Sigma0.2_window16  Percent_of_16_2_predicted  \n",
       "0        6        2.000000                 60                   0.003750  \n",
       "1        6        2.589832              12284                   0.592896  "
      ]
     },
     "execution_count": 86,
     "metadata": {},
     "output_type": "execute_result"
    }
   ],
   "source": [
    "df_90.head(2)"
   ]
  },
  {
   "cell_type": "code",
   "execution_count": 87,
   "metadata": {},
   "outputs": [],
   "source": [
    "# grouping by vowel column and getting average percent predicted\n",
    "df_90_vowel_group = df_90.groupby(['Vowel']).Percent_of_16_2_predicted.mean()"
   ]
  },
  {
   "cell_type": "code",
   "execution_count": 89,
   "metadata": {},
   "outputs": [
    {
     "data": {
      "text/plain": [
       "Vowel\n",
       "0    0.734389\n",
       "1    0.813252\n",
       "Name: Percent_of_16_2_predicted, dtype: float64"
      ]
     },
     "execution_count": 89,
     "metadata": {},
     "output_type": "execute_result"
    }
   ],
   "source": [
    "df_90_vowel_group"
   ]
  },
  {
   "cell_type": "markdown",
   "metadata": {},
   "source": [
    "Conclusions:\n",
    "- A low sigma, low window hampel filter isn't particularly precise in picking vowels\n",
    "- There is only a slight difference in mean percent vowel-predictions for each class of speech sounds"
   ]
  },
  {
   "cell_type": "code",
   "execution_count": 103,
   "metadata": {},
   "outputs": [],
   "source": [
    "# Picking a hampel filter that is more precise\n",
    "metrics2 = pd.read_csv(\"corrected_textgrid/metrics/Second_round_of_hampel_filter_values.csv\", index_col = 0)\n",
    "metrics2.set_index('Precision', inplace=True)"
   ]
  },
  {
   "cell_type": "code",
   "execution_count": 112,
   "metadata": {},
   "outputs": [
    {
     "data": {
      "text/html": [
       "<div>\n",
       "<style scoped>\n",
       "    .dataframe tbody tr th:only-of-type {\n",
       "        vertical-align: middle;\n",
       "    }\n",
       "\n",
       "    .dataframe tbody tr th {\n",
       "        vertical-align: top;\n",
       "    }\n",
       "\n",
       "    .dataframe thead th {\n",
       "        text-align: right;\n",
       "    }\n",
       "</style>\n",
       "<table border=\"1\" class=\"dataframe\">\n",
       "  <thead>\n",
       "    <tr style=\"text-align: right;\">\n",
       "      <th></th>\n",
       "      <th>F1_score</th>\n",
       "      <th>Recall</th>\n",
       "      <th>window_size</th>\n",
       "      <th>n_sigmas</th>\n",
       "    </tr>\n",
       "    <tr>\n",
       "      <th>Precision</th>\n",
       "      <th></th>\n",
       "      <th></th>\n",
       "      <th></th>\n",
       "      <th></th>\n",
       "    </tr>\n",
       "  </thead>\n",
       "  <tbody>\n",
       "    <tr>\n",
       "      <th>0.297908</th>\n",
       "      <td>0.436068</td>\n",
       "      <td>0.813200</td>\n",
       "      <td>16.0</td>\n",
       "      <td>0.2</td>\n",
       "    </tr>\n",
       "    <tr>\n",
       "      <th>0.307068</th>\n",
       "      <td>0.435113</td>\n",
       "      <td>0.746324</td>\n",
       "      <td>16.0</td>\n",
       "      <td>0.3</td>\n",
       "    </tr>\n",
       "  </tbody>\n",
       "</table>\n",
       "</div>"
      ],
      "text/plain": [
       "           F1_score    Recall  window_size  n_sigmas\n",
       "Precision                                           \n",
       "0.297908   0.436068  0.813200         16.0       0.2\n",
       "0.307068   0.435113  0.746324         16.0       0.3"
      ]
     },
     "execution_count": 112,
     "metadata": {},
     "output_type": "execute_result"
    }
   ],
   "source": [
    "metrics2.head(2)"
   ]
  },
  {
   "cell_type": "code",
   "execution_count": 113,
   "metadata": {},
   "outputs": [
    {
     "data": {
      "text/html": [
       "<div>\n",
       "<style scoped>\n",
       "    .dataframe tbody tr th:only-of-type {\n",
       "        vertical-align: middle;\n",
       "    }\n",
       "\n",
       "    .dataframe tbody tr th {\n",
       "        vertical-align: top;\n",
       "    }\n",
       "\n",
       "    .dataframe thead th {\n",
       "        text-align: right;\n",
       "    }\n",
       "</style>\n",
       "<table border=\"1\" class=\"dataframe\">\n",
       "  <thead>\n",
       "    <tr style=\"text-align: right;\">\n",
       "      <th></th>\n",
       "      <th>F1_score</th>\n",
       "      <th>Recall</th>\n",
       "      <th>window_size</th>\n",
       "      <th>n_sigmas</th>\n",
       "    </tr>\n",
       "    <tr>\n",
       "      <th>Precision</th>\n",
       "      <th></th>\n",
       "      <th></th>\n",
       "      <th></th>\n",
       "      <th></th>\n",
       "    </tr>\n",
       "  </thead>\n",
       "  <tbody>\n",
       "    <tr>\n",
       "      <th>0.380554</th>\n",
       "      <td>0.346433</td>\n",
       "      <td>0.317928</td>\n",
       "      <td>16.0</td>\n",
       "      <td>1.0</td>\n",
       "    </tr>\n",
       "    <tr>\n",
       "      <th>0.368027</th>\n",
       "      <td>0.423631</td>\n",
       "      <td>0.499028</td>\n",
       "      <td>1296.0</td>\n",
       "      <td>1.0</td>\n",
       "    </tr>\n",
       "    <tr>\n",
       "      <th>0.365395</th>\n",
       "      <td>0.366200</td>\n",
       "      <td>0.367008</td>\n",
       "      <td>16.0</td>\n",
       "      <td>0.9</td>\n",
       "    </tr>\n",
       "  </tbody>\n",
       "</table>\n",
       "</div>"
      ],
      "text/plain": [
       "           F1_score    Recall  window_size  n_sigmas\n",
       "Precision                                           \n",
       "0.380554   0.346433  0.317928         16.0       1.0\n",
       "0.368027   0.423631  0.499028       1296.0       1.0\n",
       "0.365395   0.366200  0.367008         16.0       0.9"
      ]
     },
     "execution_count": 113,
     "metadata": {},
     "output_type": "execute_result"
    }
   ],
   "source": [
    "metrics2.sort_values(by = 'Precision', ascending=False).head(3)"
   ]
  },
  {
   "cell_type": "markdown",
   "metadata": {},
   "source": [
    "### window_size 1296, 1 sigma"
   ]
  },
  {
   "cell_type": "code",
   "execution_count": 114,
   "metadata": {},
   "outputs": [],
   "source": [
    "# window_size 1296, 1 sigma is more precise (0.38 compared to 0.29) while having a similar f1 score"
   ]
  },
  {
   "cell_type": "code",
   "execution_count": 115,
   "metadata": {},
   "outputs": [],
   "source": [
    "new_series_1296_1, indices_1296_1 = hampel_filter_forloop_numba(short_audio, 1296, 1)\n",
    "binary_indices_1296_1 = make_results_into_binary(indices_1296_1)"
   ]
  },
  {
   "cell_type": "code",
   "execution_count": 116,
   "metadata": {},
   "outputs": [],
   "source": [
    "binary_indices_1296_1_timepoints = []\n",
    "for idx, x in enumerate(binary_indices_1296_1):\n",
    "    binary_indices_1296_1_timepoints.append(x*idx)"
   ]
  },
  {
   "cell_type": "code",
   "execution_count": 118,
   "metadata": {},
   "outputs": [],
   "source": [
    "prediction_counter_list3 = []\n",
    "predictions_in_seconds3 = np.array(binary_indices_1296_1_timepoints) / 8000\n",
    "for x in range(df_90.shape[0]):\n",
    "    prediction_counter_binary3 = np.where((predictions_in_seconds3 > df_90['Phone_xmin'][x]) &\n",
    "                                  (predictions_in_seconds3 < df_90['Phone_xmax'][x]),\n",
    "                                         1, 0)\n",
    "    total3 = prediction_counter_binary3.sum()\n",
    "    prediction_counter_list3.append(total3)"
   ]
  },
  {
   "cell_type": "code",
   "execution_count": 120,
   "metadata": {},
   "outputs": [],
   "source": [
    "df_90['Sigma1_window1296'] = prediction_counter_list3"
   ]
  },
  {
   "cell_type": "code",
   "execution_count": 122,
   "metadata": {},
   "outputs": [],
   "source": [
    "df_90['Percent_of_1296_1_predicted'] = df_90['Sigma1_window1296'] / (df_90['Phone_Duration'] * 8000)"
   ]
  },
  {
   "cell_type": "code",
   "execution_count": 123,
   "metadata": {},
   "outputs": [],
   "source": [
    "# grouping by vowel column and getting average percent predicted\n",
    "df_90_vowel_group2 = df_90.groupby(['Vowel']).Percent_of_1296_1_predicted.mean()"
   ]
  },
  {
   "cell_type": "code",
   "execution_count": 124,
   "metadata": {},
   "outputs": [
    {
     "data": {
      "text/plain": [
       "Vowel\n",
       "0    0.322893\n",
       "1    0.515288\n",
       "Name: Percent_of_1296_1_predicted, dtype: float64"
      ]
     },
     "execution_count": 124,
     "metadata": {},
     "output_type": "execute_result"
    }
   ],
   "source": [
    "df_90_vowel_group2"
   ]
  },
  {
   "cell_type": "code",
   "execution_count": 135,
   "metadata": {},
   "outputs": [],
   "source": [
    "df_90_sigma1_vowel = df_90[(df_90['Vowel'] == 1)]['Percent_of_1296_1_predicted']"
   ]
  },
  {
   "cell_type": "code",
   "execution_count": 137,
   "metadata": {},
   "outputs": [],
   "source": [
    "df_90_sigma1_not_vowel = df_90[(df_90['Vowel'] == 0)]['Percent_of_1296_1_predicted']"
   ]
  },
  {
   "cell_type": "code",
   "execution_count": 140,
   "metadata": {},
   "outputs": [
    {
     "data": {
      "text/plain": [
       "<matplotlib.axes._subplots.AxesSubplot at 0x119e17518>"
      ]
     },
     "execution_count": 140,
     "metadata": {},
     "output_type": "execute_result"
    },
    {
     "data": {
      "image/png": "[encoded data removed]",
      "text/plain": [
       "<Figure size 432x288 with 1 Axes>"
      ]
     },
     "metadata": {
      "needs_background": "light"
     },
     "output_type": "display_data"
    }
   ],
   "source": [
    "sns.kdeplot(df_90_sigma1_vowel)"
   ]
  },
  {
   "cell_type": "code",
   "execution_count": 141,
   "metadata": {},
   "outputs": [
    {
     "data": {
      "text/plain": [
       "<matplotlib.axes._subplots.AxesSubplot at 0x1c2e62ffd0>"
      ]
     },
     "execution_count": 141,
     "metadata": {},
     "output_type": "execute_result"
    },
    {
     "data": {
      "image/png": "[encoded data removed]",
      "text/plain": [
       "<Figure size 432x288 with 1 Axes>"
      ]
     },
     "metadata": {
      "needs_background": "light"
     },
     "output_type": "display_data"
    }
   ],
   "source": [
    "sns.kdeplot(df_90_sigma1_not_vowel)"
   ]
  },
  {
   "cell_type": "markdown",
   "metadata": {},
   "source": [
    "Not much of a difference between the two charts, must be a lot of overlap"
   ]
  },
  {
   "cell_type": "markdown",
   "metadata": {},
   "source": [
    "# Conclusion"
   ]
  },
  {
   "cell_type": "markdown",
   "metadata": {},
   "source": [
    "This method probably needs larger outlier variation than what is found in speech signals. In combination with other models/methods of classification, it may help, but on its own it is not very effective. There is simply not a large enough difference between vowels and non-vowels to make this method feasible on its own. "
   ]
  }
 ],
 "metadata": {
  "kernelspec": {
   "display_name": "Python [conda env:learn-env] *",
   "language": "python",
   "name": "conda-env-learn-env-py"
  },
  "language_info": {
   "codemirror_mode": {
    "name": "ipython",
    "version": 3
   },
   "file_extension": ".py",
   "mimetype": "text/x-python",
   "name": "python",
   "nbconvert_exporter": "python",
   "pygments_lexer": "ipython3",
   "version": "3.6.9"
  },
  "toc": {
   "base_numbering": 1,
   "nav_menu": {},
   "number_sections": true,
   "sideBar": true,
   "skip_h1_title": false,
   "title_cell": "Table of Contents",
   "title_sidebar": "Contents",
   "toc_cell": false,
   "toc_position": {
    "height": "calc(100% - 180px)",
    "left": "10px",
    "top": "150px",
    "width": "288px"
   },
   "toc_section_display": true,
   "toc_window_display": true
  },
  "varInspector": {
   "cols": {
    "lenName": 16,
    "lenType": 16,
    "lenVar": 40
   },
   "kernels_config": {
    "python": {
     "delete_cmd_postfix": "",
     "delete_cmd_prefix": "del ",
     "library": "var_list.py",
     "varRefreshCmd": "print(var_dic_list())"
    },
    "r": {
     "delete_cmd_postfix": ") ",
     "delete_cmd_prefix": "rm(",
     "library": "var_list.r",
     "varRefreshCmd": "cat(var_dic_list()) "
    }
   },
   "types_to_exclude": [
    "module",
    "function",
    "builtin_function_or_method",
    "instance",
    "_Feature"
   ],
   "window_display": false
  }
 },
 "nbformat": 4,
 "nbformat_minor": 2
}
