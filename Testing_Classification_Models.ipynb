{
 "cells": [
  {
   "cell_type": "markdown",
   "metadata": {},
   "source": [
    "**Testing Classification Models**"
   ]
  },
  {
   "cell_type": "markdown",
   "metadata": {},
   "source": [
    "# Imports"
   ]
  },
  {
   "cell_type": "markdown",
   "metadata": {},
   "source": [
    "## Libraries"
   ]
  },
  {
   "cell_type": "code",
   "execution_count": 272,
   "metadata": {},
   "outputs": [],
   "source": [
    "import os\n",
    "import pandas as pd\n",
    "import glob\n",
    "import matplotlib\n",
    "import matplotlib.pyplot as plt\n",
    "%matplotlib inline\n",
    "matplotlib.rcParams.update({'font.size': 12})\n",
    "import numpy as np\n",
    "import librosa\n",
    "import numba \n",
    "from numba import jit\n",
    "import warnings # from https://stackoverflow.com/questions/14463277/how-to-disable-python-warnings\n",
    "def fxn():\n",
    "    warnings.warn(\"deprecated\", DeprecationWarning)\n",
    "with warnings.catch_warnings():\n",
    "    warnings.simplefilter(\"ignore\")\n",
    "    fxn()\n",
    "from functions import *\n",
    "from sklearn.metrics import confusion_matrix, recall_score, precision_score, f1_score\n",
    "import seaborn as sns\n",
    "import speechpy\n",
    "from sklearn.model_selection import GridSearchCV, train_test_split, cross_val_score\n",
    "from sklearn.ensemble import RandomForestClassifier, BaggingClassifier\n",
    "from imblearn.ensemble import BalancedRandomForestClassifier, BalancedBaggingClassifier, EasyEnsembleClassifier\n",
    "import sklearn\n",
    "import pickle\n",
    "import keras\n",
    "from keras.layers import Dense, Dropout, Activation, Conv1D, GlobalMaxPooling1D, Embedding, MaxPooling1D, Flatten\n",
    "from keras.models import Sequential, load_model\n",
    "from keras.utils import to_categorical\n",
    "from keras import backend as K\n",
    "from sklearn.metrics import classification_report, confusion_matrix\n",
    "from keras.callbacks import EarlyStopping,ModelCheckpoint\n",
    "import plotly.express as px\n",
    "import plotly.graph_objects as go\n",
    "from sklearn.metrics import confusion_matrix, recall_score, precision_score, f1_score\n",
    "import itertools\n",
    "from imblearn.over_sampling import SMOTE \n",
    "from imblearn.under_sampling import RandomUnderSampler\n",
    "import math"
   ]
  },
  {
   "cell_type": "markdown",
   "metadata": {},
   "source": [
    "## Dataframe"
   ]
  },
  {
   "cell_type": "code",
   "execution_count": 2,
   "metadata": {},
   "outputs": [],
   "source": [
    "df = pd.read_csv(\"combined_corrected_textgrids\", index_col= 0)"
   ]
  },
  {
   "cell_type": "markdown",
   "metadata": {},
   "source": [
    "# Random Forest Using Hampel Filter"
   ]
  },
  {
   "cell_type": "markdown",
   "metadata": {},
   "source": [
    "For this section, I'll use the Hampel Filter as one of many features used to determine whether a piece of an audio files is a vowel or not. Here are the features I'll use:\n",
    "- Whether if passes the  Hampel Filter\n",
    "- The speaker (unclear actually, if the audio was single channel, then yes)\n",
    "- Each of the MFCC values "
   ]
  },
  {
   "cell_type": "markdown",
   "metadata": {},
   "source": [
    "## Making DataFrame for all of corrected textgrid"
   ]
  },
  {
   "cell_type": "markdown",
   "metadata": {},
   "source": [
    "Making the hampel filter and mfcc features into the same time scale needs to be addressed first. Doing it this way, will give us a feature \"passed_hampel_filter\" while having other information to draw on."
   ]
  },
  {
   "cell_type": "markdown",
   "metadata": {},
   "source": [
    "#### Getting full length audio"
   ]
  },
  {
   "cell_type": "code",
   "execution_count": 3,
   "metadata": {},
   "outputs": [],
   "source": [
    "long_audio, sr = librosa.load(\"./original_en_diapix_data/DP_ENF_02_ENF_06_EN_ENF_02_DP_ENF_02_ENF_06_EN_ENF_06.wav\", sr = 8000)"
   ]
  },
  {
   "cell_type": "markdown",
   "metadata": {},
   "source": [
    "### Getting mfcc for whole file"
   ]
  },
  {
   "cell_type": "code",
   "execution_count": 4,
   "metadata": {},
   "outputs": [
    {
     "data": {
      "text/plain": [
       "200.0"
      ]
     },
     "execution_count": 4,
     "metadata": {},
     "output_type": "execute_result"
    }
   ],
   "source": [
    "# 200 samples per second\n",
    "0.025*8000"
   ]
  },
  {
   "cell_type": "code",
   "execution_count": 5,
   "metadata": {},
   "outputs": [],
   "source": [
    "mfcc_long_audio = speechpy.feature.mfcc(signal = long_audio, sampling_frequency = 8000, frame_length = 0.025, \n",
    "                             frame_stride = 0.025)"
   ]
  },
  {
   "cell_type": "code",
   "execution_count": 6,
   "metadata": {},
   "outputs": [
    {
     "data": {
      "text/plain": [
       "21103"
      ]
     },
     "execution_count": 6,
     "metadata": {},
     "output_type": "execute_result"
    }
   ],
   "source": [
    "len(mfcc_long_audio)"
   ]
  },
  {
   "cell_type": "markdown",
   "metadata": {},
   "source": [
    "#### examining output of mfcc"
   ]
  },
  {
   "cell_type": "code",
   "execution_count": 7,
   "metadata": {},
   "outputs": [
    {
     "data": {
      "text/plain": [
       "(21103, 13)"
      ]
     },
     "execution_count": 7,
     "metadata": {},
     "output_type": "execute_result"
    }
   ],
   "source": [
    "mfcc_long_audio.shape"
   ]
  },
  {
   "cell_type": "code",
   "execution_count": 8,
   "metadata": {},
   "outputs": [
    {
     "data": {
      "text/plain": [
       "array([-36.04365339,   0.        ,   0.        ,   0.        ,\n",
       "         0.        ,   0.        ,   0.        ,   0.        ,\n",
       "         0.        ,   0.        ,   0.        ,   0.        ,\n",
       "         0.        ])"
      ]
     },
     "execution_count": 8,
     "metadata": {},
     "output_type": "execute_result"
    }
   ],
   "source": [
    "mfcc_long_audio[0]"
   ]
  },
  {
   "cell_type": "markdown",
   "metadata": {},
   "source": [
    "#### Turning into a dataframe\n",
    "https://stackoverflow.com/questions/20763012/creating-a-pandas-dataframe-from-a-numpy-array-how-do-i-specify-the-index-colum"
   ]
  },
  {
   "cell_type": "code",
   "execution_count": 9,
   "metadata": {},
   "outputs": [],
   "source": [
    "cols = ['MFCC_'+str(i) for i in range(1, 13+1)]"
   ]
  },
  {
   "cell_type": "code",
   "execution_count": 10,
   "metadata": {},
   "outputs": [
    {
     "data": {
      "text/plain": [
       "['MFCC_1', 'MFCC_2', 'MFCC_3']"
      ]
     },
     "execution_count": 10,
     "metadata": {},
     "output_type": "execute_result"
    }
   ],
   "source": [
    "cols[0:3]"
   ]
  },
  {
   "cell_type": "code",
   "execution_count": 11,
   "metadata": {},
   "outputs": [],
   "source": [
    "mfcc_df = pd.DataFrame(data = mfcc_long_audio[0:,0:], columns = cols)"
   ]
  },
  {
   "cell_type": "code",
   "execution_count": 12,
   "metadata": {},
   "outputs": [
    {
     "data": {
      "text/html": [
       "<div>\n",
       "<style scoped>\n",
       "    .dataframe tbody tr th:only-of-type {\n",
       "        vertical-align: middle;\n",
       "    }\n",
       "\n",
       "    .dataframe tbody tr th {\n",
       "        vertical-align: top;\n",
       "    }\n",
       "\n",
       "    .dataframe thead th {\n",
       "        text-align: right;\n",
       "    }\n",
       "</style>\n",
       "<table border=\"1\" class=\"dataframe\">\n",
       "  <thead>\n",
       "    <tr style=\"text-align: right;\">\n",
       "      <th></th>\n",
       "      <th>MFCC_1</th>\n",
       "      <th>MFCC_2</th>\n",
       "      <th>MFCC_3</th>\n",
       "      <th>MFCC_4</th>\n",
       "      <th>MFCC_5</th>\n",
       "      <th>MFCC_6</th>\n",
       "      <th>MFCC_7</th>\n",
       "      <th>MFCC_8</th>\n",
       "      <th>MFCC_9</th>\n",
       "      <th>MFCC_10</th>\n",
       "      <th>MFCC_11</th>\n",
       "      <th>MFCC_12</th>\n",
       "      <th>MFCC_13</th>\n",
       "    </tr>\n",
       "  </thead>\n",
       "  <tbody>\n",
       "    <tr>\n",
       "      <th>0</th>\n",
       "      <td>-36.043653</td>\n",
       "      <td>0.0</td>\n",
       "      <td>0.0</td>\n",
       "      <td>0.0</td>\n",
       "      <td>0.0</td>\n",
       "      <td>0.0</td>\n",
       "      <td>0.0</td>\n",
       "      <td>0.0</td>\n",
       "      <td>0.0</td>\n",
       "      <td>0.0</td>\n",
       "      <td>0.0</td>\n",
       "      <td>0.0</td>\n",
       "      <td>0.0</td>\n",
       "    </tr>\n",
       "    <tr>\n",
       "      <th>1</th>\n",
       "      <td>-36.043653</td>\n",
       "      <td>0.0</td>\n",
       "      <td>0.0</td>\n",
       "      <td>0.0</td>\n",
       "      <td>0.0</td>\n",
       "      <td>0.0</td>\n",
       "      <td>0.0</td>\n",
       "      <td>0.0</td>\n",
       "      <td>0.0</td>\n",
       "      <td>0.0</td>\n",
       "      <td>0.0</td>\n",
       "      <td>0.0</td>\n",
       "      <td>0.0</td>\n",
       "    </tr>\n",
       "  </tbody>\n",
       "</table>\n",
       "</div>"
      ],
      "text/plain": [
       "      MFCC_1  MFCC_2  MFCC_3  MFCC_4  MFCC_5  MFCC_6  MFCC_7  MFCC_8  MFCC_9  \\\n",
       "0 -36.043653     0.0     0.0     0.0     0.0     0.0     0.0     0.0     0.0   \n",
       "1 -36.043653     0.0     0.0     0.0     0.0     0.0     0.0     0.0     0.0   \n",
       "\n",
       "   MFCC_10  MFCC_11  MFCC_12  MFCC_13  \n",
       "0      0.0      0.0      0.0      0.0  \n",
       "1      0.0      0.0      0.0      0.0  "
      ]
     },
     "execution_count": 12,
     "metadata": {},
     "output_type": "execute_result"
    }
   ],
   "source": [
    "mfcc_df.head(2)"
   ]
  },
  {
   "cell_type": "code",
   "execution_count": 13,
   "metadata": {},
   "outputs": [
    {
     "data": {
      "text/plain": [
       "527.575"
      ]
     },
     "execution_count": 13,
     "metadata": {},
     "output_type": "execute_result"
    }
   ],
   "source": [
    "# length of the file divided by 40 equals time length of file\n",
    "21103/40"
   ]
  },
  {
   "cell_type": "code",
   "execution_count": 14,
   "metadata": {},
   "outputs": [
    {
     "data": {
      "text/plain": [
       "40.0"
      ]
     },
     "execution_count": 14,
     "metadata": {},
     "output_type": "execute_result"
    }
   ],
   "source": [
    "len(mfcc_df) / 527.575"
   ]
  },
  {
   "cell_type": "markdown",
   "metadata": {},
   "source": [
    "### Adding Hampel Filter to this dataframe"
   ]
  },
  {
   "cell_type": "markdown",
   "metadata": {},
   "source": [
    "#### Running hampel filter over entire file using same window length as mfcc and low hampel filter value"
   ]
  },
  {
   "cell_type": "code",
   "execution_count": 15,
   "metadata": {},
   "outputs": [],
   "source": [
    "# as found in 2.1.2 getting mfcc for whole file, there are 200 samples per second \n",
    "# we'll use this value so that the middle sample is entirely within the mfcc sample, \n",
    "# but all other values will be looking outside mfcc"
   ]
  },
  {
   "cell_type": "code",
   "execution_count": 16,
   "metadata": {},
   "outputs": [],
   "source": [
    "window200_sigma1 = hampel_filter_forloop_numba(long_audio, 200, n_sigmas=1)"
   ]
  },
  {
   "cell_type": "code",
   "execution_count": 17,
   "metadata": {},
   "outputs": [
    {
     "data": {
      "text/plain": [
       "527.60425"
      ]
     },
     "execution_count": 17,
     "metadata": {},
     "output_type": "execute_result"
    }
   ],
   "source": [
    "len(window200_sigma1[0]) / 8000"
   ]
  },
  {
   "cell_type": "code",
   "execution_count": 18,
   "metadata": {},
   "outputs": [],
   "source": [
    "window200_sigma1_binary = make_results_into_binary(window200_sigma1[1], number_of_possible_samples_in_file = len(window200_sigma1[0]))"
   ]
  },
  {
   "cell_type": "code",
   "execution_count": 19,
   "metadata": {},
   "outputs": [
    {
     "data": {
      "text/plain": [
       "1279737.0"
      ]
     },
     "execution_count": 19,
     "metadata": {},
     "output_type": "execute_result"
    }
   ],
   "source": [
    "# definitely found (what it thinks are) vowels! \n",
    "window200_sigma1_binary.sum()"
   ]
  },
  {
   "cell_type": "code",
   "execution_count": 20,
   "metadata": {},
   "outputs": [
    {
     "data": {
      "text/plain": [
       "4220834"
      ]
     },
     "execution_count": 20,
     "metadata": {},
     "output_type": "execute_result"
    }
   ],
   "source": [
    "len(window200_sigma1_binary)"
   ]
  },
  {
   "cell_type": "markdown",
   "metadata": {},
   "source": [
    "#### Chunking the indices to 200 samples per second "
   ]
  },
  {
   "cell_type": "code",
   "execution_count": 21,
   "metadata": {},
   "outputs": [],
   "source": [
    "window200_sigma1_percent_passing = make_sample_rates_match(window200_sigma1[1], 40, 21103)"
   ]
  },
  {
   "cell_type": "code",
   "execution_count": 22,
   "metadata": {},
   "outputs": [
    {
     "data": {
      "text/plain": [
       "21103"
      ]
     },
     "execution_count": 22,
     "metadata": {},
     "output_type": "execute_result"
    }
   ],
   "source": [
    "len(window200_sigma1_percent_passing)"
   ]
  },
  {
   "cell_type": "markdown",
   "metadata": {},
   "source": [
    "#### Adding the hampel filter percentage to the df"
   ]
  },
  {
   "cell_type": "code",
   "execution_count": 23,
   "metadata": {},
   "outputs": [],
   "source": [
    "mfcc_df['Percent_passing_hampel_filter'] = window200_sigma1_percent_passing"
   ]
  },
  {
   "cell_type": "code",
   "execution_count": 24,
   "metadata": {},
   "outputs": [
    {
     "data": {
      "text/html": [
       "<div>\n",
       "<style scoped>\n",
       "    .dataframe tbody tr th:only-of-type {\n",
       "        vertical-align: middle;\n",
       "    }\n",
       "\n",
       "    .dataframe tbody tr th {\n",
       "        vertical-align: top;\n",
       "    }\n",
       "\n",
       "    .dataframe thead th {\n",
       "        text-align: right;\n",
       "    }\n",
       "</style>\n",
       "<table border=\"1\" class=\"dataframe\">\n",
       "  <thead>\n",
       "    <tr style=\"text-align: right;\">\n",
       "      <th></th>\n",
       "      <th>MFCC_1</th>\n",
       "      <th>MFCC_2</th>\n",
       "      <th>MFCC_3</th>\n",
       "      <th>MFCC_4</th>\n",
       "      <th>MFCC_5</th>\n",
       "      <th>MFCC_6</th>\n",
       "      <th>MFCC_7</th>\n",
       "      <th>MFCC_8</th>\n",
       "      <th>MFCC_9</th>\n",
       "      <th>MFCC_10</th>\n",
       "      <th>MFCC_11</th>\n",
       "      <th>MFCC_12</th>\n",
       "      <th>MFCC_13</th>\n",
       "      <th>Percent_passing_hampel_filter</th>\n",
       "    </tr>\n",
       "  </thead>\n",
       "  <tbody>\n",
       "    <tr>\n",
       "      <th>0</th>\n",
       "      <td>-36.043653</td>\n",
       "      <td>0.0</td>\n",
       "      <td>0.0</td>\n",
       "      <td>0.0</td>\n",
       "      <td>0.0</td>\n",
       "      <td>0.0</td>\n",
       "      <td>0.0</td>\n",
       "      <td>0.0</td>\n",
       "      <td>0.0</td>\n",
       "      <td>0.0</td>\n",
       "      <td>0.0</td>\n",
       "      <td>0.0</td>\n",
       "      <td>0.0</td>\n",
       "      <td>0.0</td>\n",
       "    </tr>\n",
       "    <tr>\n",
       "      <th>1</th>\n",
       "      <td>-36.043653</td>\n",
       "      <td>0.0</td>\n",
       "      <td>0.0</td>\n",
       "      <td>0.0</td>\n",
       "      <td>0.0</td>\n",
       "      <td>0.0</td>\n",
       "      <td>0.0</td>\n",
       "      <td>0.0</td>\n",
       "      <td>0.0</td>\n",
       "      <td>0.0</td>\n",
       "      <td>0.0</td>\n",
       "      <td>0.0</td>\n",
       "      <td>0.0</td>\n",
       "      <td>0.0</td>\n",
       "    </tr>\n",
       "    <tr>\n",
       "      <th>2</th>\n",
       "      <td>-36.043653</td>\n",
       "      <td>0.0</td>\n",
       "      <td>0.0</td>\n",
       "      <td>0.0</td>\n",
       "      <td>0.0</td>\n",
       "      <td>0.0</td>\n",
       "      <td>0.0</td>\n",
       "      <td>0.0</td>\n",
       "      <td>0.0</td>\n",
       "      <td>0.0</td>\n",
       "      <td>0.0</td>\n",
       "      <td>0.0</td>\n",
       "      <td>0.0</td>\n",
       "      <td>0.0</td>\n",
       "    </tr>\n",
       "    <tr>\n",
       "      <th>3</th>\n",
       "      <td>-36.043653</td>\n",
       "      <td>0.0</td>\n",
       "      <td>0.0</td>\n",
       "      <td>0.0</td>\n",
       "      <td>0.0</td>\n",
       "      <td>0.0</td>\n",
       "      <td>0.0</td>\n",
       "      <td>0.0</td>\n",
       "      <td>0.0</td>\n",
       "      <td>0.0</td>\n",
       "      <td>0.0</td>\n",
       "      <td>0.0</td>\n",
       "      <td>0.0</td>\n",
       "      <td>0.0</td>\n",
       "    </tr>\n",
       "  </tbody>\n",
       "</table>\n",
       "</div>"
      ],
      "text/plain": [
       "      MFCC_1  MFCC_2  MFCC_3  MFCC_4  MFCC_5  MFCC_6  MFCC_7  MFCC_8  MFCC_9  \\\n",
       "0 -36.043653     0.0     0.0     0.0     0.0     0.0     0.0     0.0     0.0   \n",
       "1 -36.043653     0.0     0.0     0.0     0.0     0.0     0.0     0.0     0.0   \n",
       "2 -36.043653     0.0     0.0     0.0     0.0     0.0     0.0     0.0     0.0   \n",
       "3 -36.043653     0.0     0.0     0.0     0.0     0.0     0.0     0.0     0.0   \n",
       "\n",
       "   MFCC_10  MFCC_11  MFCC_12  MFCC_13  Percent_passing_hampel_filter  \n",
       "0      0.0      0.0      0.0      0.0                            0.0  \n",
       "1      0.0      0.0      0.0      0.0                            0.0  \n",
       "2      0.0      0.0      0.0      0.0                            0.0  \n",
       "3      0.0      0.0      0.0      0.0                            0.0  "
      ]
     },
     "execution_count": 24,
     "metadata": {},
     "output_type": "execute_result"
    }
   ],
   "source": [
    "# it worked! \n",
    "mfcc_df.head(4)"
   ]
  },
  {
   "cell_type": "code",
   "execution_count": 25,
   "metadata": {},
   "outputs": [
    {
     "data": {
      "text/plain": [
       "0.30481542908591197"
      ]
     },
     "execution_count": 25,
     "metadata": {},
     "output_type": "execute_result"
    }
   ],
   "source": [
    "mfcc_df['Percent_passing_hampel_filter'].mean()"
   ]
  },
  {
   "cell_type": "code",
   "execution_count": 26,
   "metadata": {},
   "outputs": [
    {
     "data": {
      "text/plain": [
       "<matplotlib.axes._subplots.AxesSubplot at 0x1c2d3be898>"
      ]
     },
     "execution_count": 26,
     "metadata": {},
     "output_type": "execute_result"
    },
    {
     "data": {
      "image/png": "[encoded data removed]",
      "text/plain": [
       "<Figure size 432x288 with 1 Axes>"
      ]
     },
     "metadata": {
      "needs_background": "light"
     },
     "output_type": "display_data"
    }
   ],
   "source": [
    "mfcc_df['Percent_passing_hampel_filter'].plot.kde()"
   ]
  },
  {
   "cell_type": "markdown",
   "metadata": {},
   "source": [
    "#### Saving this dataframe"
   ]
  },
  {
   "cell_type": "code",
   "execution_count": 27,
   "metadata": {},
   "outputs": [],
   "source": [
    "# mfcc_df.to_csv(\"./corrected_textgrid/mfcc_hamp_filter_df/df\")"
   ]
  },
  {
   "cell_type": "markdown",
   "metadata": {},
   "source": [
    "### Making prediction column (vowel/not vowel for correct time points)"
   ]
  },
  {
   "cell_type": "code",
   "execution_count": 28,
   "metadata": {},
   "outputs": [],
   "source": [
    "only_vowels_df = df[df['Vowel']==1].reset_index()"
   ]
  },
  {
   "cell_type": "code",
   "execution_count": 29,
   "metadata": {},
   "outputs": [
    {
     "data": {
      "text/html": [
       "<div>\n",
       "<style scoped>\n",
       "    .dataframe tbody tr th:only-of-type {\n",
       "        vertical-align: middle;\n",
       "    }\n",
       "\n",
       "    .dataframe tbody tr th {\n",
       "        vertical-align: top;\n",
       "    }\n",
       "\n",
       "    .dataframe thead th {\n",
       "        text-align: right;\n",
       "    }\n",
       "</style>\n",
       "<table border=\"1\" class=\"dataframe\">\n",
       "  <thead>\n",
       "    <tr style=\"text-align: right;\">\n",
       "      <th></th>\n",
       "      <th>index</th>\n",
       "      <th>Phone_Text</th>\n",
       "      <th>Phone_xmin</th>\n",
       "      <th>Phone_xmax</th>\n",
       "      <th>Word_Text</th>\n",
       "      <th>Word_xmin</th>\n",
       "      <th>Word_xmax</th>\n",
       "      <th>Vowel</th>\n",
       "      <th>Speaker</th>\n",
       "      <th>Phone_Duration</th>\n",
       "    </tr>\n",
       "  </thead>\n",
       "  <tbody>\n",
       "    <tr>\n",
       "      <th>0</th>\n",
       "      <td>2</td>\n",
       "      <td>AH</td>\n",
       "      <td>4.589832</td>\n",
       "      <td>4.831125</td>\n",
       "      <td>!SIL</td>\n",
       "      <td>2.000000</td>\n",
       "      <td>4.361218</td>\n",
       "      <td>1</td>\n",
       "      <td>6</td>\n",
       "      <td>0.241293</td>\n",
       "    </tr>\n",
       "    <tr>\n",
       "      <th>1</th>\n",
       "      <td>5</td>\n",
       "      <td>AY</td>\n",
       "      <td>5.481125</td>\n",
       "      <td>5.881125</td>\n",
       "      <td>mine</td>\n",
       "      <td>5.141125</td>\n",
       "      <td>6.111125</td>\n",
       "      <td>1</td>\n",
       "      <td>6</td>\n",
       "      <td>0.400000</td>\n",
       "    </tr>\n",
       "  </tbody>\n",
       "</table>\n",
       "</div>"
      ],
      "text/plain": [
       "   index Phone_Text  Phone_xmin  Phone_xmax Word_Text  Word_xmin  Word_xmax  \\\n",
       "0      2         AH    4.589832    4.831125      !SIL   2.000000   4.361218   \n",
       "1      5         AY    5.481125    5.881125      mine   5.141125   6.111125   \n",
       "\n",
       "   Vowel  Speaker  Phone_Duration  \n",
       "0      1        6        0.241293  \n",
       "1      1        6        0.400000  "
      ]
     },
     "execution_count": 29,
     "metadata": {},
     "output_type": "execute_result"
    }
   ],
   "source": [
    "only_vowels_df.head(2)"
   ]
  },
  {
   "cell_type": "code",
   "execution_count": 30,
   "metadata": {},
   "outputs": [],
   "source": [
    "#I have to limit the df to vowels either in the function, or before I input the df\n",
    "vowel_indices = chunk_vowels_to_sr(only_vowels_df)"
   ]
  },
  {
   "cell_type": "code",
   "execution_count": 31,
   "metadata": {},
   "outputs": [
    {
     "data": {
      "text/plain": [
       "25998.875"
      ]
     },
     "execution_count": 31,
     "metadata": {},
     "output_type": "execute_result"
    }
   ],
   "source": [
    "len(vowel_indices) / 40"
   ]
  },
  {
   "cell_type": "code",
   "execution_count": 32,
   "metadata": {},
   "outputs": [
    {
     "data": {
      "text/plain": [
       "[36719, 36720, 36721, 36722, 36723, 36724, 36725, 36726, 36727, 36728]"
      ]
     },
     "execution_count": 32,
     "metadata": {},
     "output_type": "execute_result"
    }
   ],
   "source": [
    "vowel_indices[0:10]"
   ]
  },
  {
   "cell_type": "code",
   "execution_count": 33,
   "metadata": {},
   "outputs": [],
   "source": [
    "vowel_indices_percent_passing = make_sample_rates_match(vowel_indices, 40, 21103)"
   ]
  },
  {
   "cell_type": "code",
   "execution_count": 34,
   "metadata": {},
   "outputs": [
    {
     "data": {
      "text/plain": [
       "5206.340000000007"
      ]
     },
     "execution_count": 34,
     "metadata": {},
     "output_type": "execute_result"
    }
   ],
   "source": [
    "sum(vowel_indices_percent_passing)"
   ]
  },
  {
   "cell_type": "code",
   "execution_count": 35,
   "metadata": {},
   "outputs": [
    {
     "data": {
      "text/plain": [
       "21103"
      ]
     },
     "execution_count": 35,
     "metadata": {},
     "output_type": "execute_result"
    }
   ],
   "source": [
    "len(vowel_indices_percent_passing)"
   ]
  },
  {
   "cell_type": "markdown",
   "metadata": {},
   "source": [
    "#### Make into binary classification (currently a percentage)"
   ]
  },
  {
   "cell_type": "markdown",
   "metadata": {},
   "source": [
    "##### Trying to find distribution of values in vowel_indices_percent_passing"
   ]
  },
  {
   "cell_type": "code",
   "execution_count": 36,
   "metadata": {},
   "outputs": [
    {
     "data": {
      "image/png": "[encoded data removed]",
      "text/plain": [
       "<Figure size 432x288 with 1 Axes>"
      ]
     },
     "metadata": {
      "needs_background": "light"
     },
     "output_type": "display_data"
    }
   ],
   "source": [
    "vowel_indices_percent_passing_series = pd.Series(vowel_indices_percent_passing)\n",
    "ax = vowel_indices_percent_passing_series.plot.kde()"
   ]
  },
  {
   "cell_type": "code",
   "execution_count": 37,
   "metadata": {
    "scrolled": true
   },
   "outputs": [
    {
     "data": {
      "text/plain": [
       "list"
      ]
     },
     "execution_count": 37,
     "metadata": {},
     "output_type": "execute_result"
    }
   ],
   "source": [
    "type(vowel_indices_percent_passing)"
   ]
  },
  {
   "cell_type": "code",
   "execution_count": 38,
   "metadata": {},
   "outputs": [],
   "source": [
    "vowel_indices_percent_passing_array = np.array(vowel_indices_percent_passing)"
   ]
  },
  {
   "cell_type": "code",
   "execution_count": 39,
   "metadata": {},
   "outputs": [
    {
     "data": {
      "text/plain": [
       "5097"
      ]
     },
     "execution_count": 39,
     "metadata": {},
     "output_type": "execute_result"
    }
   ],
   "source": [
    "# finding percent of values that are above 0\n",
    "counter = 0\n",
    "for x in vowel_indices_percent_passing:\n",
    "    if x > 0.5:\n",
    "        counter+=1\n",
    "counter"
   ]
  },
  {
   "cell_type": "code",
   "execution_count": 40,
   "metadata": {},
   "outputs": [],
   "source": [
    "vowel_indices_binary = np.where(vowel_indices_percent_passing_array > 0.5, 1, 0)"
   ]
  },
  {
   "cell_type": "code",
   "execution_count": 41,
   "metadata": {},
   "outputs": [
    {
     "data": {
      "text/plain": [
       "5097"
      ]
     },
     "execution_count": 41,
     "metadata": {},
     "output_type": "execute_result"
    }
   ],
   "source": [
    "vowel_indices_binary.sum()"
   ]
  },
  {
   "cell_type": "markdown",
   "metadata": {},
   "source": [
    "### Formally making test/ train split"
   ]
  },
  {
   "cell_type": "code",
   "execution_count": 42,
   "metadata": {},
   "outputs": [],
   "source": [
    "X_train, X_test, y_train, y_test = train_test_split(mfcc_df, vowel_indices_binary, test_size=0.33, random_state=1)"
   ]
  },
  {
   "cell_type": "markdown",
   "metadata": {},
   "source": [
    "## Building Random Forest Model"
   ]
  },
  {
   "cell_type": "markdown",
   "metadata": {},
   "source": [
    "### Function to find and calculate metrics"
   ]
  },
  {
   "cell_type": "code",
   "execution_count": 43,
   "metadata": {},
   "outputs": [],
   "source": [
    "metric_dictionary = {}"
   ]
  },
  {
   "cell_type": "markdown",
   "metadata": {},
   "source": [
    "### Model 1"
   ]
  },
  {
   "cell_type": "code",
   "execution_count": 44,
   "metadata": {},
   "outputs": [
    {
     "name": "stderr",
     "output_type": "stream",
     "text": [
      "[Parallel(n_jobs=-1)]: Using backend ThreadingBackend with 8 concurrent workers.\n",
      "[Parallel(n_jobs=-1)]: Done  34 tasks      | elapsed:    0.3s\n",
      "[Parallel(n_jobs=-1)]: Done 100 out of 100 | elapsed:    0.7s finished\n",
      "[Parallel(n_jobs=8)]: Using backend ThreadingBackend with 8 concurrent workers.\n",
      "[Parallel(n_jobs=8)]: Done  34 tasks      | elapsed:    0.0s\n",
      "[Parallel(n_jobs=8)]: Done 100 out of 100 | elapsed:    0.0s finished\n"
     ]
    }
   ],
   "source": [
    "rf = RandomForestClassifier(n_estimators = 100, random_state = 42, n_jobs=-1,\n",
    "                           verbose = 1)\n",
    "rf.fit(X_train, y_train)\n",
    "rf_pred = rf.predict(X_test)"
   ]
  },
  {
   "cell_type": "code",
   "execution_count": 45,
   "metadata": {},
   "outputs": [
    {
     "name": "stdout",
     "output_type": "stream",
     "text": [
      "      \n",
      "        The f1 score is 0.728. \n",
      "\n",
      "        The recall_score is 0.706. \n",
      "\n",
      "        The precision is 0.752. \n"
     ]
    }
   ],
   "source": [
    "metric_dictionary = find_metrics(y_test, rf_pred, metric_dictionary, 'first_random_forest')"
   ]
  },
  {
   "cell_type": "code",
   "execution_count": 47,
   "metadata": {},
   "outputs": [
    {
     "data": {
      "text/plain": [
       "{'first_random_forest': {'f1_score': 0.728,\n",
       "  'recall_score': 0.706,\n",
       "  'precision_score': 0.752}}"
      ]
     },
     "execution_count": 47,
     "metadata": {},
     "output_type": "execute_result"
    }
   ],
   "source": [
    "metric_dictionary"
   ]
  },
  {
   "cell_type": "markdown",
   "metadata": {},
   "source": [
    "### Model 2"
   ]
  },
  {
   "cell_type": "code",
   "execution_count": 48,
   "metadata": {},
   "outputs": [
    {
     "name": "stderr",
     "output_type": "stream",
     "text": [
      "[Parallel(n_jobs=-1)]: Using backend ThreadingBackend with 8 concurrent workers.\n",
      "[Parallel(n_jobs=-1)]: Done  34 tasks      | elapsed:    0.3s\n",
      "[Parallel(n_jobs=-1)]: Done 184 tasks      | elapsed:    1.4s\n",
      "[Parallel(n_jobs=-1)]: Done 434 tasks      | elapsed:    3.2s\n",
      "[Parallel(n_jobs=-1)]: Done 784 tasks      | elapsed:    5.6s\n",
      "[Parallel(n_jobs=-1)]: Done 1234 tasks      | elapsed:    9.2s\n",
      "[Parallel(n_jobs=-1)]: Done 1784 tasks      | elapsed:   13.3s\n",
      "[Parallel(n_jobs=-1)]: Done 2434 tasks      | elapsed:   18.6s\n",
      "[Parallel(n_jobs=-1)]: Done 3184 tasks      | elapsed:   24.9s\n",
      "[Parallel(n_jobs=-1)]: Done 4034 tasks      | elapsed:   32.4s\n",
      "[Parallel(n_jobs=-1)]: Done 4984 tasks      | elapsed:   41.3s\n",
      "[Parallel(n_jobs=-1)]: Done 6034 tasks      | elapsed:   50.1s\n",
      "[Parallel(n_jobs=-1)]: Done 7184 tasks      | elapsed:   59.8s\n",
      "[Parallel(n_jobs=-1)]: Done 8434 tasks      | elapsed:  1.2min\n",
      "[Parallel(n_jobs=-1)]: Done 9784 tasks      | elapsed:  1.4min\n",
      "[Parallel(n_jobs=-1)]: Done 10000 out of 10000 | elapsed:  1.4min finished\n",
      "[Parallel(n_jobs=8)]: Using backend ThreadingBackend with 8 concurrent workers.\n",
      "[Parallel(n_jobs=8)]: Done  34 tasks      | elapsed:    0.0s\n",
      "[Parallel(n_jobs=8)]: Done 184 tasks      | elapsed:    0.1s\n",
      "[Parallel(n_jobs=8)]: Done 434 tasks      | elapsed:    0.2s\n",
      "[Parallel(n_jobs=8)]: Done 784 tasks      | elapsed:    0.3s\n",
      "[Parallel(n_jobs=8)]: Done 1234 tasks      | elapsed:    0.4s\n",
      "[Parallel(n_jobs=8)]: Done 1784 tasks      | elapsed:    0.6s\n",
      "[Parallel(n_jobs=8)]: Done 2434 tasks      | elapsed:    0.8s\n",
      "[Parallel(n_jobs=8)]: Done 3184 tasks      | elapsed:    1.0s\n",
      "[Parallel(n_jobs=8)]: Done 4034 tasks      | elapsed:    1.3s\n",
      "[Parallel(n_jobs=8)]: Done 4984 tasks      | elapsed:    1.6s\n",
      "[Parallel(n_jobs=8)]: Done 6034 tasks      | elapsed:    1.9s\n",
      "[Parallel(n_jobs=8)]: Done 7184 tasks      | elapsed:    2.3s\n",
      "[Parallel(n_jobs=8)]: Done 8434 tasks      | elapsed:    2.7s\n",
      "[Parallel(n_jobs=8)]: Done 9784 tasks      | elapsed:    3.1s\n",
      "[Parallel(n_jobs=8)]: Done 10000 out of 10000 | elapsed:    3.2s finished\n"
     ]
    }
   ],
   "source": [
    "# trying more estimators \n",
    "rf2 = RandomForestClassifier(n_estimators = 10000, random_state = 42, n_jobs=-1,\n",
    "                           verbose = 1)\n",
    "rf2.fit(X_train, y_train)\n",
    "rf_pred2 = rf2.predict(X_test)"
   ]
  },
  {
   "cell_type": "code",
   "execution_count": 49,
   "metadata": {},
   "outputs": [
    {
     "name": "stdout",
     "output_type": "stream",
     "text": [
      "      \n",
      "        The f1 score is 0.736. \n",
      "\n",
      "        The recall_score is 0.719. \n",
      "\n",
      "        The precision is 0.755. \n"
     ]
    }
   ],
   "source": [
    "metric_dictionary = find_metrics(y_test, rf_pred2, metric_dictionary, 'second_random_forest')"
   ]
  },
  {
   "cell_type": "code",
   "execution_count": 50,
   "metadata": {},
   "outputs": [
    {
     "name": "stdout",
     "output_type": "stream",
     "text": [
      "[[4838  403]\n",
      " [ 484 1239]]\n"
     ]
    }
   ],
   "source": [
    "random_forest_cm2 = confusion_matrix(y_test, rf_pred2)\n",
    "print(random_forest_cm2)"
   ]
  },
  {
   "cell_type": "markdown",
   "metadata": {},
   "source": [
    "### Model 3"
   ]
  },
  {
   "cell_type": "code",
   "execution_count": 51,
   "metadata": {},
   "outputs": [],
   "source": [
    "# lower level of nodes, class_weight='balanced_subsample'\n",
    "# trying more estimators \n",
    "rf3 = RandomForestClassifier(n_estimators = 100, random_state = 42, n_jobs=-1,\n",
    "                            class_weight='balanced_subsample')\n",
    "rf3.fit(X_train, y_train)\n",
    "rf_pred3 = rf3.predict(X_test)"
   ]
  },
  {
   "cell_type": "code",
   "execution_count": 54,
   "metadata": {},
   "outputs": [
    {
     "name": "stdout",
     "output_type": "stream",
     "text": [
      "      \n",
      "        The f1 score is 0.723. \n",
      "\n",
      "        The recall_score is 0.685. \n",
      "\n",
      "        The precision is 0.764. \n"
     ]
    }
   ],
   "source": [
    "metric_dictionary = find_metrics(y_test, rf_pred3, metric_dictionary, 'third_random_forest')"
   ]
  },
  {
   "cell_type": "markdown",
   "metadata": {},
   "source": [
    "### Model 4"
   ]
  },
  {
   "cell_type": "code",
   "execution_count": 55,
   "metadata": {},
   "outputs": [],
   "source": [
    "# BalancedRandomForestClassifier \n",
    "rf4 = BalancedRandomForestClassifier(n_estimators=100, random_state=42, n_jobs=-1)\n",
    "rf4.fit(X_train, y_train)\n",
    "rf_pred4 = rf4.predict(X_test)"
   ]
  },
  {
   "cell_type": "code",
   "execution_count": 432,
   "metadata": {},
   "outputs": [],
   "source": [
    "# sorted(sklearn.metrics.SCORERS.keys())\n",
    "# this method isn't very helpful compare to computing f1 score\n",
    "# print(cross_val_score(rf4, X_train, y_train, cv=5, scoring='f1'))"
   ]
  },
  {
   "cell_type": "code",
   "execution_count": 56,
   "metadata": {},
   "outputs": [
    {
     "name": "stdout",
     "output_type": "stream",
     "text": [
      "      \n",
      "        The f1 score is 0.734. \n",
      "\n",
      "        The recall_score is 0.917. \n",
      "\n",
      "        The precision is 0.612. \n"
     ]
    }
   ],
   "source": [
    "metric_dictionary = find_metrics(y_test, rf_pred4, metric_dictionary, 'fourth_random_forest')"
   ]
  },
  {
   "cell_type": "markdown",
   "metadata": {},
   "source": [
    "### Model 5 - class_weight = 'balanced'"
   ]
  },
  {
   "cell_type": "code",
   "execution_count": 57,
   "metadata": {},
   "outputs": [],
   "source": [
    "rf5 = RandomForestClassifier(n_estimators = 100, random_state = 42, n_jobs=-1,\n",
    "                            class_weight='balanced')\n",
    "rf5.fit(X_train, y_train)\n",
    "rf_pred5 = rf5.predict(X_test)"
   ]
  },
  {
   "cell_type": "code",
   "execution_count": 58,
   "metadata": {},
   "outputs": [
    {
     "name": "stdout",
     "output_type": "stream",
     "text": [
      "      \n",
      "        The f1 score is 0.727. \n",
      "\n",
      "        The recall_score is 0.694. \n",
      "\n",
      "        The precision is 0.764. \n"
     ]
    }
   ],
   "source": [
    "metric_dictionary = find_metrics(y_test, rf_pred5, metric_dictionary, 'fifth_random_forest')"
   ]
  },
  {
   "cell_type": "markdown",
   "metadata": {},
   "source": [
    "## Bagging algorithms"
   ]
  },
  {
   "cell_type": "markdown",
   "metadata": {},
   "source": [
    "### Model 1: Base "
   ]
  },
  {
   "cell_type": "code",
   "execution_count": 59,
   "metadata": {},
   "outputs": [],
   "source": [
    "bagging_model = BaggingClassifier(n_estimators=100, random_state=42, n_jobs=-1)\n",
    "bagging_model.fit(X_train, y_train)\n",
    "bagging_model_predictions = bagging_model.predict(X_test)"
   ]
  },
  {
   "cell_type": "code",
   "execution_count": 60,
   "metadata": {},
   "outputs": [
    {
     "name": "stdout",
     "output_type": "stream",
     "text": [
      "      \n",
      "        The f1 score is 0.736. \n",
      "\n",
      "        The recall_score is 0.723. \n",
      "\n",
      "        The precision is 0.749. \n"
     ]
    }
   ],
   "source": [
    "metric_dictionary = find_metrics(y_test, bagging_model_predictions, metric_dictionary, 'first_bagged_model')"
   ]
  },
  {
   "cell_type": "markdown",
   "metadata": {},
   "source": [
    "### Model 2: balanced bagging "
   ]
  },
  {
   "cell_type": "code",
   "execution_count": 61,
   "metadata": {},
   "outputs": [],
   "source": [
    "balanced_bagging_model = BalancedBaggingClassifier(n_estimators = 100, random_state=42, n_jobs=-1)\n",
    "balanced_bagging_model.fit(X_train, y_train)\n",
    "balanced_bagging_model_predictions = balanced_bagging_model.predict(X_test)"
   ]
  },
  {
   "cell_type": "code",
   "execution_count": 62,
   "metadata": {},
   "outputs": [
    {
     "name": "stdout",
     "output_type": "stream",
     "text": [
      "      \n",
      "        The f1 score is 0.746. \n",
      "\n",
      "        The recall_score is 0.867. \n",
      "\n",
      "        The precision is 0.654. \n"
     ]
    }
   ],
   "source": [
    "metric_dictionary = find_metrics(y_test, balanced_bagging_model_predictions, metric_dictionary, 'second_bagged_model')"
   ]
  },
  {
   "cell_type": "markdown",
   "metadata": {},
   "source": [
    "## Ensemble Methods"
   ]
  },
  {
   "cell_type": "markdown",
   "metadata": {},
   "source": [
    "### Model 1"
   ]
  },
  {
   "cell_type": "code",
   "execution_count": 63,
   "metadata": {},
   "outputs": [],
   "source": [
    "ensemb_model = EasyEnsembleClassifier(n_estimators=100, random_state=42, n_jobs=-1)\n",
    "ensemb_model.fit(X_train, y_train)\n",
    "ensemb_model_predictions = ensemb_model.predict(X_test)"
   ]
  },
  {
   "cell_type": "code",
   "execution_count": 64,
   "metadata": {},
   "outputs": [
    {
     "name": "stdout",
     "output_type": "stream",
     "text": [
      "      \n",
      "        The f1 score is 0.707. \n",
      "\n",
      "        The recall_score is 0.918. \n",
      "\n",
      "        The precision is 0.575. \n"
     ]
    }
   ],
   "source": [
    "metric_dictionary = find_metrics(y_test, ensemb_model_predictions, metric_dictionary, 'first_ensemble_model')"
   ]
  },
  {
   "cell_type": "markdown",
   "metadata": {},
   "source": [
    "## Random Forest with SMOTE"
   ]
  },
  {
   "cell_type": "code",
   "execution_count": 65,
   "metadata": {},
   "outputs": [],
   "source": [
    "oversample3 = SMOTE(sampling_strategy=0.7)"
   ]
  },
  {
   "cell_type": "code",
   "execution_count": 66,
   "metadata": {},
   "outputs": [],
   "source": [
    "X_train_oversample3, y_train_oversample3 = oversample3.fit_resample(X_train, y_train)"
   ]
  },
  {
   "cell_type": "code",
   "execution_count": 67,
   "metadata": {},
   "outputs": [
    {
     "data": {
      "text/plain": [
       "0.41174863387978144"
      ]
     },
     "execution_count": 67,
     "metadata": {},
     "output_type": "execute_result"
    }
   ],
   "source": [
    "# ratio of 40/60 vowel / nonvowel\n",
    "y_train_oversample3.sum() / len(y_train_oversample3)"
   ]
  },
  {
   "cell_type": "code",
   "execution_count": 68,
   "metadata": {},
   "outputs": [
    {
     "name": "stderr",
     "output_type": "stream",
     "text": [
      "[Parallel(n_jobs=-1)]: Using backend ThreadingBackend with 8 concurrent workers.\n",
      "[Parallel(n_jobs=-1)]: Done  34 tasks      | elapsed:    0.4s\n",
      "[Parallel(n_jobs=-1)]: Done 100 out of 100 | elapsed:    1.0s finished\n",
      "[Parallel(n_jobs=8)]: Using backend ThreadingBackend with 8 concurrent workers.\n",
      "[Parallel(n_jobs=8)]: Done  34 tasks      | elapsed:    0.0s\n",
      "[Parallel(n_jobs=8)]: Done 100 out of 100 | elapsed:    0.0s finished\n"
     ]
    }
   ],
   "source": [
    "rf_sm = RandomForestClassifier(n_estimators = 100, random_state = 42, n_jobs=-1,\n",
    "                           verbose = 1)\n",
    "rf_sm.fit(X_train_oversample3, y_train_oversample3)\n",
    "rf_pred_sm = rf_sm.predict(X_test)"
   ]
  },
  {
   "cell_type": "code",
   "execution_count": 69,
   "metadata": {},
   "outputs": [
    {
     "name": "stdout",
     "output_type": "stream",
     "text": [
      "      \n",
      "        The f1 score is 0.755. \n",
      "\n",
      "        The recall_score is 0.81. \n",
      "\n",
      "        The precision is 0.708. \n"
     ]
    }
   ],
   "source": [
    "metric_dictionary = find_metrics(y_test, rf_pred_sm, metric_dictionary, 'random_forest_w_smote')"
   ]
  },
  {
   "cell_type": "markdown",
   "metadata": {},
   "source": [
    "## Picking best model"
   ]
  },
  {
   "cell_type": "code",
   "execution_count": 70,
   "metadata": {},
   "outputs": [
    {
     "name": "stdout",
     "output_type": "stream",
     "text": [
      "random_forest_w_smote\n",
      "0.755\n"
     ]
    }
   ],
   "source": [
    "best_f1 = 0\n",
    "best_model_list = []\n",
    "for item in metric_dictionary:\n",
    "    if metric_dictionary[item]['f1_score'] > best_f1:\n",
    "        best_f1 = metric_dictionary[item]['f1_score']\n",
    "        best_model_list.append(item)\n",
    "print(best_model_list[-1])\n",
    "print(best_f1)"
   ]
  },
  {
   "cell_type": "code",
   "execution_count": 73,
   "metadata": {},
   "outputs": [],
   "source": [
    "# metric_dictionary"
   ]
  },
  {
   "cell_type": "markdown",
   "metadata": {},
   "source": [
    "## Improving Best Model"
   ]
  },
  {
   "cell_type": "code",
   "execution_count": 201,
   "metadata": {},
   "outputs": [
    {
     "name": "stderr",
     "output_type": "stream",
     "text": [
      "[Parallel(n_jobs=-1)]: Using backend ThreadingBackend with 8 concurrent workers.\n",
      "[Parallel(n_jobs=-1)]: Done  34 tasks      | elapsed:    0.4s\n",
      "[Parallel(n_jobs=-1)]: Done 184 tasks      | elapsed:    1.8s\n",
      "[Parallel(n_jobs=-1)]: Done 434 tasks      | elapsed:    4.2s\n",
      "[Parallel(n_jobs=-1)]: Done 784 tasks      | elapsed:    7.7s\n",
      "[Parallel(n_jobs=-1)]: Done 1000 out of 1000 | elapsed:    9.9s finished\n",
      "[Parallel(n_jobs=8)]: Using backend ThreadingBackend with 8 concurrent workers.\n",
      "[Parallel(n_jobs=8)]: Done  34 tasks      | elapsed:    0.0s\n",
      "[Parallel(n_jobs=8)]: Done 184 tasks      | elapsed:    0.1s\n",
      "[Parallel(n_jobs=8)]: Done 434 tasks      | elapsed:    0.1s\n",
      "[Parallel(n_jobs=8)]: Done 784 tasks      | elapsed:    0.3s\n",
      "[Parallel(n_jobs=8)]: Done 1000 out of 1000 | elapsed:    0.3s finished\n"
     ]
    }
   ],
   "source": [
    "# adding more trees for current best model \n",
    "random_forest_w_smote2 = RandomForestClassifier(n_estimators = 1000, random_state = 42, n_jobs=-1,\n",
    "                           verbose = 1)\n",
    "random_forest_w_smote2.fit(X_train_oversample3, y_train_oversample3)\n",
    "random_forest_w_smote_predictions2 = random_forest_w_smote2.predict(X_test)"
   ]
  },
  {
   "cell_type": "code",
   "execution_count": 202,
   "metadata": {},
   "outputs": [
    {
     "name": "stdout",
     "output_type": "stream",
     "text": [
      "      \n",
      "        The f1 score is 0.761. \n",
      "\n",
      "        The recall_score is 0.818. \n",
      "\n",
      "        The precision is 0.712. \n"
     ]
    }
   ],
   "source": [
    "metric_dictionary = find_metrics(y_test, random_forest_w_smote_predictions2, metric_dictionary, 'random_forest_w_smote2')"
   ]
  },
  {
   "cell_type": "markdown",
   "metadata": {},
   "source": [
    "# Saving models/data"
   ]
  },
  {
   "cell_type": "code",
   "execution_count": 531,
   "metadata": {},
   "outputs": [],
   "source": [
    "# with open('./corrected_textgrid/data_for_final_model/vowel_indices', \"wb+\") as f:\n",
    "#     pickle.dump(vowel_indices, f)"
   ]
  },
  {
   "cell_type": "code",
   "execution_count": 528,
   "metadata": {},
   "outputs": [],
   "source": [
    "# test_train_split = \"X_train, X_test, y_train, y_test = train_test_split(mfcc_df, vowel_indices_binary, test_size=0.33, random_state=1)\"\n",
    "# with open('./corrected_textgrid/data_for_final_model/test_train_split', \"wb+\") as f:\n",
    "#     pickle.dump(test_train_split, f)"
   ]
  },
  {
   "cell_type": "code",
   "execution_count": 529,
   "metadata": {},
   "outputs": [],
   "source": [
    "# best_model_info = \"\"\"\n",
    "# balanced_bagging_model2 = BalancedBaggingClassifier(n_estimators = 10000, random_state=42, n_jobs=-1)\n",
    "# balanced_bagging_model2.fit(X_train, y_train)\n",
    "# balanced_bagging_model_predictions2 = balanced_bagging_model2.predict(X_test)\n",
    "# \"\"\""
   ]
  },
  {
   "cell_type": "code",
   "execution_count": 530,
   "metadata": {},
   "outputs": [],
   "source": [
    "# with open('./corrected_textgrid/data_for_final_model/best_model_info', \"wb+\") as f:\n",
    "#     pickle.dump(best_model_info, f)"
   ]
  },
  {
   "cell_type": "code",
   "execution_count": null,
   "metadata": {},
   "outputs": [],
   "source": [
    "# why is there such a difference in the size of the two test/train/splits? \n",
    "## --- I think it's because I ran it on the new_indices that the hampel filter makes (only median values)\n",
    "## --- instead of the original data \n",
    "# _ I think the answer is that I made a mistake when I was finding the test/validate/train split point"
   ]
  },
  {
   "cell_type": "markdown",
   "metadata": {},
   "source": [
    "# Neural Networks"
   ]
  },
  {
   "cell_type": "markdown",
   "metadata": {},
   "source": [
    "## Getting data"
   ]
  },
  {
   "cell_type": "code",
   "execution_count": 78,
   "metadata": {},
   "outputs": [],
   "source": [
    "X_train, X_test, y_train, y_test = train_test_split(mfcc_df, vowel_indices_binary, test_size=0.33, random_state=1)"
   ]
  },
  {
   "cell_type": "code",
   "execution_count": 79,
   "metadata": {},
   "outputs": [
    {
     "data": {
      "text/plain": [
       "(14139, 14)"
      ]
     },
     "execution_count": 79,
     "metadata": {},
     "output_type": "execute_result"
    }
   ],
   "source": [
    "X_train.shape"
   ]
  },
  {
   "cell_type": "code",
   "execution_count": 80,
   "metadata": {},
   "outputs": [
    {
     "data": {
      "text/plain": [
       "(14139,)"
      ]
     },
     "execution_count": 80,
     "metadata": {},
     "output_type": "execute_result"
    }
   ],
   "source": [
    "y_train.shape"
   ]
  },
  {
   "cell_type": "markdown",
   "metadata": {},
   "source": [
    "## Vanilla Neural Networks"
   ]
  },
  {
   "cell_type": "markdown",
   "metadata": {},
   "source": [
    "### Model 1 - no upsample"
   ]
  },
  {
   "cell_type": "code",
   "execution_count": 81,
   "metadata": {},
   "outputs": [],
   "source": [
    "# Initialize a sequential model\n",
    "model = Sequential()\n",
    "# Two layers with relu activation 8 layers\n",
    "model.add(Dense(50, activation='relu', input_shape=(14,)))\n",
    "model.add(Dense(25, activation='relu'))\n",
    "model.add(Dense(25, activation='tanh'))\n",
    "model.add(Dropout(0.1))\n",
    "model.add(Dense(25, activation='relu'))\n",
    "model.add(Dense(25, activation='tanh'))\n",
    "model.add(Dense(25, activation='relu'))\n",
    "# model.add(Dropout(0.1))\n",
    "model.add(Dense(25, activation='tanh'))\n",
    "model.add(Dense(25, activation='relu'))\n",
    "# One layer with sigmoid activation \n",
    "model.add(Dense(1, activation='sigmoid'))"
   ]
  },
  {
   "cell_type": "code",
   "execution_count": 82,
   "metadata": {},
   "outputs": [],
   "source": [
    "# Compile the model\n",
    "model.compile(loss='binary_crossentropy', optimizer='adam', metrics=['accuracy']) "
   ]
  },
  {
   "cell_type": "code",
   "execution_count": 107,
   "metadata": {},
   "outputs": [],
   "source": [
    "es = EarlyStopping(monitor = 'acc', mode = 'auto', patience = 3, min_delta = 0.05)\n",
    "mcb = ModelCheckpoint('history', monitor= 'acc', mode = 'auto', verbose = 1, save_best_only=True)"
   ]
  },
  {
   "cell_type": "code",
   "execution_count": 108,
   "metadata": {},
   "outputs": [
    {
     "name": "stdout",
     "output_type": "stream",
     "text": [
      "Epoch 1/75\n",
      "14139/14139 [==============================] - 0s 31us/step - loss: 0.1965 - acc: 0.9156\n",
      "\n",
      "Epoch 00001: acc improved from -inf to 0.91562, saving model to history\n",
      "Epoch 2/75\n",
      "14139/14139 [==============================] - 0s 26us/step - loss: 0.1970 - acc: 0.9156\n",
      "\n",
      "Epoch 00002: acc did not improve from 0.91562\n",
      "Epoch 3/75\n",
      "14139/14139 [==============================] - 0s 25us/step - loss: 0.1974 - acc: 0.9142\n",
      "\n",
      "Epoch 00003: acc did not improve from 0.91562\n",
      "Epoch 4/75\n",
      "14139/14139 [==============================] - 0s 28us/step - loss: 0.1980 - acc: 0.9163\n",
      "\n",
      "Epoch 00004: acc improved from 0.91562 to 0.91626, saving model to history\n"
     ]
    }
   ],
   "source": [
    "history = model.fit(X_train, y_train,\n",
    "                    batch_size=64,\n",
    "                    epochs=75,\n",
    "                   callbacks = [es, mcb])"
   ]
  },
  {
   "cell_type": "code",
   "execution_count": 109,
   "metadata": {},
   "outputs": [
    {
     "data": {
      "text/plain": [
       "dict_keys(['loss', 'acc'])"
      ]
     },
     "execution_count": 109,
     "metadata": {},
     "output_type": "execute_result"
    }
   ],
   "source": [
    "#history\n",
    "history_dict = history.history\n",
    "history_dict.keys()"
   ]
  },
  {
   "cell_type": "code",
   "execution_count": 110,
   "metadata": {},
   "outputs": [
    {
     "data": {
      "text/plain": [
       "<matplotlib.axes._subplots.AxesSubplot at 0x1d1e594518>"
      ]
     },
     "execution_count": 110,
     "metadata": {},
     "output_type": "execute_result"
    },
    {
     "data": {
      "image/png": "[encoded data removed]",
      "text/plain": [
       "<Figure size 432x288 with 1 Axes>"
      ]
     },
     "metadata": {
      "needs_background": "light"
     },
     "output_type": "display_data"
    }
   ],
   "source": [
    "# Plot the loss vs the number of epoch\n",
    "sns.scatterplot(x = range(len(history_dict['loss'])), y=history_dict['loss'])"
   ]
  },
  {
   "cell_type": "code",
   "execution_count": 111,
   "metadata": {},
   "outputs": [
    {
     "data": {
      "text/plain": [
       "<matplotlib.axes._subplots.AxesSubplot at 0x1d1e5a00b8>"
      ]
     },
     "execution_count": 111,
     "metadata": {},
     "output_type": "execute_result"
    },
    {
     "data": {
      "image/png": "[encoded data removed]",
      "text/plain": [
       "<Figure size 432x288 with 1 Axes>"
      ]
     },
     "metadata": {
      "needs_background": "light"
     },
     "output_type": "display_data"
    }
   ],
   "source": [
    "# Plot the training accuracy vs the number of epochs\n",
    "sns.lineplot(x = range(len(history_dict['acc'])), y=history_dict['acc'])"
   ]
  },
  {
   "cell_type": "code",
   "execution_count": 112,
   "metadata": {},
   "outputs": [],
   "source": [
    "# Output (probability) predictions for the test set \n",
    "y_hat_test = model.predict(X_test)"
   ]
  },
  {
   "cell_type": "code",
   "execution_count": 113,
   "metadata": {},
   "outputs": [
    {
     "name": "stdout",
     "output_type": "stream",
     "text": [
      "14139/14139 [==============================] - 0s 17us/step\n"
     ]
    },
    {
     "data": {
      "text/plain": [
       "[0.18337407745160092, 0.9233326260823831]"
      ]
     },
     "execution_count": 113,
     "metadata": {},
     "output_type": "execute_result"
    }
   ],
   "source": [
    "# Print the loss and accuracy for the training set \n",
    "results_train = model.evaluate(X_train, y_train)\n",
    "results_train"
   ]
  },
  {
   "cell_type": "code",
   "execution_count": 114,
   "metadata": {},
   "outputs": [
    {
     "name": "stdout",
     "output_type": "stream",
     "text": [
      "6964/6964 [==============================] - 0s 17us/step\n"
     ]
    },
    {
     "data": {
      "text/plain": [
       "[0.3511136650080519, 0.8589890867659993]"
      ]
     },
     "execution_count": 114,
     "metadata": {},
     "output_type": "execute_result"
    }
   ],
   "source": [
    "# Print the loss and accuracy for the test set (it prints the evaluation metric values given to it)\n",
    "results_test = model.evaluate(X_test, y_test)\n",
    "results_test"
   ]
  },
  {
   "cell_type": "code",
   "execution_count": 117,
   "metadata": {},
   "outputs": [
    {
     "name": "stdout",
     "output_type": "stream",
     "text": [
      "              precision    recall  f1-score   support\n",
      "\n",
      "           0       0.90      0.92      0.91      5241\n",
      "           1       0.73      0.68      0.70      1723\n",
      "\n",
      "    accuracy                           0.86      6964\n",
      "   macro avg       0.81      0.80      0.81      6964\n",
      "weighted avg       0.86      0.86      0.86      6964\n",
      "\n"
     ]
    }
   ],
   "source": [
    "ynew = model.predict_classes(X_test)\n",
    "print(classification_report(y_test, ynew))"
   ]
  },
  {
   "cell_type": "code",
   "execution_count": 118,
   "metadata": {},
   "outputs": [
    {
     "data": {
      "text/plain": [
       "array([[4811,  430],\n",
       "       [ 552, 1171]])"
      ]
     },
     "execution_count": 118,
     "metadata": {},
     "output_type": "execute_result"
    }
   ],
   "source": [
    "model1_confusionmatrix = confusion_matrix(y_test, ynew)\n",
    "model1_confusionmatrix"
   ]
  },
  {
   "cell_type": "code",
   "execution_count": 119,
   "metadata": {},
   "outputs": [
    {
     "name": "stdout",
     "output_type": "stream",
     "text": [
      "      \n",
      "        The f1 score is 0.705. \n",
      "\n",
      "        The recall_score is 0.68. \n",
      "\n",
      "        The precision is 0.731. \n"
     ]
    }
   ],
   "source": [
    "metric_dictionary = find_metrics(y_test, ynew, metric_dictionary, 'first_vanilla_network')"
   ]
  },
  {
   "cell_type": "markdown",
   "metadata": {},
   "source": [
    "### Model 2 - class weighting"
   ]
  },
  {
   "cell_type": "markdown",
   "metadata": {},
   "source": [
    "#### What are the proportion of non-vowels to vowels"
   ]
  },
  {
   "cell_type": "code",
   "execution_count": 104,
   "metadata": {},
   "outputs": [
    {
     "data": {
      "text/plain": [
       "4.04178757980267"
      ]
     },
     "execution_count": 104,
     "metadata": {},
     "output_type": "execute_result"
    }
   ],
   "source": [
    "# approximately a 1:4 ratio\n",
    "len(y_test) / y_test.sum()"
   ]
  },
  {
   "cell_type": "markdown",
   "metadata": {},
   "source": [
    "#### Class weight dictionary to add to the model"
   ]
  },
  {
   "cell_type": "code",
   "execution_count": 124,
   "metadata": {},
   "outputs": [],
   "source": [
    "# making the values the inverse of the proportion so that vowels are weighted more strongly\n",
    "weights = {0:1, 1:4}"
   ]
  },
  {
   "cell_type": "markdown",
   "metadata": {},
   "source": [
    "#### The model"
   ]
  },
  {
   "cell_type": "code",
   "execution_count": 125,
   "metadata": {},
   "outputs": [],
   "source": [
    "# Initialize a sequential model\n",
    "model2 = Sequential()\n",
    "# Two layers with relu activation 8 layers\n",
    "model2.add(Dense(50, activation='relu', input_shape=(14,)))\n",
    "model2.add(Dense(25, activation='relu'))\n",
    "model2.add(Dense(25, activation='tanh'))\n",
    "model2.add(Dropout(0.1))\n",
    "model2.add(Dense(25, activation='relu'))\n",
    "model2.add(Dense(25, activation='tanh'))\n",
    "model2.add(Dense(25, activation='relu'))\n",
    "# model.add(Dropout(0.1))\n",
    "model2.add(Dense(25, activation='tanh'))\n",
    "model2.add(Dense(25, activation='relu'))\n",
    "# One layer with sigmoid activation \n",
    "model2.add(Dense(1, activation='sigmoid'))"
   ]
  },
  {
   "cell_type": "code",
   "execution_count": 126,
   "metadata": {},
   "outputs": [],
   "source": [
    "# Compile the model\n",
    "model2.compile(loss='binary_crossentropy', optimizer='adam', metrics=['accuracy']) "
   ]
  },
  {
   "cell_type": "code",
   "execution_count": 128,
   "metadata": {},
   "outputs": [
    {
     "name": "stdout",
     "output_type": "stream",
     "text": [
      "Epoch 1/75\n",
      "14139/14139 [==============================] - 1s 59us/step - loss: 0.6957 - acc: 0.7709\n",
      "\n",
      "Epoch 00001: acc improved from -inf to 0.77092, saving model to history\n",
      "Epoch 2/75\n",
      "14139/14139 [==============================] - 0s 28us/step - loss: 0.5929 - acc: 0.8020\n",
      "\n",
      "Epoch 00002: acc improved from 0.77092 to 0.80197, saving model to history\n",
      "Epoch 3/75\n",
      "14139/14139 [==============================] - 0s 26us/step - loss: 0.5725 - acc: 0.8115\n",
      "\n",
      "Epoch 00003: acc improved from 0.80197 to 0.81151, saving model to history\n",
      "Epoch 4/75\n",
      "14139/14139 [==============================] - 0s 25us/step - loss: 0.5621 - acc: 0.8219\n",
      "\n",
      "Epoch 00004: acc improved from 0.81151 to 0.82191, saving model to history\n",
      "Epoch 5/75\n",
      "14139/14139 [==============================] - 0s 25us/step - loss: 0.5506 - acc: 0.8234\n",
      "\n",
      "Epoch 00005: acc improved from 0.82191 to 0.82340, saving model to history\n",
      "Epoch 6/75\n",
      "14139/14139 [==============================] - 0s 25us/step - loss: 0.5514 - acc: 0.8305\n",
      "\n",
      "Epoch 00006: acc improved from 0.82340 to 0.83047, saving model to history\n",
      "Epoch 7/75\n",
      "14139/14139 [==============================] - 0s 26us/step - loss: 0.5415 - acc: 0.8298\n",
      "\n",
      "Epoch 00007: acc did not improve from 0.83047\n"
     ]
    }
   ],
   "source": [
    "history2 = model2.fit(X_train, y_train,\n",
    "                    batch_size=64,\n",
    "                    epochs=75,\n",
    "                   callbacks = [es, mcb],\n",
    "                    class_weight=weights)"
   ]
  },
  {
   "cell_type": "code",
   "execution_count": 129,
   "metadata": {},
   "outputs": [
    {
     "data": {
      "text/plain": [
       "dict_keys(['loss', 'acc'])"
      ]
     },
     "execution_count": 129,
     "metadata": {},
     "output_type": "execute_result"
    }
   ],
   "source": [
    "#history\n",
    "history_dict2 = history2.history\n",
    "history_dict2.keys()"
   ]
  },
  {
   "cell_type": "code",
   "execution_count": 130,
   "metadata": {},
   "outputs": [
    {
     "data": {
      "text/plain": [
       "<matplotlib.axes._subplots.AxesSubplot at 0x1d1d5e8438>"
      ]
     },
     "execution_count": 130,
     "metadata": {},
     "output_type": "execute_result"
    },
    {
     "data": {
      "image/png": "[encoded data removed]",
      "text/plain": [
       "<Figure size 432x288 with 1 Axes>"
      ]
     },
     "metadata": {
      "needs_background": "light"
     },
     "output_type": "display_data"
    }
   ],
   "source": [
    "# Plot the loss vs the number of epoch\n",
    "sns.scatterplot(x = range(len(history_dict2['loss'])), y=history_dict2['loss'])"
   ]
  },
  {
   "cell_type": "code",
   "execution_count": 131,
   "metadata": {},
   "outputs": [
    {
     "data": {
      "text/plain": [
       "<matplotlib.axes._subplots.AxesSubplot at 0x1d1e651a58>"
      ]
     },
     "execution_count": 131,
     "metadata": {},
     "output_type": "execute_result"
    },
    {
     "data": {
      "image/png": "[encoded data removed]",
      "text/plain": [
       "<Figure size 432x288 with 1 Axes>"
      ]
     },
     "metadata": {
      "needs_background": "light"
     },
     "output_type": "display_data"
    }
   ],
   "source": [
    "# Plot the training accuracy vs the number of epochs\n",
    "sns.lineplot(x = range(len(history_dict2['acc'])), y=history_dict2['acc'])"
   ]
  },
  {
   "cell_type": "code",
   "execution_count": 132,
   "metadata": {},
   "outputs": [],
   "source": [
    "# Output (probability) predictions for the test set \n",
    "y_hat_test2 = model2.predict(X_test)"
   ]
  },
  {
   "cell_type": "code",
   "execution_count": 133,
   "metadata": {},
   "outputs": [
    {
     "name": "stdout",
     "output_type": "stream",
     "text": [
      "14139/14139 [==============================] - 0s 24us/step\n"
     ]
    },
    {
     "data": {
      "text/plain": [
       "[0.34735357873729317, 0.8266496923234727]"
      ]
     },
     "execution_count": 133,
     "metadata": {},
     "output_type": "execute_result"
    }
   ],
   "source": [
    "# Print the loss and accuracy for the training set \n",
    "results_train2 = model2.evaluate(X_train, y_train)\n",
    "results_train2"
   ]
  },
  {
   "cell_type": "code",
   "execution_count": 134,
   "metadata": {},
   "outputs": [
    {
     "name": "stdout",
     "output_type": "stream",
     "text": [
      "6964/6964 [==============================] - 0s 18us/step\n"
     ]
    },
    {
     "data": {
      "text/plain": [
       "[0.37551647811563177, 0.8179207351411779]"
      ]
     },
     "execution_count": 134,
     "metadata": {},
     "output_type": "execute_result"
    }
   ],
   "source": [
    "# Print the loss and accuracy for the test set (it prints the evaluation metric values given to it)\n",
    "results_test2 = model2.evaluate(X_test, y_test)\n",
    "results_test2"
   ]
  },
  {
   "cell_type": "code",
   "execution_count": 135,
   "metadata": {},
   "outputs": [
    {
     "name": "stdout",
     "output_type": "stream",
     "text": [
      "              precision    recall  f1-score   support\n",
      "\n",
      "           0       0.97      0.78      0.87      5241\n",
      "           1       0.58      0.92      0.71      1723\n",
      "\n",
      "    accuracy                           0.82      6964\n",
      "   macro avg       0.78      0.85      0.79      6964\n",
      "weighted avg       0.87      0.82      0.83      6964\n",
      "\n"
     ]
    }
   ],
   "source": [
    "ynew2 = model2.predict_classes(X_test)\n",
    "print(classification_report(y_test, ynew2))"
   ]
  },
  {
   "cell_type": "code",
   "execution_count": 136,
   "metadata": {},
   "outputs": [
    {
     "data": {
      "text/plain": [
       "array([[4106, 1135],\n",
       "       [ 133, 1590]])"
      ]
     },
     "execution_count": 136,
     "metadata": {},
     "output_type": "execute_result"
    }
   ],
   "source": [
    "model1_confusionmatrix2 = confusion_matrix(y_test, ynew2)\n",
    "model1_confusionmatrix2"
   ]
  },
  {
   "cell_type": "code",
   "execution_count": 137,
   "metadata": {},
   "outputs": [
    {
     "name": "stdout",
     "output_type": "stream",
     "text": [
      "      \n",
      "        The f1 score is 0.715. \n",
      "\n",
      "        The recall_score is 0.923. \n",
      "\n",
      "        The precision is 0.583. \n"
     ]
    }
   ],
   "source": [
    "# no difference from first model\n",
    "metric_dictionary = find_metrics(y_test, ynew2, metric_dictionary, 'second_vanilla_network')"
   ]
  },
  {
   "cell_type": "markdown",
   "metadata": {},
   "source": [
    "## Upsampling Vowels"
   ]
  },
  {
   "cell_type": "code",
   "execution_count": 139,
   "metadata": {},
   "outputs": [],
   "source": [
    "# upsampling on the training data \n",
    "oversample = SMOTE()\n",
    "X_train_oversample, y_train_oversample = oversample.fit_resample(X_train, y_train)"
   ]
  },
  {
   "cell_type": "code",
   "execution_count": 140,
   "metadata": {},
   "outputs": [
    {
     "data": {
      "text/plain": [
       "21530"
      ]
     },
     "execution_count": 140,
     "metadata": {},
     "output_type": "execute_result"
    }
   ],
   "source": [
    "len(X_train_oversample)"
   ]
  },
  {
   "cell_type": "code",
   "execution_count": 141,
   "metadata": {},
   "outputs": [
    {
     "data": {
      "text/plain": [
       "14139"
      ]
     },
     "execution_count": 141,
     "metadata": {},
     "output_type": "execute_result"
    }
   ],
   "source": [
    "len(X_train)"
   ]
  },
  {
   "cell_type": "markdown",
   "metadata": {},
   "source": [
    "### Model 3"
   ]
  },
  {
   "cell_type": "code",
   "execution_count": 164,
   "metadata": {},
   "outputs": [],
   "source": [
    "# Initialize a sequential model\n",
    "model3 = Sequential()\n",
    "# Two layers with relu activation 8 layers\n",
    "model3.add(Dense(50, activation='relu', input_shape=(14,)))\n",
    "model3.add(Dense(25, activation='relu'))\n",
    "model3.add(Dense(25, activation='tanh'))\n",
    "model3.add(Dropout(0.1))\n",
    "model3.add(Dense(25, activation='relu'))\n",
    "model3.add(Dense(25, activation='tanh'))\n",
    "model3.add(Dense(25, activation='relu'))\n",
    "# model.add(Dropout(0.1))\n",
    "model3.add(Dense(25, activation='tanh'))\n",
    "model3.add(Dense(25, activation='relu'))\n",
    "# One layer with sigmoid activation \n",
    "model3.add(Dense(1, activation='sigmoid'))"
   ]
  },
  {
   "cell_type": "code",
   "execution_count": 165,
   "metadata": {},
   "outputs": [],
   "source": [
    "# Compile the model\n",
    "model3.compile(loss='binary_crossentropy', optimizer='adam', metrics=['accuracy']) "
   ]
  },
  {
   "cell_type": "code",
   "execution_count": 166,
   "metadata": {},
   "outputs": [
    {
     "name": "stdout",
     "output_type": "stream",
     "text": [
      "Epoch 1/75\n",
      "21530/21530 [==============================] - 1s 53us/step - loss: 0.3748 - acc: 0.8428\n",
      "\n",
      "Epoch 00001: acc did not improve from 0.86651\n",
      "Epoch 2/75\n",
      "21530/21530 [==============================] - 1s 27us/step - loss: 0.3330 - acc: 0.8622\n",
      "\n",
      "Epoch 00002: acc did not improve from 0.86651\n",
      "Epoch 3/75\n",
      "21530/21530 [==============================] - 1s 28us/step - loss: 0.3236 - acc: 0.8687\n",
      "\n",
      "Epoch 00003: acc improved from 0.86651 to 0.86869, saving model to history\n",
      "Epoch 4/75\n",
      "21530/21530 [==============================] - 1s 28us/step - loss: 0.3174 - acc: 0.8689\n",
      "\n",
      "Epoch 00004: acc improved from 0.86869 to 0.86893, saving model to history\n"
     ]
    }
   ],
   "source": [
    "history3 = model3.fit(X_train_oversample, y_train_oversample,\n",
    "                    batch_size=64,\n",
    "                    epochs=75,\n",
    "                   callbacks = [es, mcb])"
   ]
  },
  {
   "cell_type": "code",
   "execution_count": 167,
   "metadata": {},
   "outputs": [
    {
     "data": {
      "text/plain": [
       "dict_keys(['loss', 'acc'])"
      ]
     },
     "execution_count": 167,
     "metadata": {},
     "output_type": "execute_result"
    }
   ],
   "source": [
    "#history\n",
    "history_dict3 = history3.history\n",
    "history_dict3.keys()"
   ]
  },
  {
   "cell_type": "code",
   "execution_count": 168,
   "metadata": {},
   "outputs": [
    {
     "data": {
      "text/plain": [
       "<matplotlib.axes._subplots.AxesSubplot at 0x1d22313278>"
      ]
     },
     "execution_count": 168,
     "metadata": {},
     "output_type": "execute_result"
    },
    {
     "data": {
      "image/png": "[encoded data removed]",
      "text/plain": [
       "<Figure size 432x288 with 1 Axes>"
      ]
     },
     "metadata": {
      "needs_background": "light"
     },
     "output_type": "display_data"
    }
   ],
   "source": [
    "# Plot the loss vs the number of epoch\n",
    "sns.scatterplot(x = range(len(history_dict3['loss'])), y=history_dict3['loss'])"
   ]
  },
  {
   "cell_type": "code",
   "execution_count": 169,
   "metadata": {},
   "outputs": [
    {
     "data": {
      "text/plain": [
       "<matplotlib.axes._subplots.AxesSubplot at 0x1d1fff8b00>"
      ]
     },
     "execution_count": 169,
     "metadata": {},
     "output_type": "execute_result"
    },
    {
     "data": {
      "image/png": "[encoded data removed]",
      "text/plain": [
       "<Figure size 432x288 with 1 Axes>"
      ]
     },
     "metadata": {
      "needs_background": "light"
     },
     "output_type": "display_data"
    }
   ],
   "source": [
    "# Plot the training accuracy vs the number of epochs\n",
    "sns.lineplot(x = range(len(history_dict3['acc'])), y=history_dict3['acc'])"
   ]
  },
  {
   "cell_type": "code",
   "execution_count": 170,
   "metadata": {},
   "outputs": [],
   "source": [
    "# Output (probability) predictions for the test set \n",
    "y_hat_test3 = model3.predict(X_test)"
   ]
  },
  {
   "cell_type": "code",
   "execution_count": 171,
   "metadata": {},
   "outputs": [
    {
     "name": "stdout",
     "output_type": "stream",
     "text": [
      "21530/21530 [==============================] - 1s 28us/step\n"
     ]
    },
    {
     "data": {
      "text/plain": [
       "[0.30977009245256354, 0.8705991639628058]"
      ]
     },
     "execution_count": 171,
     "metadata": {},
     "output_type": "execute_result"
    }
   ],
   "source": [
    "# Print the loss and accuracy for the training set \n",
    "results_train3 = model3.evaluate(X_train_oversample, y_train_oversample)\n",
    "results_train3"
   ]
  },
  {
   "cell_type": "code",
   "execution_count": 172,
   "metadata": {},
   "outputs": [
    {
     "name": "stdout",
     "output_type": "stream",
     "text": [
      "6964/6964 [==============================] - 0s 22us/step\n"
     ]
    },
    {
     "data": {
      "text/plain": [
       "[0.3165405469335132, 0.8558299828369955]"
      ]
     },
     "execution_count": 172,
     "metadata": {},
     "output_type": "execute_result"
    }
   ],
   "source": [
    "# Print the loss and accuracy for the test set (it prints the evaluation metric values given to it)\n",
    "results_test3 = model3.evaluate(X_test, y_test)\n",
    "results_test3"
   ]
  },
  {
   "cell_type": "code",
   "execution_count": 173,
   "metadata": {},
   "outputs": [
    {
     "name": "stdout",
     "output_type": "stream",
     "text": [
      "              precision    recall  f1-score   support\n",
      "\n",
      "           0       0.94      0.86      0.90      5241\n",
      "           1       0.66      0.84      0.74      1723\n",
      "\n",
      "    accuracy                           0.86      6964\n",
      "   macro avg       0.80      0.85      0.82      6964\n",
      "weighted avg       0.87      0.86      0.86      6964\n",
      "\n"
     ]
    }
   ],
   "source": [
    "ynew3 = model3.predict_classes(X_test)\n",
    "print(classification_report(y_test, ynew3))"
   ]
  },
  {
   "cell_type": "code",
   "execution_count": 174,
   "metadata": {},
   "outputs": [
    {
     "data": {
      "text/plain": [
       "array([[4505,  736],\n",
       "       [ 268, 1455]])"
      ]
     },
     "execution_count": 174,
     "metadata": {},
     "output_type": "execute_result"
    }
   ],
   "source": [
    "model1_confusionmatrix3 = confusion_matrix(y_test, ynew3)\n",
    "model1_confusionmatrix3"
   ]
  },
  {
   "cell_type": "code",
   "execution_count": 175,
   "metadata": {},
   "outputs": [
    {
     "name": "stdout",
     "output_type": "stream",
     "text": [
      "      \n",
      "        The f1 score is 0.743. \n",
      "\n",
      "        The recall_score is 0.844. \n",
      "\n",
      "        The precision is 0.664. \n"
     ]
    }
   ],
   "source": [
    "# wow! this works amazingly well! \n",
    "metric_dictionary = find_metrics(y_test, ynew3, metric_dictionary, 'vanilla_network_w_upsample')"
   ]
  },
  {
   "cell_type": "markdown",
   "metadata": {},
   "source": [
    "## Upsampling with Undersampling Examples "
   ]
  },
  {
   "cell_type": "code",
   "execution_count": 176,
   "metadata": {},
   "outputs": [],
   "source": [
    "# changing the training samples, not the test samples\n",
    "oversample2 = SMOTE(sampling_strategy=0.6)\n",
    "under = RandomUnderSampler(sampling_strategy=0.7)"
   ]
  },
  {
   "cell_type": "code",
   "execution_count": 177,
   "metadata": {},
   "outputs": [],
   "source": [
    "X_train_over2, y_train_over2 = oversample2.fit_resample(X_train, y_train)"
   ]
  },
  {
   "cell_type": "code",
   "execution_count": 178,
   "metadata": {},
   "outputs": [],
   "source": [
    "X_train_under_over, y_train_under_over = under.fit_resample(X_train_over2, y_train_over2)"
   ]
  },
  {
   "cell_type": "code",
   "execution_count": 179,
   "metadata": {},
   "outputs": [
    {
     "data": {
      "text/plain": [
       "14139"
      ]
     },
     "execution_count": 179,
     "metadata": {},
     "output_type": "execute_result"
    }
   ],
   "source": [
    "len(X_train)"
   ]
  },
  {
   "cell_type": "code",
   "execution_count": 180,
   "metadata": {},
   "outputs": [
    {
     "data": {
      "text/plain": [
       "17224"
      ]
     },
     "execution_count": 180,
     "metadata": {},
     "output_type": "execute_result"
    }
   ],
   "source": [
    "len(X_train_over2)"
   ]
  },
  {
   "cell_type": "code",
   "execution_count": 181,
   "metadata": {},
   "outputs": [
    {
     "data": {
      "text/plain": [
       "15686"
      ]
     },
     "execution_count": 181,
     "metadata": {},
     "output_type": "execute_result"
    }
   ],
   "source": [
    "len(X_train_under_over)"
   ]
  },
  {
   "cell_type": "markdown",
   "metadata": {},
   "source": [
    "#### Getting ratio between the two classes now"
   ]
  },
  {
   "cell_type": "code",
   "execution_count": 182,
   "metadata": {},
   "outputs": [
    {
     "data": {
      "text/plain": [
       "0.4117684559479791"
      ]
     },
     "execution_count": 182,
     "metadata": {},
     "output_type": "execute_result"
    }
   ],
   "source": [
    "y_train_under_over.sum() / len(y_train_under_over)"
   ]
  },
  {
   "cell_type": "markdown",
   "metadata": {},
   "source": [
    "Now we have a 40/60 split of vowels to non-vowels"
   ]
  },
  {
   "cell_type": "markdown",
   "metadata": {},
   "source": [
    "### Model 4"
   ]
  },
  {
   "cell_type": "code",
   "execution_count": 183,
   "metadata": {},
   "outputs": [],
   "source": [
    "# Initialize a sequential model\n",
    "model4 = Sequential()\n",
    "# Two layers with relu activation 8 layers\n",
    "model4.add(Dense(50, activation='relu', input_shape=(14,)))\n",
    "model4.add(Dense(25, activation='relu'))\n",
    "model4.add(Dense(25, activation='tanh'))\n",
    "model4.add(Dropout(0.1))\n",
    "model4.add(Dense(25, activation='relu'))\n",
    "model4.add(Dense(25, activation='tanh'))\n",
    "model4.add(Dense(25, activation='relu'))\n",
    "# model.add(Dropout(0.1))\n",
    "model4.add(Dense(25, activation='tanh'))\n",
    "model4.add(Dense(25, activation='relu'))\n",
    "# One layer with sigmoid activation \n",
    "model4.add(Dense(1, activation='sigmoid'))"
   ]
  },
  {
   "cell_type": "code",
   "execution_count": 184,
   "metadata": {},
   "outputs": [],
   "source": [
    "# Compile the model\n",
    "model4.compile(loss='binary_crossentropy', optimizer='adam', metrics=['accuracy']) "
   ]
  },
  {
   "cell_type": "code",
   "execution_count": 185,
   "metadata": {},
   "outputs": [
    {
     "name": "stdout",
     "output_type": "stream",
     "text": [
      "Epoch 1/75\n",
      "15686/15686 [==============================] - 1s 66us/step - loss: 0.3978 - acc: 0.8142\n",
      "\n",
      "Epoch 00001: acc did not improve from 0.86893\n",
      "Epoch 2/75\n",
      "15686/15686 [==============================] - 0s 28us/step - loss: 0.3387 - acc: 0.8541\n",
      "\n",
      "Epoch 00002: acc did not improve from 0.86893\n",
      "Epoch 3/75\n",
      "15686/15686 [==============================] - 0s 27us/step - loss: 0.3272 - acc: 0.8570\n",
      "\n",
      "Epoch 00003: acc did not improve from 0.86893\n",
      "Epoch 4/75\n",
      "15686/15686 [==============================] - 0s 28us/step - loss: 0.3196 - acc: 0.8606\n",
      "\n",
      "Epoch 00004: acc did not improve from 0.86893\n"
     ]
    }
   ],
   "source": [
    "history4 = model4.fit(X_train_under_over, y_train_under_over,\n",
    "                    batch_size=64,\n",
    "                    epochs=75,\n",
    "                   callbacks = [es, mcb])"
   ]
  },
  {
   "cell_type": "code",
   "execution_count": 186,
   "metadata": {},
   "outputs": [
    {
     "data": {
      "text/plain": [
       "dict_keys(['loss', 'acc'])"
      ]
     },
     "execution_count": 186,
     "metadata": {},
     "output_type": "execute_result"
    }
   ],
   "source": [
    "#history\n",
    "history_dict4 = history4.history\n",
    "history_dict4.keys()"
   ]
  },
  {
   "cell_type": "code",
   "execution_count": 187,
   "metadata": {},
   "outputs": [
    {
     "data": {
      "text/plain": [
       "<matplotlib.axes._subplots.AxesSubplot at 0x1d1ef1d9e8>"
      ]
     },
     "execution_count": 187,
     "metadata": {},
     "output_type": "execute_result"
    },
    {
     "data": {
      "image/png": "[encoded data removed]",
      "text/plain": [
       "<Figure size 432x288 with 1 Axes>"
      ]
     },
     "metadata": {
      "needs_background": "light"
     },
     "output_type": "display_data"
    }
   ],
   "source": [
    "# Plot the loss vs the number of epoch\n",
    "sns.scatterplot(x = range(len(history_dict4['loss'])), y=history_dict4['loss'])"
   ]
  },
  {
   "cell_type": "code",
   "execution_count": 188,
   "metadata": {},
   "outputs": [
    {
     "data": {
      "text/plain": [
       "<matplotlib.axes._subplots.AxesSubplot at 0x1d223986a0>"
      ]
     },
     "execution_count": 188,
     "metadata": {},
     "output_type": "execute_result"
    },
    {
     "data": {
      "image/png": "[encoded data removed]",
      "text/plain": [
       "<Figure size 432x288 with 1 Axes>"
      ]
     },
     "metadata": {
      "needs_background": "light"
     },
     "output_type": "display_data"
    }
   ],
   "source": [
    "# Plot the training accuracy vs the number of epochs\n",
    "sns.lineplot(x = range(len(history_dict4['acc'])), y=history_dict4['acc'])"
   ]
  },
  {
   "cell_type": "code",
   "execution_count": 189,
   "metadata": {},
   "outputs": [],
   "source": [
    "# Output (probability) predictions for the test set \n",
    "y_hat_test4 = model4.predict(X_test)"
   ]
  },
  {
   "cell_type": "code",
   "execution_count": 190,
   "metadata": {},
   "outputs": [
    {
     "name": "stdout",
     "output_type": "stream",
     "text": [
      "15686/15686 [==============================] - 1s 32us/step\n"
     ]
    },
    {
     "data": {
      "text/plain": [
       "[0.30855096066110554, 0.867206426112457]"
      ]
     },
     "execution_count": 190,
     "metadata": {},
     "output_type": "execute_result"
    }
   ],
   "source": [
    "# Print the loss and accuracy for the training set \n",
    "results_train4 = model4.evaluate(X_train_under_over, y_train_under_over)\n",
    "results_train4"
   ]
  },
  {
   "cell_type": "code",
   "execution_count": 191,
   "metadata": {},
   "outputs": [
    {
     "name": "stdout",
     "output_type": "stream",
     "text": [
      "6964/6964 [==============================] - 0s 24us/step\n"
     ]
    },
    {
     "data": {
      "text/plain": [
       "[0.3128868903085324, 0.8595634692020624]"
      ]
     },
     "execution_count": 191,
     "metadata": {},
     "output_type": "execute_result"
    }
   ],
   "source": [
    "# Print the loss and accuracy for the test set (it prints the evaluation metric values given to it)\n",
    "results_test4 = model4.evaluate(X_test, y_test)\n",
    "results_test4"
   ]
  },
  {
   "cell_type": "code",
   "execution_count": 192,
   "metadata": {},
   "outputs": [
    {
     "name": "stdout",
     "output_type": "stream",
     "text": [
      "              precision    recall  f1-score   support\n",
      "\n",
      "           0       0.94      0.87      0.90      5241\n",
      "           1       0.68      0.82      0.74      1723\n",
      "\n",
      "    accuracy                           0.86      6964\n",
      "   macro avg       0.81      0.85      0.82      6964\n",
      "weighted avg       0.87      0.86      0.86      6964\n",
      "\n"
     ]
    }
   ],
   "source": [
    "ynew4 = model4.predict_classes(X_test)\n",
    "print(classification_report(y_test, ynew4))"
   ]
  },
  {
   "cell_type": "code",
   "execution_count": 193,
   "metadata": {},
   "outputs": [
    {
     "data": {
      "text/plain": [
       "array([[4565,  676],\n",
       "       [ 302, 1421]])"
      ]
     },
     "execution_count": 193,
     "metadata": {},
     "output_type": "execute_result"
    }
   ],
   "source": [
    "model1_confusionmatrix4 = confusion_matrix(y_test, ynew4)\n",
    "model1_confusionmatrix4"
   ]
  },
  {
   "cell_type": "code",
   "execution_count": 194,
   "metadata": {},
   "outputs": [
    {
     "name": "stdout",
     "output_type": "stream",
     "text": [
      "      \n",
      "        The f1 score is 0.744. \n",
      "\n",
      "        The recall_score is 0.825. \n",
      "\n",
      "        The precision is 0.678. \n"
     ]
    }
   ],
   "source": [
    "# similar though slightly better results than just upsampling\n",
    "metric_dictionary = find_metrics(y_test, ynew4, metric_dictionary, 'vanilla_network_w_upsample_and_downsample')"
   ]
  },
  {
   "cell_type": "markdown",
   "metadata": {},
   "source": [
    "## Choosing Best Model"
   ]
  },
  {
   "cell_type": "code",
   "execution_count": 203,
   "metadata": {},
   "outputs": [
    {
     "name": "stdout",
     "output_type": "stream",
     "text": [
      "random_forest_w_smote2\n",
      "0.761\n"
     ]
    }
   ],
   "source": [
    "best_f1 = 0\n",
    "best_model_list = []\n",
    "for item in metric_dictionary:\n",
    "    if metric_dictionary[item]['f1_score'] > best_f1:\n",
    "        best_f1 = metric_dictionary[item]['f1_score']\n",
    "        best_model_list.append(item)\n",
    "print(best_model_list[-1])\n",
    "print(best_f1)"
   ]
  },
  {
   "cell_type": "markdown",
   "metadata": {},
   "source": [
    "# Conclusion about Classification Models"
   ]
  },
  {
   "cell_type": "markdown",
   "metadata": {},
   "source": [
    "My best model is a random forest that upsamples data with SMOTE. It has an F1 score of 0.761. The neural networks were also improve by using SMOTE. "
   ]
  },
  {
   "cell_type": "code",
   "execution_count": 204,
   "metadata": {},
   "outputs": [
    {
     "data": {
      "text/plain": [
       "{'first_random_forest': {'f1_score': 0.728,\n",
       "  'recall_score': 0.706,\n",
       "  'precision_score': 0.752},\n",
       " 'second_random_forest': {'f1_score': 0.736,\n",
       "  'recall_score': 0.719,\n",
       "  'precision_score': 0.755},\n",
       " 'third_random_forest': {'f1_score': 0.723,\n",
       "  'recall_score': 0.685,\n",
       "  'precision_score': 0.764},\n",
       " 'fourth_random_forest': {'f1_score': 0.734,\n",
       "  'recall_score': 0.917,\n",
       "  'precision_score': 0.612},\n",
       " 'fifth_random_forest': {'f1_score': 0.727,\n",
       "  'recall_score': 0.694,\n",
       "  'precision_score': 0.764},\n",
       " 'first_bagged_model': {'f1_score': 0.736,\n",
       "  'recall_score': 0.723,\n",
       "  'precision_score': 0.749},\n",
       " 'second_bagged_model': {'f1_score': 0.746,\n",
       "  'recall_score': 0.867,\n",
       "  'precision_score': 0.654},\n",
       " 'first_ensemble_model': {'f1_score': 0.707,\n",
       "  'recall_score': 0.918,\n",
       "  'precision_score': 0.575},\n",
       " 'random_forest_w_smote': {'f1_score': 0.755,\n",
       "  'recall_score': 0.81,\n",
       "  'precision_score': 0.708},\n",
       " 'random_forest_w_smote2': {'f1_score': 0.761,\n",
       "  'recall_score': 0.818,\n",
       "  'precision_score': 0.712},\n",
       " 'first_vanilla_network': {'f1_score': 0.705,\n",
       "  'recall_score': 0.68,\n",
       "  'precision_score': 0.731},\n",
       " 'second_vanilla_network': {'f1_score': 0.715,\n",
       "  'recall_score': 0.923,\n",
       "  'precision_score': 0.583},\n",
       " 'vanilla_network_w_upsample': {'f1_score': 0.743,\n",
       "  'recall_score': 0.844,\n",
       "  'precision_score': 0.664},\n",
       " 'vanilla_network_w_upsample_and_downsample': {'f1_score': 0.744,\n",
       "  'recall_score': 0.825,\n",
       "  'precision_score': 0.678}}"
      ]
     },
     "execution_count": 204,
     "metadata": {},
     "output_type": "execute_result"
    }
   ],
   "source": [
    "metric_dictionary"
   ]
  },
  {
   "cell_type": "markdown",
   "metadata": {},
   "source": [
    "# Analyzing Results "
   ]
  },
  {
   "cell_type": "markdown",
   "metadata": {},
   "source": [
    "- So all of these models were analyzing the individual frames (1/400th of a second) in a random order (therefore, without surrounding context). Vowels in the real world appear as a 25-150 millisecond continuous collection of sounds. Therefore, the frames are somewhat unnatural in terms of making a singular prediction of vowel or not vowel. \n",
    "- Here, I'll analyze the predictions of my models to see if my models:\n",
    "    - make at least one correct prediction over the course of a vowel\n",
    "    - what are the tendencies of the incorrect predictions: are they sounds similar to vowels?\n",
    "- Since it will be near impossible to place the upsampled/downsampled predictions in the original order (as far as I am aware), I will work with the best model that does not upsample/downsample: the second bagged model"
   ]
  },
  {
   "cell_type": "markdown",
   "metadata": {},
   "source": [
    "## Rerunning the model without a shuffled test/train split"
   ]
  },
  {
   "cell_type": "code",
   "execution_count": null,
   "metadata": {},
   "outputs": [],
   "source": [
    "#original test train split was done with this code\n",
    "# X_train, X_test, y_train, y_test = train_test_split(mfcc_df, vowel_indices_binary, test_size=0.33, random_state=1)"
   ]
  },
  {
   "cell_type": "markdown",
   "metadata": {},
   "source": [
    "### Finding Split Point"
   ]
  },
  {
   "cell_type": "code",
   "execution_count": 218,
   "metadata": {},
   "outputs": [],
   "source": [
    "# I will split the first 67% of data as train, and last 33% as test \n",
    "split_point = int(len(mfcc_df) * 0.67)"
   ]
  },
  {
   "cell_type": "code",
   "execution_count": 306,
   "metadata": {},
   "outputs": [
    {
     "data": {
      "text/plain": [
       "14139"
      ]
     },
     "execution_count": 306,
     "metadata": {},
     "output_type": "execute_result"
    }
   ],
   "source": [
    "split_point"
   ]
  },
  {
   "cell_type": "code",
   "execution_count": 219,
   "metadata": {},
   "outputs": [],
   "source": [
    "X_train67 = mfcc_df[:split_point]\n",
    "y_train67 = vowel_indices_binary[:split_point]\n",
    "X_test33 = mfcc_df[split_point:]\n",
    "y_test33 = vowel_indices_binary[split_point:]"
   ]
  },
  {
   "cell_type": "markdown",
   "metadata": {},
   "source": [
    "### Rerunning the model"
   ]
  },
  {
   "cell_type": "code",
   "execution_count": 220,
   "metadata": {},
   "outputs": [],
   "source": [
    "balanced_bagging_model2 = BalancedBaggingClassifier(n_estimators = 100, random_state=42, n_jobs=-1)\n",
    "balanced_bagging_model2.fit(X_train67, y_train67)\n",
    "balanced_bagging_model_predictions2 = balanced_bagging_model2.predict(X_test33)"
   ]
  },
  {
   "cell_type": "code",
   "execution_count": 221,
   "metadata": {},
   "outputs": [
    {
     "name": "stdout",
     "output_type": "stream",
     "text": [
      "      \n",
      "        The f1 score is 0.725. \n",
      "\n",
      "        The recall_score is 0.781. \n",
      "\n",
      "        The precision is 0.676. \n"
     ]
    }
   ],
   "source": [
    "metric_dictionary = find_metrics(y_test33, balanced_bagging_model_predictions2, metric_dictionary, 'second_bagged_model_different_split')"
   ]
  },
  {
   "cell_type": "markdown",
   "metadata": {},
   "source": [
    "## Bringing together the x_test33, y_test33 for the second bagged model"
   ]
  },
  {
   "cell_type": "code",
   "execution_count": 224,
   "metadata": {},
   "outputs": [],
   "source": [
    "original_df_last_third = X_test33"
   ]
  },
  {
   "cell_type": "code",
   "execution_count": 225,
   "metadata": {
    "collapsed": true
   },
   "outputs": [
    {
     "name": "stderr",
     "output_type": "stream",
     "text": [
      "/Users/gregfeliu/opt/anaconda3/envs/learn-env/lib/python3.6/site-packages/ipykernel_launcher.py:1: SettingWithCopyWarning:\n",
      "\n",
      "\n",
      "A value is trying to be set on a copy of a slice from a DataFrame.\n",
      "Try using .loc[row_indexer,col_indexer] = value instead\n",
      "\n",
      "See the caveats in the documentation: https://pandas.pydata.org/pandas-docs/stable/user_guide/indexing.html#returning-a-view-versus-a-copy\n",
      "\n",
      "/Users/gregfeliu/opt/anaconda3/envs/learn-env/lib/python3.6/site-packages/ipykernel_launcher.py:2: SettingWithCopyWarning:\n",
      "\n",
      "\n",
      "A value is trying to be set on a copy of a slice from a DataFrame.\n",
      "Try using .loc[row_indexer,col_indexer] = value instead\n",
      "\n",
      "See the caveats in the documentation: https://pandas.pydata.org/pandas-docs/stable/user_guide/indexing.html#returning-a-view-versus-a-copy\n",
      "\n"
     ]
    }
   ],
   "source": [
    "original_df_last_third['actual_vowels'] = y_test33\n",
    "original_df_last_third['predicted_vowels'] = balanced_bagging_model_predictions2"
   ]
  },
  {
   "cell_type": "code",
   "execution_count": 307,
   "metadata": {
    "scrolled": true
   },
   "outputs": [
    {
     "data": {
      "text/html": [
       "<div>\n",
       "<style scoped>\n",
       "    .dataframe tbody tr th:only-of-type {\n",
       "        vertical-align: middle;\n",
       "    }\n",
       "\n",
       "    .dataframe tbody tr th {\n",
       "        vertical-align: top;\n",
       "    }\n",
       "\n",
       "    .dataframe thead th {\n",
       "        text-align: right;\n",
       "    }\n",
       "</style>\n",
       "<table border=\"1\" class=\"dataframe\">\n",
       "  <thead>\n",
       "    <tr style=\"text-align: right;\">\n",
       "      <th></th>\n",
       "      <th>MFCC_1</th>\n",
       "      <th>MFCC_2</th>\n",
       "      <th>MFCC_3</th>\n",
       "      <th>MFCC_4</th>\n",
       "      <th>MFCC_5</th>\n",
       "      <th>MFCC_6</th>\n",
       "      <th>MFCC_7</th>\n",
       "      <th>MFCC_8</th>\n",
       "      <th>MFCC_9</th>\n",
       "      <th>MFCC_10</th>\n",
       "      <th>MFCC_11</th>\n",
       "      <th>MFCC_12</th>\n",
       "      <th>MFCC_13</th>\n",
       "      <th>Percent_passing_hampel_filter</th>\n",
       "      <th>actual_vowels</th>\n",
       "      <th>predicted_vowels</th>\n",
       "    </tr>\n",
       "  </thead>\n",
       "  <tbody>\n",
       "    <tr>\n",
       "      <th>14139</th>\n",
       "      <td>-10.098527</td>\n",
       "      <td>4.932286</td>\n",
       "      <td>1.864990</td>\n",
       "      <td>0.316451</td>\n",
       "      <td>-0.312592</td>\n",
       "      <td>-0.995565</td>\n",
       "      <td>-1.099944</td>\n",
       "      <td>-0.379565</td>\n",
       "      <td>-1.390550</td>\n",
       "      <td>-1.055092</td>\n",
       "      <td>0.202184</td>\n",
       "      <td>-0.167304</td>\n",
       "      <td>0.749360</td>\n",
       "      <td>0.08</td>\n",
       "      <td>0</td>\n",
       "      <td>0</td>\n",
       "    </tr>\n",
       "    <tr>\n",
       "      <th>14140</th>\n",
       "      <td>-8.468687</td>\n",
       "      <td>12.740945</td>\n",
       "      <td>4.570114</td>\n",
       "      <td>0.603386</td>\n",
       "      <td>-2.683702</td>\n",
       "      <td>-3.259884</td>\n",
       "      <td>-2.459758</td>\n",
       "      <td>-1.270219</td>\n",
       "      <td>0.625708</td>\n",
       "      <td>-0.024474</td>\n",
       "      <td>0.125958</td>\n",
       "      <td>-0.629837</td>\n",
       "      <td>-0.060484</td>\n",
       "      <td>0.37</td>\n",
       "      <td>0</td>\n",
       "      <td>0</td>\n",
       "    </tr>\n",
       "  </tbody>\n",
       "</table>\n",
       "</div>"
      ],
      "text/plain": [
       "          MFCC_1     MFCC_2    MFCC_3    MFCC_4    MFCC_5    MFCC_6    MFCC_7  \\\n",
       "14139 -10.098527   4.932286  1.864990  0.316451 -0.312592 -0.995565 -1.099944   \n",
       "14140  -8.468687  12.740945  4.570114  0.603386 -2.683702 -3.259884 -2.459758   \n",
       "\n",
       "         MFCC_8    MFCC_9   MFCC_10   MFCC_11   MFCC_12   MFCC_13  \\\n",
       "14139 -0.379565 -1.390550 -1.055092  0.202184 -0.167304  0.749360   \n",
       "14140 -1.270219  0.625708 -0.024474  0.125958 -0.629837 -0.060484   \n",
       "\n",
       "       Percent_passing_hampel_filter  actual_vowels  predicted_vowels  \n",
       "14139                           0.08              0                 0  \n",
       "14140                           0.37              0                 0  "
      ]
     },
     "execution_count": 307,
     "metadata": {},
     "output_type": "execute_result"
    }
   ],
   "source": [
    "original_df_last_third.head(2)"
   ]
  },
  {
   "cell_type": "markdown",
   "metadata": {},
   "source": [
    "### How many vowels were predicted in each column?"
   ]
  },
  {
   "cell_type": "code",
   "execution_count": 227,
   "metadata": {},
   "outputs": [
    {
     "data": {
      "text/plain": [
       "1554"
      ]
     },
     "execution_count": 227,
     "metadata": {},
     "output_type": "execute_result"
    }
   ],
   "source": [
    "original_df_last_third['actual_vowels'].sum()"
   ]
  },
  {
   "cell_type": "code",
   "execution_count": 228,
   "metadata": {},
   "outputs": [
    {
     "data": {
      "text/plain": [
       "1796"
      ]
     },
     "execution_count": 228,
     "metadata": {},
     "output_type": "execute_result"
    }
   ],
   "source": [
    "original_df_last_third['predicted_vowels'].sum()"
   ]
  },
  {
   "cell_type": "code",
   "execution_count": 229,
   "metadata": {},
   "outputs": [],
   "source": [
    "# make sample rates match? \n",
    "# I want all of the vowels to be in the original times of the annotations"
   ]
  },
  {
   "cell_type": "code",
   "execution_count": 230,
   "metadata": {},
   "outputs": [
    {
     "data": {
      "text/html": [
       "<div>\n",
       "<style scoped>\n",
       "    .dataframe tbody tr th:only-of-type {\n",
       "        vertical-align: middle;\n",
       "    }\n",
       "\n",
       "    .dataframe tbody tr th {\n",
       "        vertical-align: top;\n",
       "    }\n",
       "\n",
       "    .dataframe thead th {\n",
       "        text-align: right;\n",
       "    }\n",
       "</style>\n",
       "<table border=\"1\" class=\"dataframe\">\n",
       "  <thead>\n",
       "    <tr style=\"text-align: right;\">\n",
       "      <th></th>\n",
       "      <th>Phone_Text</th>\n",
       "      <th>Phone_xmin</th>\n",
       "      <th>Phone_xmax</th>\n",
       "      <th>Word_Text</th>\n",
       "      <th>Word_xmin</th>\n",
       "      <th>Word_xmax</th>\n",
       "      <th>Vowel</th>\n",
       "      <th>Speaker</th>\n",
       "      <th>Phone_Duration</th>\n",
       "    </tr>\n",
       "  </thead>\n",
       "  <tbody>\n",
       "    <tr>\n",
       "      <th>0</th>\n",
       "      <td>NaN</td>\n",
       "      <td>0.000000</td>\n",
       "      <td>2.000000</td>\n",
       "      <td>NaN</td>\n",
       "      <td>0.000000</td>\n",
       "      <td>2.000000</td>\n",
       "      <td>0</td>\n",
       "      <td>6</td>\n",
       "      <td>2.000000</td>\n",
       "    </tr>\n",
       "    <tr>\n",
       "      <th>1</th>\n",
       "      <td>!SIL</td>\n",
       "      <td>2.000000</td>\n",
       "      <td>4.589832</td>\n",
       "      <td>!SIL</td>\n",
       "      <td>2.000000</td>\n",
       "      <td>4.361218</td>\n",
       "      <td>0</td>\n",
       "      <td>6</td>\n",
       "      <td>2.589832</td>\n",
       "    </tr>\n",
       "    <tr>\n",
       "      <th>2</th>\n",
       "      <td>AH</td>\n",
       "      <td>4.589832</td>\n",
       "      <td>4.831125</td>\n",
       "      <td>!SIL</td>\n",
       "      <td>2.000000</td>\n",
       "      <td>4.361218</td>\n",
       "      <td>1</td>\n",
       "      <td>6</td>\n",
       "      <td>0.241293</td>\n",
       "    </tr>\n",
       "    <tr>\n",
       "      <th>3</th>\n",
       "      <td>M</td>\n",
       "      <td>4.831125</td>\n",
       "      <td>5.141125</td>\n",
       "      <td>!SIL</td>\n",
       "      <td>2.000000</td>\n",
       "      <td>4.361218</td>\n",
       "      <td>0</td>\n",
       "      <td>6</td>\n",
       "      <td>0.310000</td>\n",
       "    </tr>\n",
       "    <tr>\n",
       "      <th>4</th>\n",
       "      <td>M</td>\n",
       "      <td>5.141125</td>\n",
       "      <td>5.481125</td>\n",
       "      <td>mine</td>\n",
       "      <td>5.141125</td>\n",
       "      <td>6.111125</td>\n",
       "      <td>0</td>\n",
       "      <td>6</td>\n",
       "      <td>0.340000</td>\n",
       "    </tr>\n",
       "    <tr>\n",
       "      <th>...</th>\n",
       "      <td>...</td>\n",
       "      <td>...</td>\n",
       "      <td>...</td>\n",
       "      <td>...</td>\n",
       "      <td>...</td>\n",
       "      <td>...</td>\n",
       "      <td>...</td>\n",
       "      <td>...</td>\n",
       "      <td>...</td>\n",
       "    </tr>\n",
       "    <tr>\n",
       "      <th>3413</th>\n",
       "      <td>K</td>\n",
       "      <td>520.686125</td>\n",
       "      <td>520.726125</td>\n",
       "      <td>!SIL</td>\n",
       "      <td>518.455909</td>\n",
       "      <td>520.326117</td>\n",
       "      <td>0</td>\n",
       "      <td>2</td>\n",
       "      <td>0.040000</td>\n",
       "    </tr>\n",
       "    <tr>\n",
       "      <th>3414</th>\n",
       "      <td>EY</td>\n",
       "      <td>520.726125</td>\n",
       "      <td>520.886125</td>\n",
       "      <td>!SIL</td>\n",
       "      <td>518.455909</td>\n",
       "      <td>520.326117</td>\n",
       "      <td>1</td>\n",
       "      <td>2</td>\n",
       "      <td>0.160000</td>\n",
       "    </tr>\n",
       "    <tr>\n",
       "      <th>3415</th>\n",
       "      <td>lg</td>\n",
       "      <td>520.886125</td>\n",
       "      <td>521.407062</td>\n",
       "      <td>&lt;LG&gt;</td>\n",
       "      <td>520.886125</td>\n",
       "      <td>521.407062</td>\n",
       "      <td>0</td>\n",
       "      <td>2</td>\n",
       "      <td>0.520937</td>\n",
       "    </tr>\n",
       "    <tr>\n",
       "      <th>3416</th>\n",
       "      <td>!SIL</td>\n",
       "      <td>521.407062</td>\n",
       "      <td>525.604172</td>\n",
       "      <td>!SIL</td>\n",
       "      <td>521.407062</td>\n",
       "      <td>525.604172</td>\n",
       "      <td>0</td>\n",
       "      <td>2</td>\n",
       "      <td>4.197110</td>\n",
       "    </tr>\n",
       "    <tr>\n",
       "      <th>3417</th>\n",
       "      <td>!SIL</td>\n",
       "      <td>525.604172</td>\n",
       "      <td>527.604172</td>\n",
       "      <td>!SIL</td>\n",
       "      <td>525.604172</td>\n",
       "      <td>527.604172</td>\n",
       "      <td>0</td>\n",
       "      <td>2</td>\n",
       "      <td>2.000000</td>\n",
       "    </tr>\n",
       "  </tbody>\n",
       "</table>\n",
       "<p>3418 rows × 9 columns</p>\n",
       "</div>"
      ],
      "text/plain": [
       "     Phone_Text  Phone_xmin  Phone_xmax Word_Text   Word_xmin   Word_xmax  \\\n",
       "0           NaN    0.000000    2.000000       NaN    0.000000    2.000000   \n",
       "1          !SIL    2.000000    4.589832      !SIL    2.000000    4.361218   \n",
       "2            AH    4.589832    4.831125      !SIL    2.000000    4.361218   \n",
       "3             M    4.831125    5.141125      !SIL    2.000000    4.361218   \n",
       "4             M    5.141125    5.481125      mine    5.141125    6.111125   \n",
       "...         ...         ...         ...       ...         ...         ...   \n",
       "3413          K  520.686125  520.726125      !SIL  518.455909  520.326117   \n",
       "3414         EY  520.726125  520.886125      !SIL  518.455909  520.326117   \n",
       "3415         lg  520.886125  521.407062      <LG>  520.886125  521.407062   \n",
       "3416       !SIL  521.407062  525.604172      !SIL  521.407062  525.604172   \n",
       "3417       !SIL  525.604172  527.604172      !SIL  525.604172  527.604172   \n",
       "\n",
       "      Vowel  Speaker  Phone_Duration  \n",
       "0         0        6        2.000000  \n",
       "1         0        6        2.589832  \n",
       "2         1        6        0.241293  \n",
       "3         0        6        0.310000  \n",
       "4         0        6        0.340000  \n",
       "...     ...      ...             ...  \n",
       "3413      0        2        0.040000  \n",
       "3414      1        2        0.160000  \n",
       "3415      0        2        0.520937  \n",
       "3416      0        2        4.197110  \n",
       "3417      0        2        2.000000  \n",
       "\n",
       "[3418 rows x 9 columns]"
      ]
     },
     "execution_count": 230,
     "metadata": {},
     "output_type": "execute_result"
    }
   ],
   "source": [
    "df"
   ]
  },
  {
   "cell_type": "code",
   "execution_count": 238,
   "metadata": {},
   "outputs": [
    {
     "data": {
      "text/plain": [
       "353.4948475"
      ]
     },
     "execution_count": 238,
     "metadata": {},
     "output_type": "execute_result"
    }
   ],
   "source": [
    "# first step: finding which section of the df is where the test data starts\n",
    "# length of file * 0.67 will be beginning time point for test section\n",
    "beginning_time_point_test = (len(long_audio) / 8000) * 0.67\n",
    "beginning_time_point_test"
   ]
  },
  {
   "cell_type": "code",
   "execution_count": 277,
   "metadata": {},
   "outputs": [],
   "source": [
    "test_df = df[df['Phone_xmin'] > beginning_time_point_test].copy()"
   ]
  },
  {
   "cell_type": "code",
   "execution_count": 291,
   "metadata": {},
   "outputs": [
    {
     "data": {
      "text/html": [
       "<div>\n",
       "<style scoped>\n",
       "    .dataframe tbody tr th:only-of-type {\n",
       "        vertical-align: middle;\n",
       "    }\n",
       "\n",
       "    .dataframe tbody tr th {\n",
       "        vertical-align: top;\n",
       "    }\n",
       "\n",
       "    .dataframe thead th {\n",
       "        text-align: right;\n",
       "    }\n",
       "</style>\n",
       "<table border=\"1\" class=\"dataframe\">\n",
       "  <thead>\n",
       "    <tr style=\"text-align: right;\">\n",
       "      <th></th>\n",
       "      <th>Phone_Text</th>\n",
       "      <th>Phone_xmin</th>\n",
       "      <th>Phone_xmax</th>\n",
       "      <th>Word_Text</th>\n",
       "      <th>Word_xmin</th>\n",
       "      <th>Word_xmax</th>\n",
       "      <th>Vowel</th>\n",
       "      <th>Speaker</th>\n",
       "      <th>Phone_Duration</th>\n",
       "      <th>Total_frames_in_phone</th>\n",
       "    </tr>\n",
       "  </thead>\n",
       "  <tbody>\n",
       "    <tr>\n",
       "      <th>1394</th>\n",
       "      <td>AH</td>\n",
       "      <td>353.988485</td>\n",
       "      <td>354.071</td>\n",
       "      <td>!SIL</td>\n",
       "      <td>343.027075</td>\n",
       "      <td>353.951077</td>\n",
       "      <td>1</td>\n",
       "      <td>6</td>\n",
       "      <td>0.082515</td>\n",
       "      <td>660.11842</td>\n",
       "    </tr>\n",
       "    <tr>\n",
       "      <th>1395</th>\n",
       "      <td>P</td>\n",
       "      <td>354.071000</td>\n",
       "      <td>354.211</td>\n",
       "      <td>!SIL</td>\n",
       "      <td>343.027075</td>\n",
       "      <td>353.951077</td>\n",
       "      <td>0</td>\n",
       "      <td>6</td>\n",
       "      <td>0.140000</td>\n",
       "      <td>1120.00000</td>\n",
       "    </tr>\n",
       "  </tbody>\n",
       "</table>\n",
       "</div>"
      ],
      "text/plain": [
       "     Phone_Text  Phone_xmin  Phone_xmax Word_Text   Word_xmin   Word_xmax  \\\n",
       "1394         AH  353.988485     354.071      !SIL  343.027075  353.951077   \n",
       "1395          P  354.071000     354.211      !SIL  343.027075  353.951077   \n",
       "\n",
       "      Vowel  Speaker  Phone_Duration  Total_frames_in_phone  \n",
       "1394      1        6        0.082515              660.11842  \n",
       "1395      0        6        0.140000             1120.00000  "
      ]
     },
     "execution_count": 291,
     "metadata": {},
     "output_type": "execute_result"
    }
   ],
   "source": [
    "test_df.head(2)"
   ]
  },
  {
   "cell_type": "code",
   "execution_count": 279,
   "metadata": {},
   "outputs": [
    {
     "data": {
      "text/plain": [
       "174.1094025"
      ]
     },
     "execution_count": 279,
     "metadata": {},
     "output_type": "execute_result"
    }
   ],
   "source": [
    "# test_df covers 174 seconds\n",
    "(len(long_audio) / 8000) - beginning_time_point_test"
   ]
  },
  {
   "cell_type": "markdown",
   "metadata": {},
   "source": [
    "#### Finding correct vowel chunks"
   ]
  },
  {
   "cell_type": "code",
   "execution_count": 280,
   "metadata": {},
   "outputs": [
    {
     "data": {
      "text/plain": [
       "353.98848519748657"
      ]
     },
     "execution_count": 280,
     "metadata": {},
     "output_type": "execute_result"
    }
   ],
   "source": [
    "phone_xmin_array = np.array(test_df['Phone_xmin'])\n",
    "first_full_phone_in_test_df = phone_xmin_array.min()\n",
    "first_full_phone_in_test_df"
   ]
  },
  {
   "cell_type": "code",
   "execution_count": 281,
   "metadata": {},
   "outputs": [],
   "source": [
    "first_full_phone_remainder = first_full_phone_in_test_df % 0.025"
   ]
  },
  {
   "cell_type": "code",
   "execution_count": 282,
   "metadata": {},
   "outputs": [
    {
     "data": {
      "text/plain": [
       "0.013485197486548618"
      ]
     },
     "execution_count": 282,
     "metadata": {},
     "output_type": "execute_result"
    }
   ],
   "source": [
    "first_full_phone_remainder"
   ]
  },
  {
   "cell_type": "code",
   "execution_count": 283,
   "metadata": {},
   "outputs": [
    {
     "data": {
      "text/plain": [
       "353.975"
      ]
     },
     "execution_count": 283,
     "metadata": {},
     "output_type": "execute_result"
    }
   ],
   "source": [
    "first_full_phone_chunk = first_full_phone_in_test_df - first_full_phone_remainder\n",
    "first_full_phone_chunk"
   ]
  },
  {
   "cell_type": "code",
   "execution_count": 284,
   "metadata": {},
   "outputs": [
    {
     "data": {
      "text/plain": [
       "14159.0"
      ]
     },
     "execution_count": 284,
     "metadata": {},
     "output_type": "execute_result"
    }
   ],
   "source": [
    "# I should get all of the chunks after 14159\n",
    "first_full_phone_chunk / 0.025"
   ]
  },
  {
   "cell_type": "code",
   "execution_count": 285,
   "metadata": {},
   "outputs": [],
   "source": [
    "# mfcc covers 0.025 seconds of audio \n",
    "beg_chunk_remainder = beginning_time_point_test % 0.025"
   ]
  },
  {
   "cell_type": "code",
   "execution_count": 286,
   "metadata": {},
   "outputs": [
    {
     "data": {
      "text/plain": [
       "353.475"
      ]
     },
     "execution_count": 286,
     "metadata": {},
     "output_type": "execute_result"
    }
   ],
   "source": [
    "start_interval_of_test_df = beginning_time_point_test - beg_chunk_remainder\n",
    "start_interval_of_test_df"
   ]
  },
  {
   "cell_type": "code",
   "execution_count": 287,
   "metadata": {},
   "outputs": [
    {
     "data": {
      "text/plain": [
       "14139.0"
      ]
     },
     "execution_count": 287,
     "metadata": {},
     "output_type": "execute_result"
    }
   ],
   "source": [
    "start_interval_of_test_df / 0.025"
   ]
  },
  {
   "cell_type": "markdown",
   "metadata": {},
   "source": [
    "#### Getting total number of possible vowels to be predicted in each chunk"
   ]
  },
  {
   "cell_type": "code",
   "execution_count": 288,
   "metadata": {},
   "outputs": [],
   "source": [
    "test_df['Total_frames_in_phone'] = test_df['Phone_Duration'] * 8000"
   ]
  },
  {
   "cell_type": "code",
   "execution_count": 290,
   "metadata": {},
   "outputs": [
    {
     "data": {
      "text/html": [
       "<div>\n",
       "<style scoped>\n",
       "    .dataframe tbody tr th:only-of-type {\n",
       "        vertical-align: middle;\n",
       "    }\n",
       "\n",
       "    .dataframe tbody tr th {\n",
       "        vertical-align: top;\n",
       "    }\n",
       "\n",
       "    .dataframe thead th {\n",
       "        text-align: right;\n",
       "    }\n",
       "</style>\n",
       "<table border=\"1\" class=\"dataframe\">\n",
       "  <thead>\n",
       "    <tr style=\"text-align: right;\">\n",
       "      <th></th>\n",
       "      <th>Phone_Text</th>\n",
       "      <th>Phone_xmin</th>\n",
       "      <th>Phone_xmax</th>\n",
       "      <th>Word_Text</th>\n",
       "      <th>Word_xmin</th>\n",
       "      <th>Word_xmax</th>\n",
       "      <th>Vowel</th>\n",
       "      <th>Speaker</th>\n",
       "      <th>Phone_Duration</th>\n",
       "      <th>Total_frames_in_phone</th>\n",
       "    </tr>\n",
       "  </thead>\n",
       "  <tbody>\n",
       "    <tr>\n",
       "      <th>1394</th>\n",
       "      <td>AH</td>\n",
       "      <td>353.988485</td>\n",
       "      <td>354.071</td>\n",
       "      <td>!SIL</td>\n",
       "      <td>343.027075</td>\n",
       "      <td>353.951077</td>\n",
       "      <td>1</td>\n",
       "      <td>6</td>\n",
       "      <td>0.082515</td>\n",
       "      <td>660.11842</td>\n",
       "    </tr>\n",
       "    <tr>\n",
       "      <th>1395</th>\n",
       "      <td>P</td>\n",
       "      <td>354.071000</td>\n",
       "      <td>354.211</td>\n",
       "      <td>!SIL</td>\n",
       "      <td>343.027075</td>\n",
       "      <td>353.951077</td>\n",
       "      <td>0</td>\n",
       "      <td>6</td>\n",
       "      <td>0.140000</td>\n",
       "      <td>1120.00000</td>\n",
       "    </tr>\n",
       "  </tbody>\n",
       "</table>\n",
       "</div>"
      ],
      "text/plain": [
       "     Phone_Text  Phone_xmin  Phone_xmax Word_Text   Word_xmin   Word_xmax  \\\n",
       "1394         AH  353.988485     354.071      !SIL  343.027075  353.951077   \n",
       "1395          P  354.071000     354.211      !SIL  343.027075  353.951077   \n",
       "\n",
       "      Vowel  Speaker  Phone_Duration  Total_frames_in_phone  \n",
       "1394      1        6        0.082515              660.11842  \n",
       "1395      0        6        0.140000             1120.00000  "
      ]
     },
     "execution_count": 290,
     "metadata": {},
     "output_type": "execute_result"
    }
   ],
   "source": [
    "test_df.head(2)"
   ]
  },
  {
   "cell_type": "code",
   "execution_count": 299,
   "metadata": {},
   "outputs": [
    {
     "data": {
      "text/plain": [
       "0.6709100618503357"
      ]
     },
     "execution_count": 299,
     "metadata": {},
     "output_type": "execute_result"
    }
   ],
   "source": [
    "(first_full_phone_chunk * 8000) / len(long_audio) "
   ]
  },
  {
   "cell_type": "code",
   "execution_count": 301,
   "metadata": {},
   "outputs": [
    {
     "data": {
      "text/plain": [
       "70795.0"
      ]
     },
     "execution_count": 301,
     "metadata": {},
     "output_type": "execute_result"
    }
   ],
   "source": [
    "(first_full_phone_chunk * 8000) * 0.025"
   ]
  },
  {
   "cell_type": "code",
   "execution_count": 305,
   "metadata": {},
   "outputs": [
    {
     "data": {
      "text/plain": [
       "1039955"
      ]
     },
     "execution_count": 305,
     "metadata": {},
     "output_type": "execute_result"
    }
   ],
   "source": [
    "len(vowel_indices)"
   ]
  },
  {
   "cell_type": "code",
   "execution_count": null,
   "metadata": {},
   "outputs": [],
   "source": [
    "# need to make sample rates match \n",
    "def make_sample_rates_match(hampel_filter_indices, new_sr, number_of_target_samples, hampel_filter_sr=8000):\n",
    "    return_list = []\n",
    "    predictions_in_seconds = np.array(hampel_filter_indices) / hampel_filter_sr\n",
    "    num_of_possible_hamp_filter_indices = hampel_filter_sr / new_sr\n",
    "    for x in range(0, number_of_target_samples):\n",
    "        beg_range = x / new_sr\n",
    "        end_range = (x+1) / new_sr\n",
    "        range_list = np.where(np.logical_and(predictions_in_seconds >= beg_range, \n",
    "                                             predictions_in_seconds <= end_range), 1, 0)\n",
    "        sum_range_list = range_list.sum()\n",
    "        percent_passing_filter = sum_range_list / num_of_possible_hamp_filter_indices\n",
    "        return_list.append(round(percent_passing_filter, 2))\n",
    "    return return_list"
   ]
  },
  {
   "cell_type": "markdown",
   "metadata": {},
   "source": [
    "Let's recap. I want to see how many predicted vowels are actually in each vowel\n",
    "- so I should probably keep the test_df as is, and then chunk the predictions into the time intervals of the phones\n"
   ]
  },
  {
   "cell_type": "code",
   "execution_count": null,
   "metadata": {},
   "outputs": [],
   "source": []
  }
 ],
 "metadata": {
  "kernelspec": {
   "display_name": "Python [conda env:learn-env] *",
   "language": "python",
   "name": "conda-env-learn-env-py"
  },
  "language_info": {
   "codemirror_mode": {
    "name": "ipython",
    "version": 3
   },
   "file_extension": ".py",
   "mimetype": "text/x-python",
   "name": "python",
   "nbconvert_exporter": "python",
   "pygments_lexer": "ipython3",
   "version": "3.6.9"
  },
  "toc": {
   "base_numbering": 1,
   "nav_menu": {},
   "number_sections": true,
   "sideBar": true,
   "skip_h1_title": false,
   "title_cell": "Table of Contents",
   "title_sidebar": "Contents",
   "toc_cell": false,
   "toc_position": {
    "height": "calc(100% - 180px)",
    "left": "10px",
    "top": "150px",
    "width": "314px"
   },
   "toc_section_display": true,
   "toc_window_display": true
  },
  "varInspector": {
   "cols": {
    "lenName": 16,
    "lenType": 16,
    "lenVar": 40
   },
   "kernels_config": {
    "python": {
     "delete_cmd_postfix": "",
     "delete_cmd_prefix": "del ",
     "library": "var_list.py",
     "varRefreshCmd": "print(var_dic_list())"
    },
    "r": {
     "delete_cmd_postfix": ") ",
     "delete_cmd_prefix": "rm(",
     "library": "var_list.r",
     "varRefreshCmd": "cat(var_dic_list()) "
    }
   },
   "types_to_exclude": [
    "module",
    "function",
    "builtin_function_or_method",
    "instance",
    "_Feature"
   ],
   "window_display": false
  }
 },
 "nbformat": 4,
 "nbformat_minor": 2
}
