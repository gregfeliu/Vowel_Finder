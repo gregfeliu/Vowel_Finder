{
 "cells": [
  {
   "cell_type": "markdown",
   "metadata": {},
   "source": [
    "**Testing Classification Models**"
   ]
  },
  {
   "cell_type": "markdown",
   "metadata": {},
   "source": [
    "# Imports"
   ]
  },
  {
   "cell_type": "markdown",
   "metadata": {},
   "source": [
    "## Libraries"
   ]
  },
  {
   "cell_type": "code",
   "execution_count": 272,
   "metadata": {},
   "outputs": [],
   "source": [
    "import os\n",
    "import pandas as pd\n",
    "import glob\n",
    "import matplotlib\n",
    "import matplotlib.pyplot as plt\n",
    "%matplotlib inline\n",
    "matplotlib.rcParams.update({'font.size': 12})\n",
    "import numpy as np\n",
    "import librosa\n",
    "import warnings # from https://stackoverflow.com/questions/14463277/how-to-disable-python-warnings\n",
    "def fxn():\n",
    "    warnings.warn(\"deprecated\", DeprecationWarning)\n",
    "with warnings.catch_warnings():\n",
    "    warnings.simplefilter(\"ignore\")\n",
    "    fxn()\n",
    "from functions import *\n",
    "import seaborn as sns\n",
    "import speechpy\n",
    "from sklearn.metrics import confusion_matrix, recall_score, precision_score, f1_score, classification_report, confusion_matrix\n",
    "from sklearn.model_selection import train_test_split, cross_val_score\n",
    "from sklearn.ensemble import RandomForestClassifier, BaggingClassifier\n",
    "import sklearn\n",
    "import pickle\n",
    "import keras\n",
    "from keras.layers import Dense, Dropout, Activation, Conv1D, GlobalMaxPooling1D, Embedding, MaxPooling1D, Flatten\n",
    "from keras.models import Sequential, load_model\n",
    "from keras.callbacks import EarlyStopping, ModelCheckpoint\n",
    "from imblearn.over_sampling import SMOTE \n",
    "from imblearn.under_sampling import RandomUnderSampler\n",
    "from imblearn.ensemble import BalancedRandomForestClassifier, BalancedBaggingClassifier, EasyEnsembleClassifier\n",
    "import math"
   ]
  },
  {
   "cell_type": "markdown",
   "metadata": {},
   "source": [
    "## Dataframe"
   ]
  },
  {
   "cell_type": "code",
   "execution_count": 2,
   "metadata": {},
   "outputs": [],
   "source": [
    "df = pd.read_csv(\"combined_corrected_textgrids\", index_col= 0)"
   ]
  },
  {
   "cell_type": "markdown",
   "metadata": {},
   "source": [
    "# Random Forest Using Hampel Filter"
   ]
  },
  {
   "cell_type": "markdown",
   "metadata": {},
   "source": [
    "For this section, I'll use the Hampel Filter as one of many features used to determine whether a piece of an audio files is a vowel or not. Here are the features I'll use:\n",
    "- Whether if passes the  Hampel Filter\n",
    "- The speaker (unclear actually, if the audio was single channel, then yes)\n",
    "- Each of the MFCC values "
   ]
  },
  {
   "cell_type": "markdown",
   "metadata": {},
   "source": [
    "## Making DataFrame for all of corrected textgrid"
   ]
  },
  {
   "cell_type": "markdown",
   "metadata": {},
   "source": [
    "Making the hampel filter and mfcc features into the same time scale needs to be addressed first. Doing it this way, will give us a feature \"passed_hampel_filter\" while having other information to draw on."
   ]
  },
  {
   "cell_type": "markdown",
   "metadata": {},
   "source": [
    "#### Getting full length audio"
   ]
  },
  {
   "cell_type": "code",
   "execution_count": 3,
   "metadata": {},
   "outputs": [],
   "source": [
    "long_audio, sr = librosa.load(\"./original_en_diapix_data/DP_ENF_02_ENF_06_EN_ENF_02_DP_ENF_02_ENF_06_EN_ENF_06.wav\", sr = 8000)"
   ]
  },
  {
   "cell_type": "markdown",
   "metadata": {},
   "source": [
    "### Getting mfcc for whole file"
   ]
  },
  {
   "cell_type": "code",
   "execution_count": 555,
   "metadata": {},
   "outputs": [
    {
     "data": {
      "text/plain": [
       "40.0"
      ]
     },
     "execution_count": 555,
     "metadata": {},
     "output_type": "execute_result"
    }
   ],
   "source": [
    "# 40 samples per second\n",
    "1 / 0.025 "
   ]
  },
  {
   "cell_type": "code",
   "execution_count": 5,
   "metadata": {},
   "outputs": [],
   "source": [
    "mfcc_long_audio = speechpy.feature.mfcc(signal = long_audio, sampling_frequency = 8000, frame_length = 0.025, \n",
    "                             frame_stride = 0.025)"
   ]
  },
  {
   "cell_type": "markdown",
   "metadata": {},
   "source": [
    "#### examining output of mfcc"
   ]
  },
  {
   "cell_type": "code",
   "execution_count": 7,
   "metadata": {},
   "outputs": [
    {
     "data": {
      "text/plain": [
       "(21103, 13)"
      ]
     },
     "execution_count": 7,
     "metadata": {},
     "output_type": "execute_result"
    }
   ],
   "source": [
    "mfcc_long_audio.shape"
   ]
  },
  {
   "cell_type": "code",
   "execution_count": 8,
   "metadata": {},
   "outputs": [
    {
     "data": {
      "text/plain": [
       "array([-36.04365339,   0.        ,   0.        ,   0.        ,\n",
       "         0.        ,   0.        ,   0.        ,   0.        ,\n",
       "         0.        ,   0.        ,   0.        ,   0.        ,\n",
       "         0.        ])"
      ]
     },
     "execution_count": 8,
     "metadata": {},
     "output_type": "execute_result"
    }
   ],
   "source": [
    "mfcc_long_audio[0]"
   ]
  },
  {
   "cell_type": "markdown",
   "metadata": {},
   "source": [
    "#### Turning into a dataframe\n",
    "https://stackoverflow.com/questions/20763012/creating-a-pandas-dataframe-from-a-numpy-array-how-do-i-specify-the-index-colum"
   ]
  },
  {
   "cell_type": "code",
   "execution_count": 556,
   "metadata": {},
   "outputs": [
    {
     "data": {
      "text/plain": [
       "['MFCC_1', 'MFCC_2', 'MFCC_3']"
      ]
     },
     "execution_count": 556,
     "metadata": {},
     "output_type": "execute_result"
    }
   ],
   "source": [
    "cols = ['MFCC_'+str(i) for i in range(1, 13+1)]\n",
    "cols[0:3]"
   ]
  },
  {
   "cell_type": "code",
   "execution_count": 11,
   "metadata": {},
   "outputs": [],
   "source": [
    "mfcc_df = pd.DataFrame(data = mfcc_long_audio[0:,0:], columns = cols)"
   ]
  },
  {
   "cell_type": "code",
   "execution_count": 12,
   "metadata": {},
   "outputs": [
    {
     "data": {
      "text/html": [
       "<div>\n",
       "<style scoped>\n",
       "    .dataframe tbody tr th:only-of-type {\n",
       "        vertical-align: middle;\n",
       "    }\n",
       "\n",
       "    .dataframe tbody tr th {\n",
       "        vertical-align: top;\n",
       "    }\n",
       "\n",
       "    .dataframe thead th {\n",
       "        text-align: right;\n",
       "    }\n",
       "</style>\n",
       "<table border=\"1\" class=\"dataframe\">\n",
       "  <thead>\n",
       "    <tr style=\"text-align: right;\">\n",
       "      <th></th>\n",
       "      <th>MFCC_1</th>\n",
       "      <th>MFCC_2</th>\n",
       "      <th>MFCC_3</th>\n",
       "      <th>MFCC_4</th>\n",
       "      <th>MFCC_5</th>\n",
       "      <th>MFCC_6</th>\n",
       "      <th>MFCC_7</th>\n",
       "      <th>MFCC_8</th>\n",
       "      <th>MFCC_9</th>\n",
       "      <th>MFCC_10</th>\n",
       "      <th>MFCC_11</th>\n",
       "      <th>MFCC_12</th>\n",
       "      <th>MFCC_13</th>\n",
       "    </tr>\n",
       "  </thead>\n",
       "  <tbody>\n",
       "    <tr>\n",
       "      <th>0</th>\n",
       "      <td>-36.043653</td>\n",
       "      <td>0.0</td>\n",
       "      <td>0.0</td>\n",
       "      <td>0.0</td>\n",
       "      <td>0.0</td>\n",
       "      <td>0.0</td>\n",
       "      <td>0.0</td>\n",
       "      <td>0.0</td>\n",
       "      <td>0.0</td>\n",
       "      <td>0.0</td>\n",
       "      <td>0.0</td>\n",
       "      <td>0.0</td>\n",
       "      <td>0.0</td>\n",
       "    </tr>\n",
       "    <tr>\n",
       "      <th>1</th>\n",
       "      <td>-36.043653</td>\n",
       "      <td>0.0</td>\n",
       "      <td>0.0</td>\n",
       "      <td>0.0</td>\n",
       "      <td>0.0</td>\n",
       "      <td>0.0</td>\n",
       "      <td>0.0</td>\n",
       "      <td>0.0</td>\n",
       "      <td>0.0</td>\n",
       "      <td>0.0</td>\n",
       "      <td>0.0</td>\n",
       "      <td>0.0</td>\n",
       "      <td>0.0</td>\n",
       "    </tr>\n",
       "  </tbody>\n",
       "</table>\n",
       "</div>"
      ],
      "text/plain": [
       "      MFCC_1  MFCC_2  MFCC_3  MFCC_4  MFCC_5  MFCC_6  MFCC_7  MFCC_8  MFCC_9  \\\n",
       "0 -36.043653     0.0     0.0     0.0     0.0     0.0     0.0     0.0     0.0   \n",
       "1 -36.043653     0.0     0.0     0.0     0.0     0.0     0.0     0.0     0.0   \n",
       "\n",
       "   MFCC_10  MFCC_11  MFCC_12  MFCC_13  \n",
       "0      0.0      0.0      0.0      0.0  \n",
       "1      0.0      0.0      0.0      0.0  "
      ]
     },
     "execution_count": 12,
     "metadata": {},
     "output_type": "execute_result"
    }
   ],
   "source": [
    "mfcc_df.head(2)"
   ]
  },
  {
   "cell_type": "code",
   "execution_count": 14,
   "metadata": {},
   "outputs": [
    {
     "data": {
      "text/plain": [
       "40.0"
      ]
     },
     "execution_count": 14,
     "metadata": {},
     "output_type": "execute_result"
    }
   ],
   "source": [
    "# length of the file divided by 40 equals time length of file, i.e.: sampling rate \n",
    "len(mfcc_df) / 527.575"
   ]
  },
  {
   "cell_type": "markdown",
   "metadata": {},
   "source": [
    "### Adding Hampel Filter to this dataframe"
   ]
  },
  {
   "cell_type": "markdown",
   "metadata": {},
   "source": [
    "#### Running hampel filter over entire file using same window length as mfcc and low hampel filter value"
   ]
  },
  {
   "cell_type": "code",
   "execution_count": 557,
   "metadata": {},
   "outputs": [
    {
     "data": {
      "text/plain": [
       "200.0"
      ]
     },
     "execution_count": 557,
     "metadata": {},
     "output_type": "execute_result"
    }
   ],
   "source": [
    "8000 / 40"
   ]
  },
  {
   "cell_type": "code",
   "execution_count": 15,
   "metadata": {},
   "outputs": [],
   "source": [
    "# there are 40 samples per second in the mfcc, which is 200 samples in the hampel filter rate (8000 per second).\n",
    "# Therefore, we are only looking within one mfcc to see if a sample is passing the hampel filter "
   ]
  },
  {
   "cell_type": "code",
   "execution_count": 16,
   "metadata": {},
   "outputs": [],
   "source": [
    "window200_sigma1 = hampel_filter_forloop_numba(long_audio, 200, n_sigmas=1)"
   ]
  },
  {
   "cell_type": "code",
   "execution_count": 17,
   "metadata": {},
   "outputs": [
    {
     "data": {
      "text/plain": [
       "527.60425"
      ]
     },
     "execution_count": 17,
     "metadata": {},
     "output_type": "execute_result"
    }
   ],
   "source": [
    "len(window200_sigma1[0]) / 8000"
   ]
  },
  {
   "cell_type": "code",
   "execution_count": 18,
   "metadata": {},
   "outputs": [],
   "source": [
    "window200_sigma1_binary = make_results_into_binary(window200_sigma1[1], \n",
    "                                                   number_of_possible_samples_in_file = len(window200_sigma1[0]))"
   ]
  },
  {
   "cell_type": "code",
   "execution_count": 19,
   "metadata": {},
   "outputs": [
    {
     "data": {
      "text/plain": [
       "1279737.0"
      ]
     },
     "execution_count": 19,
     "metadata": {},
     "output_type": "execute_result"
    }
   ],
   "source": [
    "# definitely found (what it thinks are) vowels! \n",
    "window200_sigma1_binary.sum()"
   ]
  },
  {
   "cell_type": "code",
   "execution_count": 558,
   "metadata": {},
   "outputs": [
    {
     "data": {
      "text/plain": [
       "0.30319529268386297"
      ]
     },
     "execution_count": 558,
     "metadata": {},
     "output_type": "execute_result"
    }
   ],
   "source": [
    "# it guessed that 30% of the file was a vowel (it was found to be closer to 10%)\n",
    "window200_sigma1_binary.sum() / len(window200_sigma1_binary)"
   ]
  },
  {
   "cell_type": "markdown",
   "metadata": {},
   "source": [
    "#### Chunking the indices to 200 samples per second "
   ]
  },
  {
   "cell_type": "code",
   "execution_count": 21,
   "metadata": {},
   "outputs": [],
   "source": [
    "window200_sigma1_percent_passing = make_sample_rates_match(window200_sigma1[1], 40, 21103)"
   ]
  },
  {
   "cell_type": "code",
   "execution_count": 22,
   "metadata": {},
   "outputs": [
    {
     "data": {
      "text/plain": [
       "21103"
      ]
     },
     "execution_count": 22,
     "metadata": {},
     "output_type": "execute_result"
    }
   ],
   "source": [
    "len(window200_sigma1_percent_passing)"
   ]
  },
  {
   "cell_type": "markdown",
   "metadata": {},
   "source": [
    "#### Adding the hampel filter percentage to the df"
   ]
  },
  {
   "cell_type": "code",
   "execution_count": 23,
   "metadata": {},
   "outputs": [],
   "source": [
    "mfcc_df['Percent_passing_hampel_filter'] = window200_sigma1_percent_passing"
   ]
  },
  {
   "cell_type": "code",
   "execution_count": 24,
   "metadata": {},
   "outputs": [
    {
     "data": {
      "text/html": [
       "<div>\n",
       "<style scoped>\n",
       "    .dataframe tbody tr th:only-of-type {\n",
       "        vertical-align: middle;\n",
       "    }\n",
       "\n",
       "    .dataframe tbody tr th {\n",
       "        vertical-align: top;\n",
       "    }\n",
       "\n",
       "    .dataframe thead th {\n",
       "        text-align: right;\n",
       "    }\n",
       "</style>\n",
       "<table border=\"1\" class=\"dataframe\">\n",
       "  <thead>\n",
       "    <tr style=\"text-align: right;\">\n",
       "      <th></th>\n",
       "      <th>MFCC_1</th>\n",
       "      <th>MFCC_2</th>\n",
       "      <th>MFCC_3</th>\n",
       "      <th>MFCC_4</th>\n",
       "      <th>MFCC_5</th>\n",
       "      <th>MFCC_6</th>\n",
       "      <th>MFCC_7</th>\n",
       "      <th>MFCC_8</th>\n",
       "      <th>MFCC_9</th>\n",
       "      <th>MFCC_10</th>\n",
       "      <th>MFCC_11</th>\n",
       "      <th>MFCC_12</th>\n",
       "      <th>MFCC_13</th>\n",
       "      <th>Percent_passing_hampel_filter</th>\n",
       "    </tr>\n",
       "  </thead>\n",
       "  <tbody>\n",
       "    <tr>\n",
       "      <th>0</th>\n",
       "      <td>-36.043653</td>\n",
       "      <td>0.0</td>\n",
       "      <td>0.0</td>\n",
       "      <td>0.0</td>\n",
       "      <td>0.0</td>\n",
       "      <td>0.0</td>\n",
       "      <td>0.0</td>\n",
       "      <td>0.0</td>\n",
       "      <td>0.0</td>\n",
       "      <td>0.0</td>\n",
       "      <td>0.0</td>\n",
       "      <td>0.0</td>\n",
       "      <td>0.0</td>\n",
       "      <td>0.0</td>\n",
       "    </tr>\n",
       "    <tr>\n",
       "      <th>1</th>\n",
       "      <td>-36.043653</td>\n",
       "      <td>0.0</td>\n",
       "      <td>0.0</td>\n",
       "      <td>0.0</td>\n",
       "      <td>0.0</td>\n",
       "      <td>0.0</td>\n",
       "      <td>0.0</td>\n",
       "      <td>0.0</td>\n",
       "      <td>0.0</td>\n",
       "      <td>0.0</td>\n",
       "      <td>0.0</td>\n",
       "      <td>0.0</td>\n",
       "      <td>0.0</td>\n",
       "      <td>0.0</td>\n",
       "    </tr>\n",
       "    <tr>\n",
       "      <th>2</th>\n",
       "      <td>-36.043653</td>\n",
       "      <td>0.0</td>\n",
       "      <td>0.0</td>\n",
       "      <td>0.0</td>\n",
       "      <td>0.0</td>\n",
       "      <td>0.0</td>\n",
       "      <td>0.0</td>\n",
       "      <td>0.0</td>\n",
       "      <td>0.0</td>\n",
       "      <td>0.0</td>\n",
       "      <td>0.0</td>\n",
       "      <td>0.0</td>\n",
       "      <td>0.0</td>\n",
       "      <td>0.0</td>\n",
       "    </tr>\n",
       "    <tr>\n",
       "      <th>3</th>\n",
       "      <td>-36.043653</td>\n",
       "      <td>0.0</td>\n",
       "      <td>0.0</td>\n",
       "      <td>0.0</td>\n",
       "      <td>0.0</td>\n",
       "      <td>0.0</td>\n",
       "      <td>0.0</td>\n",
       "      <td>0.0</td>\n",
       "      <td>0.0</td>\n",
       "      <td>0.0</td>\n",
       "      <td>0.0</td>\n",
       "      <td>0.0</td>\n",
       "      <td>0.0</td>\n",
       "      <td>0.0</td>\n",
       "    </tr>\n",
       "  </tbody>\n",
       "</table>\n",
       "</div>"
      ],
      "text/plain": [
       "      MFCC_1  MFCC_2  MFCC_3  MFCC_4  MFCC_5  MFCC_6  MFCC_7  MFCC_8  MFCC_9  \\\n",
       "0 -36.043653     0.0     0.0     0.0     0.0     0.0     0.0     0.0     0.0   \n",
       "1 -36.043653     0.0     0.0     0.0     0.0     0.0     0.0     0.0     0.0   \n",
       "2 -36.043653     0.0     0.0     0.0     0.0     0.0     0.0     0.0     0.0   \n",
       "3 -36.043653     0.0     0.0     0.0     0.0     0.0     0.0     0.0     0.0   \n",
       "\n",
       "   MFCC_10  MFCC_11  MFCC_12  MFCC_13  Percent_passing_hampel_filter  \n",
       "0      0.0      0.0      0.0      0.0                            0.0  \n",
       "1      0.0      0.0      0.0      0.0                            0.0  \n",
       "2      0.0      0.0      0.0      0.0                            0.0  \n",
       "3      0.0      0.0      0.0      0.0                            0.0  "
      ]
     },
     "execution_count": 24,
     "metadata": {},
     "output_type": "execute_result"
    }
   ],
   "source": [
    "mfcc_df.head(4)"
   ]
  },
  {
   "cell_type": "code",
   "execution_count": 25,
   "metadata": {},
   "outputs": [
    {
     "data": {
      "text/plain": [
       "0.30481542908591197"
      ]
     },
     "execution_count": 25,
     "metadata": {},
     "output_type": "execute_result"
    }
   ],
   "source": [
    "mfcc_df['Percent_passing_hampel_filter'].mean()"
   ]
  },
  {
   "cell_type": "code",
   "execution_count": 26,
   "metadata": {},
   "outputs": [
    {
     "data": {
      "text/plain": [
       "<matplotlib.axes._subplots.AxesSubplot at 0x1c2d3be898>"
      ]
     },
     "execution_count": 26,
     "metadata": {},
     "output_type": "execute_result"
    },
    {
     "data": {
      "image/png": "[encoded data removed]",
      "text/plain": [
       "<Figure size 432x288 with 1 Axes>"
      ]
     },
     "metadata": {
      "needs_background": "light"
     },
     "output_type": "display_data"
    }
   ],
   "source": [
    "mfcc_df['Percent_passing_hampel_filter'].plot.kde()"
   ]
  },
  {
   "cell_type": "markdown",
   "metadata": {},
   "source": [
    "#### Saving this dataframe"
   ]
  },
  {
   "cell_type": "code",
   "execution_count": 27,
   "metadata": {},
   "outputs": [],
   "source": [
    "# mfcc_df.to_csv(\"./corrected_textgrid/mfcc_hamp_filter_df/df\")"
   ]
  },
  {
   "cell_type": "markdown",
   "metadata": {},
   "source": [
    "### Making prediction column (vowel/not vowel for correct time points)"
   ]
  },
  {
   "cell_type": "code",
   "execution_count": 28,
   "metadata": {},
   "outputs": [],
   "source": [
    "only_vowels_df = df[df['Vowel']==1].reset_index()"
   ]
  },
  {
   "cell_type": "code",
   "execution_count": 29,
   "metadata": {},
   "outputs": [
    {
     "data": {
      "text/html": [
       "<div>\n",
       "<style scoped>\n",
       "    .dataframe tbody tr th:only-of-type {\n",
       "        vertical-align: middle;\n",
       "    }\n",
       "\n",
       "    .dataframe tbody tr th {\n",
       "        vertical-align: top;\n",
       "    }\n",
       "\n",
       "    .dataframe thead th {\n",
       "        text-align: right;\n",
       "    }\n",
       "</style>\n",
       "<table border=\"1\" class=\"dataframe\">\n",
       "  <thead>\n",
       "    <tr style=\"text-align: right;\">\n",
       "      <th></th>\n",
       "      <th>index</th>\n",
       "      <th>Phone_Text</th>\n",
       "      <th>Phone_xmin</th>\n",
       "      <th>Phone_xmax</th>\n",
       "      <th>Word_Text</th>\n",
       "      <th>Word_xmin</th>\n",
       "      <th>Word_xmax</th>\n",
       "      <th>Vowel</th>\n",
       "      <th>Speaker</th>\n",
       "      <th>Phone_Duration</th>\n",
       "    </tr>\n",
       "  </thead>\n",
       "  <tbody>\n",
       "    <tr>\n",
       "      <th>0</th>\n",
       "      <td>2</td>\n",
       "      <td>AH</td>\n",
       "      <td>4.589832</td>\n",
       "      <td>4.831125</td>\n",
       "      <td>!SIL</td>\n",
       "      <td>2.000000</td>\n",
       "      <td>4.361218</td>\n",
       "      <td>1</td>\n",
       "      <td>6</td>\n",
       "      <td>0.241293</td>\n",
       "    </tr>\n",
       "    <tr>\n",
       "      <th>1</th>\n",
       "      <td>5</td>\n",
       "      <td>AY</td>\n",
       "      <td>5.481125</td>\n",
       "      <td>5.881125</td>\n",
       "      <td>mine</td>\n",
       "      <td>5.141125</td>\n",
       "      <td>6.111125</td>\n",
       "      <td>1</td>\n",
       "      <td>6</td>\n",
       "      <td>0.400000</td>\n",
       "    </tr>\n",
       "  </tbody>\n",
       "</table>\n",
       "</div>"
      ],
      "text/plain": [
       "   index Phone_Text  Phone_xmin  Phone_xmax Word_Text  Word_xmin  Word_xmax  \\\n",
       "0      2         AH    4.589832    4.831125      !SIL   2.000000   4.361218   \n",
       "1      5         AY    5.481125    5.881125      mine   5.141125   6.111125   \n",
       "\n",
       "   Vowel  Speaker  Phone_Duration  \n",
       "0      1        6        0.241293  \n",
       "1      1        6        0.400000  "
      ]
     },
     "execution_count": 29,
     "metadata": {},
     "output_type": "execute_result"
    }
   ],
   "source": [
    "only_vowels_df.head(2)"
   ]
  },
  {
   "cell_type": "code",
   "execution_count": 30,
   "metadata": {},
   "outputs": [],
   "source": [
    "#I have to limit the df to vowels either in the function, or before I input the df\n",
    "vowel_indices = chunk_vowels_to_sr(only_vowels_df)"
   ]
  },
  {
   "cell_type": "code",
   "execution_count": 31,
   "metadata": {},
   "outputs": [
    {
     "data": {
      "text/plain": [
       "25998.875"
      ]
     },
     "execution_count": 31,
     "metadata": {},
     "output_type": "execute_result"
    }
   ],
   "source": [
    "len(vowel_indices) / 40"
   ]
  },
  {
   "cell_type": "code",
   "execution_count": 32,
   "metadata": {},
   "outputs": [
    {
     "data": {
      "text/plain": [
       "[36719, 36720, 36721, 36722, 36723, 36724, 36725, 36726, 36727, 36728]"
      ]
     },
     "execution_count": 32,
     "metadata": {},
     "output_type": "execute_result"
    }
   ],
   "source": [
    "vowel_indices[0:10]"
   ]
  },
  {
   "cell_type": "code",
   "execution_count": 33,
   "metadata": {},
   "outputs": [],
   "source": [
    "vowel_indices_percent_passing = make_sample_rates_match(vowel_indices, 40, 21103)"
   ]
  },
  {
   "cell_type": "code",
   "execution_count": 34,
   "metadata": {},
   "outputs": [
    {
     "data": {
      "text/plain": [
       "5206.340000000007"
      ]
     },
     "execution_count": 34,
     "metadata": {},
     "output_type": "execute_result"
    }
   ],
   "source": [
    "sum(vowel_indices_percent_passing)"
   ]
  },
  {
   "cell_type": "code",
   "execution_count": 560,
   "metadata": {},
   "outputs": [
    {
     "data": {
      "text/plain": [
       "0.24671089418566117"
      ]
     },
     "execution_count": 560,
     "metadata": {},
     "output_type": "execute_result"
    }
   ],
   "source": [
    "# in reality, 25% of the file is a vowel\n",
    "sum(vowel_indices_percent_passing) / len(vowel_indices_percent_passing)"
   ]
  },
  {
   "cell_type": "markdown",
   "metadata": {},
   "source": [
    "#### Make into binary classification (currently a percentage)"
   ]
  },
  {
   "cell_type": "markdown",
   "metadata": {},
   "source": [
    "##### Trying to find distribution of values in vowel_indices_percent_passing"
   ]
  },
  {
   "cell_type": "code",
   "execution_count": 36,
   "metadata": {},
   "outputs": [
    {
     "data": {
      "image/png": "[encoded data removed]",
      "text/plain": [
       "<Figure size 432x288 with 1 Axes>"
      ]
     },
     "metadata": {
      "needs_background": "light"
     },
     "output_type": "display_data"
    }
   ],
   "source": [
    "vowel_indices_percent_passing_series = pd.Series(vowel_indices_percent_passing)\n",
    "ax = vowel_indices_percent_passing_series.plot.kde()"
   ]
  },
  {
   "cell_type": "code",
   "execution_count": 37,
   "metadata": {
    "scrolled": true
   },
   "outputs": [
    {
     "data": {
      "text/plain": [
       "list"
      ]
     },
     "execution_count": 37,
     "metadata": {},
     "output_type": "execute_result"
    }
   ],
   "source": [
    "type(vowel_indices_percent_passing)"
   ]
  },
  {
   "cell_type": "code",
   "execution_count": 38,
   "metadata": {},
   "outputs": [],
   "source": [
    "vowel_indices_percent_passing_array = np.array(vowel_indices_percent_passing)"
   ]
  },
  {
   "cell_type": "code",
   "execution_count": 39,
   "metadata": {},
   "outputs": [
    {
     "data": {
      "text/plain": [
       "5097"
      ]
     },
     "execution_count": 39,
     "metadata": {},
     "output_type": "execute_result"
    }
   ],
   "source": [
    "# finding percent of values that are above 0\n",
    "counter = 0\n",
    "for x in vowel_indices_percent_passing:\n",
    "    if x > 0.5:\n",
    "        counter+=1\n",
    "counter"
   ]
  },
  {
   "cell_type": "code",
   "execution_count": 40,
   "metadata": {},
   "outputs": [],
   "source": [
    "vowel_indices_binary = np.where(vowel_indices_percent_passing_array > 0.5, 1, 0)"
   ]
  },
  {
   "cell_type": "code",
   "execution_count": 561,
   "metadata": {},
   "outputs": [
    {
     "data": {
      "text/plain": [
       "0.24152964033549731"
      ]
     },
     "execution_count": 561,
     "metadata": {},
     "output_type": "execute_result"
    }
   ],
   "source": [
    "# percentage slightly goes down because of rounding each vowel into a 1/40th of a second group\n",
    "vowel_indices_binary.sum() / len(vowel_indices_binary)"
   ]
  },
  {
   "cell_type": "markdown",
   "metadata": {},
   "source": [
    "### Formally making test/ train split"
   ]
  },
  {
   "cell_type": "code",
   "execution_count": 42,
   "metadata": {},
   "outputs": [],
   "source": [
    "X_train, X_test, y_train, y_test = train_test_split(mfcc_df, vowel_indices_binary, test_size=0.33, random_state=1)"
   ]
  },
  {
   "cell_type": "markdown",
   "metadata": {},
   "source": [
    "## Building Random Forest Model"
   ]
  },
  {
   "cell_type": "markdown",
   "metadata": {},
   "source": [
    "### Model 1"
   ]
  },
  {
   "cell_type": "code",
   "execution_count": 44,
   "metadata": {},
   "outputs": [
    {
     "name": "stderr",
     "output_type": "stream",
     "text": [
      "[Parallel(n_jobs=-1)]: Using backend ThreadingBackend with 8 concurrent workers.\n",
      "[Parallel(n_jobs=-1)]: Done  34 tasks      | elapsed:    0.3s\n",
      "[Parallel(n_jobs=-1)]: Done 100 out of 100 | elapsed:    0.7s finished\n",
      "[Parallel(n_jobs=8)]: Using backend ThreadingBackend with 8 concurrent workers.\n",
      "[Parallel(n_jobs=8)]: Done  34 tasks      | elapsed:    0.0s\n",
      "[Parallel(n_jobs=8)]: Done 100 out of 100 | elapsed:    0.0s finished\n"
     ]
    }
   ],
   "source": [
    "rf = RandomForestClassifier(n_estimators = 100, random_state = 42, n_jobs=-1)\n",
    "rf.fit(X_train, y_train)\n",
    "rf_pred = rf.predict(X_test)"
   ]
  },
  {
   "cell_type": "code",
   "execution_count": 45,
   "metadata": {},
   "outputs": [
    {
     "name": "stdout",
     "output_type": "stream",
     "text": [
      "      \n",
      "        The f1 score is 0.728. \n",
      "\n",
      "        The recall_score is 0.706. \n",
      "\n",
      "        The precision is 0.752. \n"
     ]
    }
   ],
   "source": [
    "# initializing the metric dictionary since it hasn't been called yet\n",
    "metric_dictionary = {} \n",
    "metric_dictionary = find_metrics(y_test, rf_pred, metric_dictionary, 'first_random_forest')"
   ]
  },
  {
   "cell_type": "code",
   "execution_count": 47,
   "metadata": {},
   "outputs": [
    {
     "data": {
      "text/plain": [
       "{'first_random_forest': {'f1_score': 0.728,\n",
       "  'recall_score': 0.706,\n",
       "  'precision_score': 0.752}}"
      ]
     },
     "execution_count": 47,
     "metadata": {},
     "output_type": "execute_result"
    }
   ],
   "source": [
    "metric_dictionary"
   ]
  },
  {
   "cell_type": "markdown",
   "metadata": {},
   "source": [
    "### Model 2"
   ]
  },
  {
   "cell_type": "code",
   "execution_count": 48,
   "metadata": {},
   "outputs": [
    {
     "name": "stderr",
     "output_type": "stream",
     "text": [
      "[Parallel(n_jobs=-1)]: Using backend ThreadingBackend with 8 concurrent workers.\n",
      "[Parallel(n_jobs=-1)]: Done  34 tasks      | elapsed:    0.3s\n",
      "[Parallel(n_jobs=-1)]: Done 184 tasks      | elapsed:    1.4s\n",
      "[Parallel(n_jobs=-1)]: Done 434 tasks      | elapsed:    3.2s\n",
      "[Parallel(n_jobs=-1)]: Done 784 tasks      | elapsed:    5.6s\n",
      "[Parallel(n_jobs=-1)]: Done 1234 tasks      | elapsed:    9.2s\n",
      "[Parallel(n_jobs=-1)]: Done 1784 tasks      | elapsed:   13.3s\n",
      "[Parallel(n_jobs=-1)]: Done 2434 tasks      | elapsed:   18.6s\n",
      "[Parallel(n_jobs=-1)]: Done 3184 tasks      | elapsed:   24.9s\n",
      "[Parallel(n_jobs=-1)]: Done 4034 tasks      | elapsed:   32.4s\n",
      "[Parallel(n_jobs=-1)]: Done 4984 tasks      | elapsed:   41.3s\n",
      "[Parallel(n_jobs=-1)]: Done 6034 tasks      | elapsed:   50.1s\n",
      "[Parallel(n_jobs=-1)]: Done 7184 tasks      | elapsed:   59.8s\n",
      "[Parallel(n_jobs=-1)]: Done 8434 tasks      | elapsed:  1.2min\n",
      "[Parallel(n_jobs=-1)]: Done 9784 tasks      | elapsed:  1.4min\n",
      "[Parallel(n_jobs=-1)]: Done 10000 out of 10000 | elapsed:  1.4min finished\n",
      "[Parallel(n_jobs=8)]: Using backend ThreadingBackend with 8 concurrent workers.\n",
      "[Parallel(n_jobs=8)]: Done  34 tasks      | elapsed:    0.0s\n",
      "[Parallel(n_jobs=8)]: Done 184 tasks      | elapsed:    0.1s\n",
      "[Parallel(n_jobs=8)]: Done 434 tasks      | elapsed:    0.2s\n",
      "[Parallel(n_jobs=8)]: Done 784 tasks      | elapsed:    0.3s\n",
      "[Parallel(n_jobs=8)]: Done 1234 tasks      | elapsed:    0.4s\n",
      "[Parallel(n_jobs=8)]: Done 1784 tasks      | elapsed:    0.6s\n",
      "[Parallel(n_jobs=8)]: Done 2434 tasks      | elapsed:    0.8s\n",
      "[Parallel(n_jobs=8)]: Done 3184 tasks      | elapsed:    1.0s\n",
      "[Parallel(n_jobs=8)]: Done 4034 tasks      | elapsed:    1.3s\n",
      "[Parallel(n_jobs=8)]: Done 4984 tasks      | elapsed:    1.6s\n",
      "[Parallel(n_jobs=8)]: Done 6034 tasks      | elapsed:    1.9s\n",
      "[Parallel(n_jobs=8)]: Done 7184 tasks      | elapsed:    2.3s\n",
      "[Parallel(n_jobs=8)]: Done 8434 tasks      | elapsed:    2.7s\n",
      "[Parallel(n_jobs=8)]: Done 9784 tasks      | elapsed:    3.1s\n",
      "[Parallel(n_jobs=8)]: Done 10000 out of 10000 | elapsed:    3.2s finished\n"
     ]
    }
   ],
   "source": [
    "# trying more estimators \n",
    "rf2 = RandomForestClassifier(n_estimators = 10000, random_state = 42, n_jobs=-1)\n",
    "rf2.fit(X_train, y_train)\n",
    "rf_pred2 = rf2.predict(X_test)"
   ]
  },
  {
   "cell_type": "code",
   "execution_count": 49,
   "metadata": {},
   "outputs": [
    {
     "name": "stdout",
     "output_type": "stream",
     "text": [
      "      \n",
      "        The f1 score is 0.736. \n",
      "\n",
      "        The recall_score is 0.719. \n",
      "\n",
      "        The precision is 0.755. \n"
     ]
    }
   ],
   "source": [
    "metric_dictionary = find_metrics(y_test, rf_pred2, metric_dictionary, 'second_random_forest')"
   ]
  },
  {
   "cell_type": "code",
   "execution_count": 50,
   "metadata": {},
   "outputs": [
    {
     "name": "stdout",
     "output_type": "stream",
     "text": [
      "[[4838  403]\n",
      " [ 484 1239]]\n"
     ]
    }
   ],
   "source": [
    "random_forest_cm2 = confusion_matrix(y_test, rf_pred2)\n",
    "print(random_forest_cm2)"
   ]
  },
  {
   "cell_type": "markdown",
   "metadata": {},
   "source": [
    "### Model 3"
   ]
  },
  {
   "cell_type": "code",
   "execution_count": 51,
   "metadata": {},
   "outputs": [],
   "source": [
    "# lower level of nodes, class_weight='balanced_subsample'\n",
    "# trying more estimators \n",
    "rf3 = RandomForestClassifier(n_estimators = 100, random_state = 42, n_jobs=-1,\n",
    "                            class_weight='balanced_subsample')\n",
    "rf3.fit(X_train, y_train)\n",
    "rf_pred3 = rf3.predict(X_test)"
   ]
  },
  {
   "cell_type": "code",
   "execution_count": 54,
   "metadata": {},
   "outputs": [
    {
     "name": "stdout",
     "output_type": "stream",
     "text": [
      "      \n",
      "        The f1 score is 0.723. \n",
      "\n",
      "        The recall_score is 0.685. \n",
      "\n",
      "        The precision is 0.764. \n"
     ]
    }
   ],
   "source": [
    "metric_dictionary = find_metrics(y_test, rf_pred3, metric_dictionary, 'third_random_forest')"
   ]
  },
  {
   "cell_type": "markdown",
   "metadata": {},
   "source": [
    "### Model 4"
   ]
  },
  {
   "cell_type": "code",
   "execution_count": 55,
   "metadata": {},
   "outputs": [],
   "source": [
    "# BalancedRandomForestClassifier \n",
    "rf4 = BalancedRandomForestClassifier(n_estimators=100, random_state=42, n_jobs=-1)\n",
    "rf4.fit(X_train, y_train)\n",
    "rf_pred4 = rf4.predict(X_test)"
   ]
  },
  {
   "cell_type": "code",
   "execution_count": 432,
   "metadata": {},
   "outputs": [],
   "source": [
    "# sorted(sklearn.metrics.SCORERS.keys())\n",
    "# this method isn't very helpful compare to computing f1 score\n",
    "# print(cross_val_score(rf4, X_train, y_train, cv=5, scoring='f1'))"
   ]
  },
  {
   "cell_type": "code",
   "execution_count": 56,
   "metadata": {},
   "outputs": [
    {
     "name": "stdout",
     "output_type": "stream",
     "text": [
      "      \n",
      "        The f1 score is 0.734. \n",
      "\n",
      "        The recall_score is 0.917. \n",
      "\n",
      "        The precision is 0.612. \n"
     ]
    }
   ],
   "source": [
    "metric_dictionary = find_metrics(y_test, rf_pred4, metric_dictionary, 'fourth_random_forest')"
   ]
  },
  {
   "cell_type": "markdown",
   "metadata": {},
   "source": [
    "### Model 5 - class_weight = 'balanced'"
   ]
  },
  {
   "cell_type": "code",
   "execution_count": 57,
   "metadata": {},
   "outputs": [],
   "source": [
    "rf5 = RandomForestClassifier(n_estimators = 100, random_state = 42, n_jobs=-1,\n",
    "                            class_weight='balanced')\n",
    "rf5.fit(X_train, y_train)\n",
    "rf_pred5 = rf5.predict(X_test)"
   ]
  },
  {
   "cell_type": "code",
   "execution_count": 58,
   "metadata": {},
   "outputs": [
    {
     "name": "stdout",
     "output_type": "stream",
     "text": [
      "      \n",
      "        The f1 score is 0.727. \n",
      "\n",
      "        The recall_score is 0.694. \n",
      "\n",
      "        The precision is 0.764. \n"
     ]
    }
   ],
   "source": [
    "metric_dictionary = find_metrics(y_test, rf_pred5, metric_dictionary, 'fifth_random_forest')"
   ]
  },
  {
   "cell_type": "markdown",
   "metadata": {},
   "source": [
    "## Bagging algorithms"
   ]
  },
  {
   "cell_type": "markdown",
   "metadata": {},
   "source": [
    "### Model 1: Base "
   ]
  },
  {
   "cell_type": "code",
   "execution_count": 59,
   "metadata": {},
   "outputs": [],
   "source": [
    "bagging_model = BaggingClassifier(n_estimators=100, random_state=42, n_jobs=-1)\n",
    "bagging_model.fit(X_train, y_train)\n",
    "bagging_model_predictions = bagging_model.predict(X_test)"
   ]
  },
  {
   "cell_type": "code",
   "execution_count": 60,
   "metadata": {},
   "outputs": [
    {
     "name": "stdout",
     "output_type": "stream",
     "text": [
      "      \n",
      "        The f1 score is 0.736. \n",
      "\n",
      "        The recall_score is 0.723. \n",
      "\n",
      "        The precision is 0.749. \n"
     ]
    }
   ],
   "source": [
    "metric_dictionary = find_metrics(y_test, bagging_model_predictions, metric_dictionary, 'first_bagged_model')"
   ]
  },
  {
   "cell_type": "markdown",
   "metadata": {},
   "source": [
    "### Model 2: balanced bagging "
   ]
  },
  {
   "cell_type": "code",
   "execution_count": 61,
   "metadata": {},
   "outputs": [],
   "source": [
    "balanced_bagging_model = BalancedBaggingClassifier(n_estimators = 100, random_state=42, n_jobs=-1)\n",
    "balanced_bagging_model.fit(X_train, y_train)\n",
    "balanced_bagging_model_predictions = balanced_bagging_model.predict(X_test)"
   ]
  },
  {
   "cell_type": "code",
   "execution_count": 62,
   "metadata": {},
   "outputs": [
    {
     "name": "stdout",
     "output_type": "stream",
     "text": [
      "      \n",
      "        The f1 score is 0.746. \n",
      "\n",
      "        The recall_score is 0.867. \n",
      "\n",
      "        The precision is 0.654. \n"
     ]
    }
   ],
   "source": [
    "metric_dictionary = find_metrics(y_test, balanced_bagging_model_predictions, metric_dictionary, 'second_bagged_model')"
   ]
  },
  {
   "cell_type": "markdown",
   "metadata": {},
   "source": [
    "## Ensemble Methods"
   ]
  },
  {
   "cell_type": "markdown",
   "metadata": {},
   "source": [
    "### Model 1"
   ]
  },
  {
   "cell_type": "code",
   "execution_count": 63,
   "metadata": {},
   "outputs": [],
   "source": [
    "ensemb_model = EasyEnsembleClassifier(n_estimators=100, random_state=42, n_jobs=-1)\n",
    "ensemb_model.fit(X_train, y_train)\n",
    "ensemb_model_predictions = ensemb_model.predict(X_test)"
   ]
  },
  {
   "cell_type": "code",
   "execution_count": 64,
   "metadata": {},
   "outputs": [
    {
     "name": "stdout",
     "output_type": "stream",
     "text": [
      "      \n",
      "        The f1 score is 0.707. \n",
      "\n",
      "        The recall_score is 0.918. \n",
      "\n",
      "        The precision is 0.575. \n"
     ]
    }
   ],
   "source": [
    "metric_dictionary = find_metrics(y_test, ensemb_model_predictions, metric_dictionary, 'first_ensemble_model')"
   ]
  },
  {
   "cell_type": "markdown",
   "metadata": {},
   "source": [
    "## Random Forest with SMOTE"
   ]
  },
  {
   "cell_type": "code",
   "execution_count": 65,
   "metadata": {},
   "outputs": [],
   "source": [
    "oversample3 = SMOTE(sampling_strategy=0.7)"
   ]
  },
  {
   "cell_type": "code",
   "execution_count": 66,
   "metadata": {},
   "outputs": [],
   "source": [
    "X_train_oversample3, y_train_oversample3 = oversample3.fit_resample(X_train, y_train)"
   ]
  },
  {
   "cell_type": "code",
   "execution_count": 67,
   "metadata": {},
   "outputs": [
    {
     "data": {
      "text/plain": [
       "0.41174863387978144"
      ]
     },
     "execution_count": 67,
     "metadata": {},
     "output_type": "execute_result"
    }
   ],
   "source": [
    "# ratio of 40/60 vowel / nonvowel\n",
    "y_train_oversample3.sum() / len(y_train_oversample3)"
   ]
  },
  {
   "cell_type": "code",
   "execution_count": 68,
   "metadata": {},
   "outputs": [
    {
     "name": "stderr",
     "output_type": "stream",
     "text": [
      "[Parallel(n_jobs=-1)]: Using backend ThreadingBackend with 8 concurrent workers.\n",
      "[Parallel(n_jobs=-1)]: Done  34 tasks      | elapsed:    0.4s\n",
      "[Parallel(n_jobs=-1)]: Done 100 out of 100 | elapsed:    1.0s finished\n",
      "[Parallel(n_jobs=8)]: Using backend ThreadingBackend with 8 concurrent workers.\n",
      "[Parallel(n_jobs=8)]: Done  34 tasks      | elapsed:    0.0s\n",
      "[Parallel(n_jobs=8)]: Done 100 out of 100 | elapsed:    0.0s finished\n"
     ]
    }
   ],
   "source": [
    "rf_sm = RandomForestClassifier(n_estimators = 100, random_state = 42, n_jobs=-1)\n",
    "rf_sm.fit(X_train_oversample3, y_train_oversample3)\n",
    "rf_pred_sm = rf_sm.predict(X_test)"
   ]
  },
  {
   "cell_type": "code",
   "execution_count": 69,
   "metadata": {},
   "outputs": [
    {
     "name": "stdout",
     "output_type": "stream",
     "text": [
      "      \n",
      "        The f1 score is 0.755. \n",
      "\n",
      "        The recall_score is 0.81. \n",
      "\n",
      "        The precision is 0.708. \n"
     ]
    }
   ],
   "source": [
    "metric_dictionary = find_metrics(y_test, rf_pred_sm, metric_dictionary, 'random_forest_w_smote')"
   ]
  },
  {
   "cell_type": "markdown",
   "metadata": {},
   "source": [
    "## Picking best model"
   ]
  },
  {
   "cell_type": "code",
   "execution_count": 70,
   "metadata": {},
   "outputs": [
    {
     "name": "stdout",
     "output_type": "stream",
     "text": [
      "random_forest_w_smote\n",
      "0.755\n"
     ]
    }
   ],
   "source": [
    "best_f1 = 0\n",
    "best_model_list = []\n",
    "for item in metric_dictionary:\n",
    "    if metric_dictionary[item]['f1_score'] > best_f1:\n",
    "        best_f1 = metric_dictionary[item]['f1_score']\n",
    "        best_model_list.append(item)\n",
    "print(best_model_list[-1])\n",
    "print(best_f1)"
   ]
  },
  {
   "cell_type": "code",
   "execution_count": 73,
   "metadata": {},
   "outputs": [],
   "source": [
    "# metric_dictionary"
   ]
  },
  {
   "cell_type": "markdown",
   "metadata": {},
   "source": [
    "## Improving Best Model"
   ]
  },
  {
   "cell_type": "code",
   "execution_count": 201,
   "metadata": {},
   "outputs": [
    {
     "name": "stderr",
     "output_type": "stream",
     "text": [
      "[Parallel(n_jobs=-1)]: Using backend ThreadingBackend with 8 concurrent workers.\n",
      "[Parallel(n_jobs=-1)]: Done  34 tasks      | elapsed:    0.4s\n",
      "[Parallel(n_jobs=-1)]: Done 184 tasks      | elapsed:    1.8s\n",
      "[Parallel(n_jobs=-1)]: Done 434 tasks      | elapsed:    4.2s\n",
      "[Parallel(n_jobs=-1)]: Done 784 tasks      | elapsed:    7.7s\n",
      "[Parallel(n_jobs=-1)]: Done 1000 out of 1000 | elapsed:    9.9s finished\n",
      "[Parallel(n_jobs=8)]: Using backend ThreadingBackend with 8 concurrent workers.\n",
      "[Parallel(n_jobs=8)]: Done  34 tasks      | elapsed:    0.0s\n",
      "[Parallel(n_jobs=8)]: Done 184 tasks      | elapsed:    0.1s\n",
      "[Parallel(n_jobs=8)]: Done 434 tasks      | elapsed:    0.1s\n",
      "[Parallel(n_jobs=8)]: Done 784 tasks      | elapsed:    0.3s\n",
      "[Parallel(n_jobs=8)]: Done 1000 out of 1000 | elapsed:    0.3s finished\n"
     ]
    }
   ],
   "source": [
    "# adding more trees for current best model \n",
    "random_forest_w_smote2 = RandomForestClassifier(n_estimators = 1000, random_state = 42, n_jobs=-1)\n",
    "random_forest_w_smote2.fit(X_train_oversample3, y_train_oversample3)\n",
    "random_forest_w_smote_predictions2 = random_forest_w_smote2.predict(X_test)"
   ]
  },
  {
   "cell_type": "code",
   "execution_count": 202,
   "metadata": {},
   "outputs": [
    {
     "name": "stdout",
     "output_type": "stream",
     "text": [
      "      \n",
      "        The f1 score is 0.761. \n",
      "\n",
      "        The recall_score is 0.818. \n",
      "\n",
      "        The precision is 0.712. \n"
     ]
    }
   ],
   "source": [
    "metric_dictionary = find_metrics(y_test, random_forest_w_smote_predictions2, metric_dictionary, 'random_forest_w_smote2')"
   ]
  },
  {
   "cell_type": "markdown",
   "metadata": {},
   "source": [
    "# Saving models/data"
   ]
  },
  {
   "cell_type": "code",
   "execution_count": 531,
   "metadata": {},
   "outputs": [],
   "source": [
    "# with open('./corrected_textgrid/data_for_final_model/vowel_indices', \"wb+\") as f:\n",
    "#     pickle.dump(vowel_indices, f)"
   ]
  },
  {
   "cell_type": "code",
   "execution_count": 528,
   "metadata": {},
   "outputs": [],
   "source": [
    "# test_train_split = \"X_train, X_test, y_train, y_test = train_test_split(mfcc_df, vowel_indices_binary, test_size=0.33, random_state=1)\"\n",
    "# with open('./corrected_textgrid/data_for_final_model/test_train_split', \"wb+\") as f:\n",
    "#     pickle.dump(test_train_split, f)"
   ]
  },
  {
   "cell_type": "code",
   "execution_count": 529,
   "metadata": {},
   "outputs": [],
   "source": [
    "# best_model_info = \"\"\"\n",
    "# balanced_bagging_model2 = BalancedBaggingClassifier(n_estimators = 10000, random_state=42, n_jobs=-1)\n",
    "# balanced_bagging_model2.fit(X_train, y_train)\n",
    "# balanced_bagging_model_predictions2 = balanced_bagging_model2.predict(X_test)\n",
    "# \"\"\""
   ]
  },
  {
   "cell_type": "code",
   "execution_count": 530,
   "metadata": {},
   "outputs": [],
   "source": [
    "# with open('./corrected_textgrid/data_for_final_model/best_model_info', \"wb+\") as f:\n",
    "#     pickle.dump(best_model_info, f)"
   ]
  },
  {
   "cell_type": "code",
   "execution_count": null,
   "metadata": {},
   "outputs": [],
   "source": [
    "# why is there such a difference in the size of the two test/train/splits? \n",
    "## --- I think it's because I ran it on the new_indices that the hampel filter makes (only median values)\n",
    "## --- instead of the original data \n",
    "# _ I think the answer is that I made a mistake when I was finding the test/validate/train split point"
   ]
  },
  {
   "cell_type": "markdown",
   "metadata": {},
   "source": [
    "# Neural Networks"
   ]
  },
  {
   "cell_type": "markdown",
   "metadata": {},
   "source": [
    "## Getting data"
   ]
  },
  {
   "cell_type": "code",
   "execution_count": 568,
   "metadata": {},
   "outputs": [],
   "source": [
    "X_train, X_test, y_train, y_test = train_test_split(mfcc_df, vowel_indices_binary, test_size=0.33, random_state=1)"
   ]
  },
  {
   "cell_type": "code",
   "execution_count": 569,
   "metadata": {},
   "outputs": [
    {
     "data": {
      "text/plain": [
       "(14139, 14)"
      ]
     },
     "execution_count": 569,
     "metadata": {},
     "output_type": "execute_result"
    }
   ],
   "source": [
    "X_train.shape"
   ]
  },
  {
   "cell_type": "code",
   "execution_count": 570,
   "metadata": {},
   "outputs": [
    {
     "data": {
      "text/plain": [
       "(14139,)"
      ]
     },
     "execution_count": 570,
     "metadata": {},
     "output_type": "execute_result"
    }
   ],
   "source": [
    "y_train.shape"
   ]
  },
  {
   "cell_type": "markdown",
   "metadata": {},
   "source": [
    "## Initializing Model Architecture Used Throughout "
   ]
  },
  {
   "cell_type": "code",
   "execution_count": 571,
   "metadata": {},
   "outputs": [],
   "source": [
    "# Initialize a sequential model\n",
    "model = Sequential()\n",
    "# Two layers with relu activation 8 layers\n",
    "model.add(Dense(50, activation='relu', input_shape=(14,)))\n",
    "model.add(Dense(25, activation='relu'))\n",
    "model.add(Dense(25, activation='tanh'))\n",
    "model.add(Dropout(0.1))\n",
    "model.add(Dense(25, activation='relu'))\n",
    "model.add(Dense(25, activation='tanh'))\n",
    "model.add(Dense(25, activation='relu'))\n",
    "# model.add(Dropout(0.1))\n",
    "model.add(Dense(25, activation='tanh'))\n",
    "model.add(Dense(25, activation='relu'))\n",
    "# One layer with sigmoid activation \n",
    "model.add(Dense(1, activation='sigmoid'))"
   ]
  },
  {
   "cell_type": "code",
   "execution_count": 572,
   "metadata": {},
   "outputs": [],
   "source": [
    "# Compile the model\n",
    "model.compile(loss='binary_crossentropy', optimizer='adam', metrics=['accuracy']) "
   ]
  },
  {
   "cell_type": "code",
   "execution_count": 655,
   "metadata": {},
   "outputs": [],
   "source": [
    "es = EarlyStopping(monitor = 'acc', mode = 'auto', patience = 3, min_delta = 0.01)\n",
    "mcp = ModelCheckpoint('history', monitor= 'acc', mode = 'auto', save_best_only=True)"
   ]
  },
  {
   "cell_type": "markdown",
   "metadata": {},
   "source": [
    "## Vanilla Neural Networks"
   ]
  },
  {
   "cell_type": "markdown",
   "metadata": {},
   "source": [
    "### Model 1 - no upsample"
   ]
  },
  {
   "cell_type": "code",
   "execution_count": 656,
   "metadata": {},
   "outputs": [
    {
     "name": "stdout",
     "output_type": "stream",
     "text": [
      "Epoch 1/75\n",
      "14139/14139 [==============================] - 0s 30us/step - loss: 0.2324 - acc: 0.8958\n",
      "Epoch 2/75\n",
      "14139/14139 [==============================] - 0s 30us/step - loss: 0.2280 - acc: 0.9001\n",
      "Epoch 3/75\n",
      "14139/14139 [==============================] - 0s 30us/step - loss: 0.2284 - acc: 0.8968\n",
      "Epoch 4/75\n",
      "14139/14139 [==============================] - 0s 32us/step - loss: 0.2270 - acc: 0.8991\n"
     ]
    }
   ],
   "source": [
    "history = model.fit(X_train, y_train,\n",
    "                    batch_size=64,\n",
    "                    epochs=75,\n",
    "                   callbacks = [es, mcp])"
   ]
  },
  {
   "cell_type": "code",
   "execution_count": 628,
   "metadata": {},
   "outputs": [
    {
     "data": {
      "text/plain": [
       "dict_keys(['loss', 'acc'])"
      ]
     },
     "execution_count": 628,
     "metadata": {},
     "output_type": "execute_result"
    }
   ],
   "source": [
    "#history\n",
    "history_dict = history.history\n",
    "history_dict.keys()"
   ]
  },
  {
   "cell_type": "code",
   "execution_count": 629,
   "metadata": {},
   "outputs": [
    {
     "data": {
      "text/plain": [
       "<matplotlib.axes._subplots.AxesSubplot at 0x1d282e9588>"
      ]
     },
     "execution_count": 629,
     "metadata": {},
     "output_type": "execute_result"
    },
    {
     "data": {
      "image/png": "[encoded data removed]",
      "text/plain": [
       "<Figure size 432x288 with 1 Axes>"
      ]
     },
     "metadata": {
      "needs_background": "light"
     },
     "output_type": "display_data"
    }
   ],
   "source": [
    "# Plot the loss vs the number of epoch\n",
    "sns.lineplot(x = range(len(history_dict['loss'])), y=history_dict['loss'])"
   ]
  },
  {
   "cell_type": "code",
   "execution_count": 630,
   "metadata": {},
   "outputs": [
    {
     "data": {
      "text/plain": [
       "<matplotlib.axes._subplots.AxesSubplot at 0x1d282d4e10>"
      ]
     },
     "execution_count": 630,
     "metadata": {},
     "output_type": "execute_result"
    },
    {
     "data": {
      "image/png": "[encoded data removed]",
      "text/plain": [
       "<Figure size 432x288 with 1 Axes>"
      ]
     },
     "metadata": {
      "needs_background": "light"
     },
     "output_type": "display_data"
    }
   ],
   "source": [
    "# Plot the training accuracy vs the number of epochs\n",
    "sns.lineplot(x = range(len(history_dict['acc'])), y=history_dict['acc'])"
   ]
  },
  {
   "cell_type": "code",
   "execution_count": 631,
   "metadata": {},
   "outputs": [],
   "source": [
    "# Output (probability) predictions for the test set \n",
    "y_hat_test = model.predict(X_test)"
   ]
  },
  {
   "cell_type": "code",
   "execution_count": 634,
   "metadata": {},
   "outputs": [
    {
     "name": "stdout",
     "output_type": "stream",
     "text": [
      "              precision    recall  f1-score   support\n",
      "\n",
      "           0       0.91      0.92      0.91      5241\n",
      "           1       0.74      0.71      0.72      1723\n",
      "\n",
      "    accuracy                           0.87      6964\n",
      "   macro avg       0.82      0.81      0.82      6964\n",
      "weighted avg       0.87      0.87      0.87      6964\n",
      "\n"
     ]
    }
   ],
   "source": [
    "ynew = model.predict_classes(X_test)\n",
    "print(classification_report(y_test, ynew))"
   ]
  },
  {
   "cell_type": "code",
   "execution_count": 635,
   "metadata": {},
   "outputs": [
    {
     "data": {
      "text/plain": [
       "array([[4821,  420],\n",
       "       [ 505, 1218]])"
      ]
     },
     "execution_count": 635,
     "metadata": {},
     "output_type": "execute_result"
    }
   ],
   "source": [
    "model_confusionmatrix = confusion_matrix(y_test, ynew)\n",
    "model_confusionmatrix"
   ]
  },
  {
   "cell_type": "code",
   "execution_count": 636,
   "metadata": {},
   "outputs": [
    {
     "name": "stdout",
     "output_type": "stream",
     "text": [
      "      \n",
      "        The f1 score is 0.725. \n",
      "\n",
      "        The recall_score is 0.707. \n",
      "\n",
      "        The precision is 0.744. \n"
     ]
    }
   ],
   "source": [
    "metric_dictionary = find_metrics(y_test, ynew, metric_dictionary, 'first_vanilla_network')"
   ]
  },
  {
   "cell_type": "markdown",
   "metadata": {},
   "source": [
    "### Model 2 - class weighting"
   ]
  },
  {
   "cell_type": "markdown",
   "metadata": {},
   "source": [
    "#### What are the proportion of non-vowels to vowels"
   ]
  },
  {
   "cell_type": "code",
   "execution_count": 637,
   "metadata": {},
   "outputs": [
    {
     "data": {
      "text/plain": [
       "4.04178757980267"
      ]
     },
     "execution_count": 637,
     "metadata": {},
     "output_type": "execute_result"
    }
   ],
   "source": [
    "# approximately a 1:4 ratio\n",
    "len(y_test) / y_test.sum()"
   ]
  },
  {
   "cell_type": "markdown",
   "metadata": {},
   "source": [
    "#### Class weight dictionary to add to the model"
   ]
  },
  {
   "cell_type": "code",
   "execution_count": 638,
   "metadata": {},
   "outputs": [],
   "source": [
    "# making the values the inverse of the proportion so that vowels are weighted more strongly\n",
    "weights = {0:1, 1:4}"
   ]
  },
  {
   "cell_type": "markdown",
   "metadata": {},
   "source": [
    "#### The model"
   ]
  },
  {
   "cell_type": "code",
   "execution_count": 657,
   "metadata": {},
   "outputs": [
    {
     "name": "stdout",
     "output_type": "stream",
     "text": [
      "Epoch 1/75\n",
      "14139/14139 [==============================] - 0s 30us/step - loss: 0.4677 - acc: 0.8591\n",
      "Epoch 2/75\n",
      "14139/14139 [==============================] - 0s 31us/step - loss: 0.4616 - acc: 0.8578\n",
      "Epoch 3/75\n",
      "14139/14139 [==============================] - 0s 29us/step - loss: 0.4636 - acc: 0.8559\n",
      "Epoch 4/75\n",
      "14139/14139 [==============================] - 0s 29us/step - loss: 0.4518 - acc: 0.8617\n"
     ]
    }
   ],
   "source": [
    "history2 = model.fit(X_train, y_train,\n",
    "                    batch_size=64,\n",
    "                    epochs=75,\n",
    "                   callbacks = [es, mcp],\n",
    "                    class_weight=weights)"
   ]
  },
  {
   "cell_type": "code",
   "execution_count": 652,
   "metadata": {},
   "outputs": [
    {
     "data": {
      "text/plain": [
       "dict_keys(['loss', 'acc'])"
      ]
     },
     "execution_count": 652,
     "metadata": {},
     "output_type": "execute_result"
    }
   ],
   "source": [
    "#history\n",
    "history_dict2 = history2.history\n",
    "history_dict2.keys()"
   ]
  },
  {
   "cell_type": "code",
   "execution_count": 653,
   "metadata": {},
   "outputs": [
    {
     "data": {
      "text/plain": [
       "<matplotlib.axes._subplots.AxesSubplot at 0x1d28628ac8>"
      ]
     },
     "execution_count": 653,
     "metadata": {},
     "output_type": "execute_result"
    },
    {
     "data": {
      "image/png": "[encoded data removed]",
      "text/plain": [
       "<Figure size 432x288 with 1 Axes>"
      ]
     },
     "metadata": {
      "needs_background": "light"
     },
     "output_type": "display_data"
    }
   ],
   "source": [
    "# Plot the loss vs the number of epoch\n",
    "sns.lineplot(x = range(len(history_dict2['loss'])), y=history_dict2['loss'])"
   ]
  },
  {
   "cell_type": "code",
   "execution_count": 654,
   "metadata": {
    "scrolled": true
   },
   "outputs": [
    {
     "data": {
      "text/plain": [
       "<matplotlib.axes._subplots.AxesSubplot at 0x1d287876d8>"
      ]
     },
     "execution_count": 654,
     "metadata": {},
     "output_type": "execute_result"
    },
    {
     "data": {
      "image/png": "[encoded data removed]",
      "text/plain": [
       "<Figure size 432x288 with 1 Axes>"
      ]
     },
     "metadata": {
      "needs_background": "light"
     },
     "output_type": "display_data"
    }
   ],
   "source": [
    "# Plot the training accuracy vs the number of epochs\n",
    "sns.lineplot(x = range(len(history_dict2['acc'])), y=history_dict2['acc'])"
   ]
  },
  {
   "cell_type": "code",
   "execution_count": 644,
   "metadata": {},
   "outputs": [],
   "source": [
    "# Output (probability) predictions for the test set \n",
    "y_hat_test2 = model.predict(X_test)"
   ]
  },
  {
   "cell_type": "code",
   "execution_count": 645,
   "metadata": {},
   "outputs": [
    {
     "name": "stdout",
     "output_type": "stream",
     "text": [
      "              precision    recall  f1-score   support\n",
      "\n",
      "           0       0.96      0.82      0.88      5241\n",
      "           1       0.62      0.88      0.73      1723\n",
      "\n",
      "    accuracy                           0.84      6964\n",
      "   macro avg       0.79      0.85      0.81      6964\n",
      "weighted avg       0.87      0.84      0.85      6964\n",
      "\n"
     ]
    }
   ],
   "source": [
    "ynew2 = model.predict_classes(X_test)\n",
    "print(classification_report(y_test, ynew2))"
   ]
  },
  {
   "cell_type": "code",
   "execution_count": 646,
   "metadata": {},
   "outputs": [
    {
     "data": {
      "text/plain": [
       "array([[4317,  924],\n",
       "       [ 199, 1524]])"
      ]
     },
     "execution_count": 646,
     "metadata": {},
     "output_type": "execute_result"
    }
   ],
   "source": [
    "model_confusionmatrix2 = confusion_matrix(y_test, ynew2)\n",
    "model_confusionmatrix2"
   ]
  },
  {
   "cell_type": "code",
   "execution_count": 647,
   "metadata": {},
   "outputs": [
    {
     "name": "stdout",
     "output_type": "stream",
     "text": [
      "      \n",
      "        The f1 score is 0.731. \n",
      "\n",
      "        The recall_score is 0.885. \n",
      "\n",
      "        The precision is 0.623. \n"
     ]
    }
   ],
   "source": [
    "# no difference from first model\n",
    "metric_dictionary = find_metrics(y_test, ynew2, metric_dictionary, 'second_vanilla_network')"
   ]
  },
  {
   "cell_type": "markdown",
   "metadata": {},
   "source": [
    "## Upsampling Vowels"
   ]
  },
  {
   "cell_type": "code",
   "execution_count": 139,
   "metadata": {},
   "outputs": [],
   "source": [
    "# upsampling on the training data \n",
    "oversample = SMOTE()\n",
    "X_train_oversample, y_train_oversample = oversample.fit_resample(X_train, y_train)"
   ]
  },
  {
   "cell_type": "code",
   "execution_count": 140,
   "metadata": {},
   "outputs": [
    {
     "data": {
      "text/plain": [
       "21530"
      ]
     },
     "execution_count": 140,
     "metadata": {},
     "output_type": "execute_result"
    }
   ],
   "source": [
    "len(X_train_oversample)"
   ]
  },
  {
   "cell_type": "code",
   "execution_count": 141,
   "metadata": {},
   "outputs": [
    {
     "data": {
      "text/plain": [
       "14139"
      ]
     },
     "execution_count": 141,
     "metadata": {},
     "output_type": "execute_result"
    }
   ],
   "source": [
    "len(X_train)"
   ]
  },
  {
   "cell_type": "markdown",
   "metadata": {},
   "source": [
    "### Model 3"
   ]
  },
  {
   "cell_type": "code",
   "execution_count": 658,
   "metadata": {},
   "outputs": [
    {
     "name": "stdout",
     "output_type": "stream",
     "text": [
      "Epoch 1/75\n",
      "21530/21530 [==============================] - 1s 31us/step - loss: 0.2523 - acc: 0.8969\n",
      "Epoch 2/75\n",
      "21530/21530 [==============================] - 1s 31us/step - loss: 0.2488 - acc: 0.8977\n",
      "Epoch 3/75\n",
      "21530/21530 [==============================] - 1s 28us/step - loss: 0.2457 - acc: 0.9001\n",
      "Epoch 4/75\n",
      "21530/21530 [==============================] - 1s 29us/step - loss: 0.2457 - acc: 0.8991\n"
     ]
    }
   ],
   "source": [
    "history3 = model.fit(X_train_oversample, y_train_oversample,\n",
    "                    batch_size=64,\n",
    "                    epochs=75,\n",
    "                   callbacks = [es, mcp])"
   ]
  },
  {
   "cell_type": "code",
   "execution_count": 659,
   "metadata": {},
   "outputs": [
    {
     "data": {
      "text/plain": [
       "dict_keys(['loss', 'acc'])"
      ]
     },
     "execution_count": 659,
     "metadata": {},
     "output_type": "execute_result"
    }
   ],
   "source": [
    "#history\n",
    "history_dict3 = history3.history\n",
    "history_dict3.keys()"
   ]
  },
  {
   "cell_type": "code",
   "execution_count": 660,
   "metadata": {},
   "outputs": [
    {
     "data": {
      "text/plain": [
       "<matplotlib.axes._subplots.AxesSubplot at 0x1d287fb4e0>"
      ]
     },
     "execution_count": 660,
     "metadata": {},
     "output_type": "execute_result"
    },
    {
     "data": {
      "image/png": "[encoded data removed]",
      "text/plain": [
       "<Figure size 432x288 with 1 Axes>"
      ]
     },
     "metadata": {
      "needs_background": "light"
     },
     "output_type": "display_data"
    }
   ],
   "source": [
    "# Plot the loss vs the number of epoch\n",
    "sns.lineplot(x = range(len(history_dict3['loss'])), y=history_dict3['loss'])"
   ]
  },
  {
   "cell_type": "code",
   "execution_count": 661,
   "metadata": {},
   "outputs": [
    {
     "data": {
      "text/plain": [
       "<matplotlib.axes._subplots.AxesSubplot at 0x1d287ef8d0>"
      ]
     },
     "execution_count": 661,
     "metadata": {},
     "output_type": "execute_result"
    },
    {
     "data": {
      "image/png": "[encoded data removed]",
      "text/plain": [
       "<Figure size 432x288 with 1 Axes>"
      ]
     },
     "metadata": {
      "needs_background": "light"
     },
     "output_type": "display_data"
    }
   ],
   "source": [
    "# Plot the training accuracy vs the number of epochs\n",
    "sns.lineplot(x = range(len(history_dict3['acc'])), y=history_dict3['acc'])"
   ]
  },
  {
   "cell_type": "code",
   "execution_count": 662,
   "metadata": {},
   "outputs": [],
   "source": [
    "# Output (probability) predictions for the test set \n",
    "y_hat_test3 = model.predict(X_test)"
   ]
  },
  {
   "cell_type": "code",
   "execution_count": 663,
   "metadata": {},
   "outputs": [
    {
     "name": "stdout",
     "output_type": "stream",
     "text": [
      "              precision    recall  f1-score   support\n",
      "\n",
      "           0       0.95      0.83      0.89      5241\n",
      "           1       0.63      0.87      0.73      1723\n",
      "\n",
      "    accuracy                           0.84      6964\n",
      "   macro avg       0.79      0.85      0.81      6964\n",
      "weighted avg       0.87      0.84      0.85      6964\n",
      "\n"
     ]
    }
   ],
   "source": [
    "ynew3 = model.predict_classes(X_test)\n",
    "print(classification_report(y_test, ynew3))"
   ]
  },
  {
   "cell_type": "code",
   "execution_count": 664,
   "metadata": {},
   "outputs": [
    {
     "data": {
      "text/plain": [
       "array([[4364,  877],\n",
       "       [ 223, 1500]])"
      ]
     },
     "execution_count": 664,
     "metadata": {},
     "output_type": "execute_result"
    }
   ],
   "source": [
    "model_confusionmatrix3 = confusion_matrix(y_test, ynew3)\n",
    "model_confusionmatrix3"
   ]
  },
  {
   "cell_type": "code",
   "execution_count": 665,
   "metadata": {},
   "outputs": [
    {
     "name": "stdout",
     "output_type": "stream",
     "text": [
      "      \n",
      "        The f1 score is 0.732. \n",
      "\n",
      "        The recall_score is 0.871. \n",
      "\n",
      "        The precision is 0.631. \n"
     ]
    }
   ],
   "source": [
    "# wow! this works amazingly well! \n",
    "metric_dictionary = find_metrics(y_test, ynew3, metric_dictionary, 'vanilla_network_w_upsample')"
   ]
  },
  {
   "cell_type": "markdown",
   "metadata": {},
   "source": [
    "## Upsampling with Undersampling Examples "
   ]
  },
  {
   "cell_type": "code",
   "execution_count": 176,
   "metadata": {},
   "outputs": [],
   "source": [
    "# changing the training samples, not the test samples\n",
    "oversample2 = SMOTE(sampling_strategy=0.6)\n",
    "under = RandomUnderSampler(sampling_strategy=0.7)"
   ]
  },
  {
   "cell_type": "code",
   "execution_count": 177,
   "metadata": {},
   "outputs": [],
   "source": [
    "X_train_over2, y_train_over2 = oversample2.fit_resample(X_train, y_train)"
   ]
  },
  {
   "cell_type": "code",
   "execution_count": 178,
   "metadata": {},
   "outputs": [],
   "source": [
    "X_train_under_over, y_train_under_over = under.fit_resample(X_train_over2, y_train_over2)"
   ]
  },
  {
   "cell_type": "code",
   "execution_count": 179,
   "metadata": {},
   "outputs": [
    {
     "data": {
      "text/plain": [
       "14139"
      ]
     },
     "execution_count": 179,
     "metadata": {},
     "output_type": "execute_result"
    }
   ],
   "source": [
    "len(X_train)"
   ]
  },
  {
   "cell_type": "code",
   "execution_count": 180,
   "metadata": {},
   "outputs": [
    {
     "data": {
      "text/plain": [
       "17224"
      ]
     },
     "execution_count": 180,
     "metadata": {},
     "output_type": "execute_result"
    }
   ],
   "source": [
    "len(X_train_over2)"
   ]
  },
  {
   "cell_type": "code",
   "execution_count": 181,
   "metadata": {},
   "outputs": [
    {
     "data": {
      "text/plain": [
       "15686"
      ]
     },
     "execution_count": 181,
     "metadata": {},
     "output_type": "execute_result"
    }
   ],
   "source": [
    "len(X_train_under_over)"
   ]
  },
  {
   "cell_type": "markdown",
   "metadata": {},
   "source": [
    "#### Getting ratio between the two classes now"
   ]
  },
  {
   "cell_type": "code",
   "execution_count": 182,
   "metadata": {},
   "outputs": [
    {
     "data": {
      "text/plain": [
       "0.4117684559479791"
      ]
     },
     "execution_count": 182,
     "metadata": {},
     "output_type": "execute_result"
    }
   ],
   "source": [
    "y_train_under_over.sum() / len(y_train_under_over)"
   ]
  },
  {
   "cell_type": "markdown",
   "metadata": {},
   "source": [
    "Now we have a 40/60 split of vowels to non-vowels"
   ]
  },
  {
   "cell_type": "markdown",
   "metadata": {},
   "source": [
    "### Model 4"
   ]
  },
  {
   "cell_type": "code",
   "execution_count": 666,
   "metadata": {},
   "outputs": [
    {
     "name": "stdout",
     "output_type": "stream",
     "text": [
      "Epoch 1/75\n",
      "15686/15686 [==============================] - 1s 32us/step - loss: 0.2505 - acc: 0.8932\n",
      "Epoch 2/75\n",
      "15686/15686 [==============================] - 0s 28us/step - loss: 0.2483 - acc: 0.8961\n",
      "Epoch 3/75\n",
      "15686/15686 [==============================] - 0s 28us/step - loss: 0.2551 - acc: 0.8896\n",
      "Epoch 4/75\n",
      "15686/15686 [==============================] - 0s 28us/step - loss: 0.2477 - acc: 0.8967\n"
     ]
    }
   ],
   "source": [
    "history4 = model.fit(X_train_under_over, y_train_under_over,\n",
    "                    batch_size=64,\n",
    "                    epochs=75,\n",
    "                   callbacks = [es, mcp])"
   ]
  },
  {
   "cell_type": "code",
   "execution_count": 667,
   "metadata": {},
   "outputs": [
    {
     "data": {
      "text/plain": [
       "dict_keys(['loss', 'acc'])"
      ]
     },
     "execution_count": 667,
     "metadata": {},
     "output_type": "execute_result"
    }
   ],
   "source": [
    "#history\n",
    "history_dict4 = history4.history\n",
    "history_dict4.keys()"
   ]
  },
  {
   "cell_type": "code",
   "execution_count": 668,
   "metadata": {},
   "outputs": [
    {
     "data": {
      "text/plain": [
       "<matplotlib.axes._subplots.AxesSubplot at 0x1d288b9e48>"
      ]
     },
     "execution_count": 668,
     "metadata": {},
     "output_type": "execute_result"
    },
    {
     "data": {
      "image/png": "[encoded data removed]",
      "text/plain": [
       "<Figure size 432x288 with 1 Axes>"
      ]
     },
     "metadata": {
      "needs_background": "light"
     },
     "output_type": "display_data"
    }
   ],
   "source": [
    "# Plot the loss vs the number of epoch\n",
    "sns.lineplot(x = range(len(history_dict4['loss'])), y=history_dict4['loss'])"
   ]
  },
  {
   "cell_type": "code",
   "execution_count": 669,
   "metadata": {},
   "outputs": [
    {
     "data": {
      "text/plain": [
       "<matplotlib.axes._subplots.AxesSubplot at 0x1d2896a828>"
      ]
     },
     "execution_count": 669,
     "metadata": {},
     "output_type": "execute_result"
    },
    {
     "data": {
      "image/png": "[encoded data removed]",
      "text/plain": [
       "<Figure size 432x288 with 1 Axes>"
      ]
     },
     "metadata": {
      "needs_background": "light"
     },
     "output_type": "display_data"
    }
   ],
   "source": [
    "# Plot the training accuracy vs the number of epochs\n",
    "sns.lineplot(x = range(len(history_dict4['acc'])), y=history_dict4['acc'])"
   ]
  },
  {
   "cell_type": "code",
   "execution_count": 670,
   "metadata": {},
   "outputs": [],
   "source": [
    "# Output (probability) predictions for the test set \n",
    "y_hat_test4 = model.predict(X_test)"
   ]
  },
  {
   "cell_type": "code",
   "execution_count": 671,
   "metadata": {},
   "outputs": [
    {
     "name": "stdout",
     "output_type": "stream",
     "text": [
      "              precision    recall  f1-score   support\n",
      "\n",
      "           0       0.94      0.86      0.90      5241\n",
      "           1       0.66      0.83      0.73      1723\n",
      "\n",
      "    accuracy                           0.85      6964\n",
      "   macro avg       0.80      0.84      0.82      6964\n",
      "weighted avg       0.87      0.85      0.86      6964\n",
      "\n"
     ]
    }
   ],
   "source": [
    "ynew4 = model.predict_classes(X_test)\n",
    "print(classification_report(y_test, ynew4))"
   ]
  },
  {
   "cell_type": "code",
   "execution_count": 672,
   "metadata": {},
   "outputs": [
    {
     "data": {
      "text/plain": [
       "array([[4486,  755],\n",
       "       [ 286, 1437]])"
      ]
     },
     "execution_count": 672,
     "metadata": {},
     "output_type": "execute_result"
    }
   ],
   "source": [
    "model_confusionmatrix4 = confusion_matrix(y_test, ynew4)\n",
    "model_confusionmatrix4"
   ]
  },
  {
   "cell_type": "code",
   "execution_count": 673,
   "metadata": {},
   "outputs": [
    {
     "name": "stdout",
     "output_type": "stream",
     "text": [
      "      \n",
      "        The f1 score is 0.734. \n",
      "\n",
      "        The recall_score is 0.834. \n",
      "\n",
      "        The precision is 0.656. \n"
     ]
    }
   ],
   "source": [
    "# similar though slightly better results than just upsampling\n",
    "metric_dictionary = find_metrics(y_test, ynew4, metric_dictionary, 'vanilla_network_w_upsample_and_downsample')"
   ]
  },
  {
   "cell_type": "markdown",
   "metadata": {},
   "source": [
    "## Choosing Best Model"
   ]
  },
  {
   "cell_type": "code",
   "execution_count": 674,
   "metadata": {},
   "outputs": [
    {
     "name": "stdout",
     "output_type": "stream",
     "text": [
      "random_forest_w_smote2\n",
      "0.761\n"
     ]
    }
   ],
   "source": [
    "best_f1 = 0\n",
    "best_model_list = []\n",
    "for item in metric_dictionary:\n",
    "    if metric_dictionary[item]['f1_score'] > best_f1:\n",
    "        best_f1 = metric_dictionary[item]['f1_score']\n",
    "        best_model_list.append(item)\n",
    "print(best_model_list[-1])\n",
    "print(best_f1)"
   ]
  },
  {
   "cell_type": "markdown",
   "metadata": {},
   "source": [
    "# Conclusion about Classification Models"
   ]
  },
  {
   "cell_type": "markdown",
   "metadata": {},
   "source": [
    "My best model is a random forest that upsamples data with SMOTE. It has an F1 score of 0.761. The neural networks were also improve by using SMOTE. "
   ]
  },
  {
   "cell_type": "code",
   "execution_count": 675,
   "metadata": {
    "collapsed": true
   },
   "outputs": [
    {
     "data": {
      "text/plain": [
       "{'first_random_forest': {'f1_score': 0.728,\n",
       "  'recall_score': 0.706,\n",
       "  'precision_score': 0.752},\n",
       " 'second_random_forest': {'f1_score': 0.736,\n",
       "  'recall_score': 0.719,\n",
       "  'precision_score': 0.755},\n",
       " 'third_random_forest': {'f1_score': 0.723,\n",
       "  'recall_score': 0.685,\n",
       "  'precision_score': 0.764},\n",
       " 'fourth_random_forest': {'f1_score': 0.734,\n",
       "  'recall_score': 0.917,\n",
       "  'precision_score': 0.612},\n",
       " 'fifth_random_forest': {'f1_score': 0.727,\n",
       "  'recall_score': 0.694,\n",
       "  'precision_score': 0.764},\n",
       " 'first_bagged_model': {'f1_score': 0.736,\n",
       "  'recall_score': 0.723,\n",
       "  'precision_score': 0.749},\n",
       " 'second_bagged_model': {'f1_score': 0.746,\n",
       "  'recall_score': 0.867,\n",
       "  'precision_score': 0.654},\n",
       " 'first_ensemble_model': {'f1_score': 0.707,\n",
       "  'recall_score': 0.918,\n",
       "  'precision_score': 0.575},\n",
       " 'random_forest_w_smote': {'f1_score': 0.755,\n",
       "  'recall_score': 0.81,\n",
       "  'precision_score': 0.708},\n",
       " 'random_forest_w_smote2': {'f1_score': 0.761,\n",
       "  'recall_score': 0.818,\n",
       "  'precision_score': 0.712},\n",
       " 'first_vanilla_network': {'f1_score': 0.725,\n",
       "  'recall_score': 0.707,\n",
       "  'precision_score': 0.744},\n",
       " 'second_vanilla_network': {'f1_score': 0.731,\n",
       "  'recall_score': 0.885,\n",
       "  'precision_score': 0.623},\n",
       " 'vanilla_network_w_upsample': {'f1_score': 0.732,\n",
       "  'recall_score': 0.871,\n",
       "  'precision_score': 0.631},\n",
       " 'vanilla_network_w_upsample_and_downsample': {'f1_score': 0.734,\n",
       "  'recall_score': 0.834,\n",
       "  'precision_score': 0.656},\n",
       " 'second_bagged_model_different_split': {'f1_score': 0.725,\n",
       "  'recall_score': 0.781,\n",
       "  'precision_score': 0.676}}"
      ]
     },
     "execution_count": 675,
     "metadata": {},
     "output_type": "execute_result"
    }
   ],
   "source": [
    "metric_dictionary"
   ]
  },
  {
   "cell_type": "markdown",
   "metadata": {},
   "source": [
    "# Analyzing Results "
   ]
  },
  {
   "cell_type": "markdown",
   "metadata": {},
   "source": [
    "- So all of these models were analyzing the individual frames (1/200th of a second) in a random order (therefore, without surrounding context). Vowels in the real world appear as a 25-150 millisecond continuous collection of sounds. Therefore, the frames are somewhat unnatural in terms of making a singular prediction of vowel or not vowel. \n",
    "- Here, I'll analyze the predictions of my models to see if my models:\n",
    "    - make at least one correct prediction over the course of a vowel\n",
    "    - what are the tendencies of the incorrect predictions: are they sounds similar to vowels?\n",
    "- Since it will be near impossible to place the upsampled/downsampled predictions in the original order (as far as I am aware), I will work with the best model that does not upsample/downsample: the second bagged model"
   ]
  },
  {
   "cell_type": "markdown",
   "metadata": {},
   "source": [
    "## Rerunning the model without a shuffled test/train split"
   ]
  },
  {
   "cell_type": "code",
   "execution_count": 677,
   "metadata": {},
   "outputs": [],
   "source": [
    "#original test train split was done with this code\n",
    "X_train2, X_test2, y_train2, y_test2 = train_test_split(mfcc_df, vowel_indices_binary, test_size=0.33, random_state=1, shuffle=False)"
   ]
  },
  {
   "cell_type": "markdown",
   "metadata": {},
   "source": [
    "### Rerunning the model"
   ]
  },
  {
   "cell_type": "code",
   "execution_count": 679,
   "metadata": {},
   "outputs": [],
   "source": [
    "balanced_bagging_model2 = BalancedBaggingClassifier(n_estimators = 100, random_state=42, n_jobs=-1)\n",
    "balanced_bagging_model2.fit(X_train2, y_train2)\n",
    "balanced_bagging_model_predictions2 = balanced_bagging_model2.predict(X_test2)"
   ]
  },
  {
   "cell_type": "code",
   "execution_count": 688,
   "metadata": {},
   "outputs": [
    {
     "name": "stdout",
     "output_type": "stream",
     "text": [
      "      \n",
      "        The f1 score is 0.725. \n",
      "\n",
      "        The recall_score is 0.781. \n",
      "\n",
      "        The precision is 0.676. \n"
     ]
    }
   ],
   "source": [
    "metric_dictionary = find_metrics(y_test2, balanced_bagging_model_predictions2, metric_dictionary, 'second_bagged_model_different_split')"
   ]
  },
  {
   "cell_type": "markdown",
   "metadata": {},
   "source": [
    "## Bringing together the x_test2, y_test2 for the second bagged model"
   ]
  },
  {
   "cell_type": "code",
   "execution_count": 683,
   "metadata": {},
   "outputs": [],
   "source": [
    "original_df_last_third = X_test2.copy()"
   ]
  },
  {
   "cell_type": "code",
   "execution_count": 684,
   "metadata": {},
   "outputs": [],
   "source": [
    "original_df_last_third['actual_vowels'] = y_test2\n",
    "original_df_last_third['predicted_vowels'] = balanced_bagging_model_predictions2"
   ]
  },
  {
   "cell_type": "code",
   "execution_count": 307,
   "metadata": {
    "scrolled": true
   },
   "outputs": [
    {
     "data": {
      "text/html": [
       "<div>\n",
       "<style scoped>\n",
       "    .dataframe tbody tr th:only-of-type {\n",
       "        vertical-align: middle;\n",
       "    }\n",
       "\n",
       "    .dataframe tbody tr th {\n",
       "        vertical-align: top;\n",
       "    }\n",
       "\n",
       "    .dataframe thead th {\n",
       "        text-align: right;\n",
       "    }\n",
       "</style>\n",
       "<table border=\"1\" class=\"dataframe\">\n",
       "  <thead>\n",
       "    <tr style=\"text-align: right;\">\n",
       "      <th></th>\n",
       "      <th>MFCC_1</th>\n",
       "      <th>MFCC_2</th>\n",
       "      <th>MFCC_3</th>\n",
       "      <th>MFCC_4</th>\n",
       "      <th>MFCC_5</th>\n",
       "      <th>MFCC_6</th>\n",
       "      <th>MFCC_7</th>\n",
       "      <th>MFCC_8</th>\n",
       "      <th>MFCC_9</th>\n",
       "      <th>MFCC_10</th>\n",
       "      <th>MFCC_11</th>\n",
       "      <th>MFCC_12</th>\n",
       "      <th>MFCC_13</th>\n",
       "      <th>Percent_passing_hampel_filter</th>\n",
       "      <th>actual_vowels</th>\n",
       "      <th>predicted_vowels</th>\n",
       "    </tr>\n",
       "  </thead>\n",
       "  <tbody>\n",
       "    <tr>\n",
       "      <th>14139</th>\n",
       "      <td>-10.098527</td>\n",
       "      <td>4.932286</td>\n",
       "      <td>1.864990</td>\n",
       "      <td>0.316451</td>\n",
       "      <td>-0.312592</td>\n",
       "      <td>-0.995565</td>\n",
       "      <td>-1.099944</td>\n",
       "      <td>-0.379565</td>\n",
       "      <td>-1.390550</td>\n",
       "      <td>-1.055092</td>\n",
       "      <td>0.202184</td>\n",
       "      <td>-0.167304</td>\n",
       "      <td>0.749360</td>\n",
       "      <td>0.08</td>\n",
       "      <td>0</td>\n",
       "      <td>0</td>\n",
       "    </tr>\n",
       "    <tr>\n",
       "      <th>14140</th>\n",
       "      <td>-8.468687</td>\n",
       "      <td>12.740945</td>\n",
       "      <td>4.570114</td>\n",
       "      <td>0.603386</td>\n",
       "      <td>-2.683702</td>\n",
       "      <td>-3.259884</td>\n",
       "      <td>-2.459758</td>\n",
       "      <td>-1.270219</td>\n",
       "      <td>0.625708</td>\n",
       "      <td>-0.024474</td>\n",
       "      <td>0.125958</td>\n",
       "      <td>-0.629837</td>\n",
       "      <td>-0.060484</td>\n",
       "      <td>0.37</td>\n",
       "      <td>0</td>\n",
       "      <td>0</td>\n",
       "    </tr>\n",
       "  </tbody>\n",
       "</table>\n",
       "</div>"
      ],
      "text/plain": [
       "          MFCC_1     MFCC_2    MFCC_3    MFCC_4    MFCC_5    MFCC_6    MFCC_7  \\\n",
       "14139 -10.098527   4.932286  1.864990  0.316451 -0.312592 -0.995565 -1.099944   \n",
       "14140  -8.468687  12.740945  4.570114  0.603386 -2.683702 -3.259884 -2.459758   \n",
       "\n",
       "         MFCC_8    MFCC_9   MFCC_10   MFCC_11   MFCC_12   MFCC_13  \\\n",
       "14139 -0.379565 -1.390550 -1.055092  0.202184 -0.167304  0.749360   \n",
       "14140 -1.270219  0.625708 -0.024474  0.125958 -0.629837 -0.060484   \n",
       "\n",
       "       Percent_passing_hampel_filter  actual_vowels  predicted_vowels  \n",
       "14139                           0.08              0                 0  \n",
       "14140                           0.37              0                 0  "
      ]
     },
     "execution_count": 307,
     "metadata": {},
     "output_type": "execute_result"
    }
   ],
   "source": [
    "original_df_last_third.head(2)"
   ]
  },
  {
   "cell_type": "markdown",
   "metadata": {},
   "source": [
    "### How many vowels were predicted in each column?"
   ]
  },
  {
   "cell_type": "code",
   "execution_count": 227,
   "metadata": {},
   "outputs": [
    {
     "data": {
      "text/plain": [
       "1554"
      ]
     },
     "execution_count": 227,
     "metadata": {},
     "output_type": "execute_result"
    }
   ],
   "source": [
    "original_df_last_third['actual_vowels'].sum()"
   ]
  },
  {
   "cell_type": "code",
   "execution_count": 228,
   "metadata": {},
   "outputs": [
    {
     "data": {
      "text/plain": [
       "1796"
      ]
     },
     "execution_count": 228,
     "metadata": {},
     "output_type": "execute_result"
    }
   ],
   "source": [
    "original_df_last_third['predicted_vowels'].sum()"
   ]
  },
  {
   "cell_type": "code",
   "execution_count": 689,
   "metadata": {},
   "outputs": [
    {
     "data": {
      "text/html": [
       "<div>\n",
       "<style scoped>\n",
       "    .dataframe tbody tr th:only-of-type {\n",
       "        vertical-align: middle;\n",
       "    }\n",
       "\n",
       "    .dataframe tbody tr th {\n",
       "        vertical-align: top;\n",
       "    }\n",
       "\n",
       "    .dataframe thead th {\n",
       "        text-align: right;\n",
       "    }\n",
       "</style>\n",
       "<table border=\"1\" class=\"dataframe\">\n",
       "  <thead>\n",
       "    <tr style=\"text-align: right;\">\n",
       "      <th></th>\n",
       "      <th>Phone_Text</th>\n",
       "      <th>Phone_xmin</th>\n",
       "      <th>Phone_xmax</th>\n",
       "      <th>Word_Text</th>\n",
       "      <th>Word_xmin</th>\n",
       "      <th>Word_xmax</th>\n",
       "      <th>Vowel</th>\n",
       "      <th>Speaker</th>\n",
       "      <th>Phone_Duration</th>\n",
       "    </tr>\n",
       "  </thead>\n",
       "  <tbody>\n",
       "    <tr>\n",
       "      <th>0</th>\n",
       "      <td>NaN</td>\n",
       "      <td>0.0</td>\n",
       "      <td>2.000000</td>\n",
       "      <td>NaN</td>\n",
       "      <td>0.0</td>\n",
       "      <td>2.000000</td>\n",
       "      <td>0</td>\n",
       "      <td>6</td>\n",
       "      <td>2.000000</td>\n",
       "    </tr>\n",
       "    <tr>\n",
       "      <th>1</th>\n",
       "      <td>!SIL</td>\n",
       "      <td>2.0</td>\n",
       "      <td>4.589832</td>\n",
       "      <td>!SIL</td>\n",
       "      <td>2.0</td>\n",
       "      <td>4.361218</td>\n",
       "      <td>0</td>\n",
       "      <td>6</td>\n",
       "      <td>2.589832</td>\n",
       "    </tr>\n",
       "  </tbody>\n",
       "</table>\n",
       "</div>"
      ],
      "text/plain": [
       "  Phone_Text  Phone_xmin  Phone_xmax Word_Text  Word_xmin  Word_xmax  Vowel  \\\n",
       "0        NaN         0.0    2.000000       NaN        0.0   2.000000      0   \n",
       "1       !SIL         2.0    4.589832      !SIL        2.0   4.361218      0   \n",
       "\n",
       "   Speaker  Phone_Duration  \n",
       "0        6        2.000000  \n",
       "1        6        2.589832  "
      ]
     },
     "execution_count": 689,
     "metadata": {},
     "output_type": "execute_result"
    }
   ],
   "source": [
    "df.head(2)"
   ]
  },
  {
   "cell_type": "code",
   "execution_count": 238,
   "metadata": {},
   "outputs": [
    {
     "data": {
      "text/plain": [
       "353.4948475"
      ]
     },
     "execution_count": 238,
     "metadata": {},
     "output_type": "execute_result"
    }
   ],
   "source": [
    "# first step: finding which section of the df is where the test data starts\n",
    "# length of file * 0.67 will be beginning time point for test section\n",
    "beginning_time_point_test = (len(long_audio) / 8000) * 0.67\n",
    "beginning_time_point_test"
   ]
  },
  {
   "cell_type": "code",
   "execution_count": 514,
   "metadata": {},
   "outputs": [],
   "source": [
    "test_df = df[df['Phone_xmin'] > beginning_time_point_test].copy()"
   ]
  },
  {
   "cell_type": "code",
   "execution_count": 515,
   "metadata": {},
   "outputs": [
    {
     "data": {
      "text/html": [
       "<div>\n",
       "<style scoped>\n",
       "    .dataframe tbody tr th:only-of-type {\n",
       "        vertical-align: middle;\n",
       "    }\n",
       "\n",
       "    .dataframe tbody tr th {\n",
       "        vertical-align: top;\n",
       "    }\n",
       "\n",
       "    .dataframe thead th {\n",
       "        text-align: right;\n",
       "    }\n",
       "</style>\n",
       "<table border=\"1\" class=\"dataframe\">\n",
       "  <thead>\n",
       "    <tr style=\"text-align: right;\">\n",
       "      <th></th>\n",
       "      <th>Phone_Text</th>\n",
       "      <th>Phone_xmin</th>\n",
       "      <th>Phone_xmax</th>\n",
       "      <th>Word_Text</th>\n",
       "      <th>Word_xmin</th>\n",
       "      <th>Word_xmax</th>\n",
       "      <th>Vowel</th>\n",
       "      <th>Speaker</th>\n",
       "      <th>Phone_Duration</th>\n",
       "    </tr>\n",
       "  </thead>\n",
       "  <tbody>\n",
       "    <tr>\n",
       "      <th>1394</th>\n",
       "      <td>AH</td>\n",
       "      <td>353.988485</td>\n",
       "      <td>354.071</td>\n",
       "      <td>!SIL</td>\n",
       "      <td>343.027075</td>\n",
       "      <td>353.951077</td>\n",
       "      <td>1</td>\n",
       "      <td>6</td>\n",
       "      <td>0.082515</td>\n",
       "    </tr>\n",
       "    <tr>\n",
       "      <th>1395</th>\n",
       "      <td>P</td>\n",
       "      <td>354.071000</td>\n",
       "      <td>354.211</td>\n",
       "      <td>!SIL</td>\n",
       "      <td>343.027075</td>\n",
       "      <td>353.951077</td>\n",
       "      <td>0</td>\n",
       "      <td>6</td>\n",
       "      <td>0.140000</td>\n",
       "    </tr>\n",
       "  </tbody>\n",
       "</table>\n",
       "</div>"
      ],
      "text/plain": [
       "     Phone_Text  Phone_xmin  Phone_xmax Word_Text   Word_xmin   Word_xmax  \\\n",
       "1394         AH  353.988485     354.071      !SIL  343.027075  353.951077   \n",
       "1395          P  354.071000     354.211      !SIL  343.027075  353.951077   \n",
       "\n",
       "      Vowel  Speaker  Phone_Duration  \n",
       "1394      1        6        0.082515  \n",
       "1395      0        6        0.140000  "
      ]
     },
     "execution_count": 515,
     "metadata": {},
     "output_type": "execute_result"
    }
   ],
   "source": [
    "test_df.head(2)"
   ]
  },
  {
   "cell_type": "code",
   "execution_count": 516,
   "metadata": {},
   "outputs": [
    {
     "data": {
      "text/plain": [
       "174.1094025"
      ]
     },
     "execution_count": 516,
     "metadata": {},
     "output_type": "execute_result"
    }
   ],
   "source": [
    "# test_df covers 174 seconds\n",
    "(len(long_audio) / 8000) - beginning_time_point_test"
   ]
  },
  {
   "cell_type": "markdown",
   "metadata": {},
   "source": [
    "#### Finding correct vowel chunks"
   ]
  },
  {
   "cell_type": "code",
   "execution_count": 517,
   "metadata": {},
   "outputs": [
    {
     "data": {
      "text/plain": [
       "353.98848519748657"
      ]
     },
     "execution_count": 517,
     "metadata": {},
     "output_type": "execute_result"
    }
   ],
   "source": [
    "phone_xmin_array = np.array(test_df['Phone_xmin'])\n",
    "first_full_phone_in_test_df = phone_xmin_array.min()\n",
    "first_full_phone_in_test_df"
   ]
  },
  {
   "cell_type": "code",
   "execution_count": 518,
   "metadata": {},
   "outputs": [],
   "source": [
    "first_full_phone_remainder = first_full_phone_in_test_df % 0.025"
   ]
  },
  {
   "cell_type": "code",
   "execution_count": 519,
   "metadata": {},
   "outputs": [
    {
     "data": {
      "text/plain": [
       "0.013485197486548618"
      ]
     },
     "execution_count": 519,
     "metadata": {},
     "output_type": "execute_result"
    }
   ],
   "source": [
    "first_full_phone_remainder"
   ]
  },
  {
   "cell_type": "code",
   "execution_count": 520,
   "metadata": {},
   "outputs": [
    {
     "data": {
      "text/plain": [
       "353.975"
      ]
     },
     "execution_count": 520,
     "metadata": {},
     "output_type": "execute_result"
    }
   ],
   "source": [
    "first_full_phone_chunk = first_full_phone_in_test_df - first_full_phone_remainder\n",
    "first_full_phone_chunk"
   ]
  },
  {
   "cell_type": "code",
   "execution_count": 521,
   "metadata": {},
   "outputs": [
    {
     "data": {
      "text/plain": [
       "14159.0"
      ]
     },
     "execution_count": 521,
     "metadata": {},
     "output_type": "execute_result"
    }
   ],
   "source": [
    "# I should get all of the chunks after 14159\n",
    "first_full_phone_chunk / 0.025"
   ]
  },
  {
   "cell_type": "code",
   "execution_count": 522,
   "metadata": {},
   "outputs": [],
   "source": [
    "# mfcc covers 0.025 seconds of audio \n",
    "beg_chunk_remainder = beginning_time_point_test % 0.025"
   ]
  },
  {
   "cell_type": "code",
   "execution_count": 523,
   "metadata": {},
   "outputs": [
    {
     "data": {
      "text/plain": [
       "353.475"
      ]
     },
     "execution_count": 523,
     "metadata": {},
     "output_type": "execute_result"
    }
   ],
   "source": [
    "start_interval_of_test_df = beginning_time_point_test - beg_chunk_remainder\n",
    "start_interval_of_test_df"
   ]
  },
  {
   "cell_type": "code",
   "execution_count": 524,
   "metadata": {},
   "outputs": [
    {
     "data": {
      "text/plain": [
       "14139.0"
      ]
     },
     "execution_count": 524,
     "metadata": {},
     "output_type": "execute_result"
    }
   ],
   "source": [
    "start_interval_of_test_df / 0.025"
   ]
  },
  {
   "cell_type": "markdown",
   "metadata": {},
   "source": [
    "#### Getting total number of possible vowels to be predicted in each chunk"
   ]
  },
  {
   "cell_type": "code",
   "execution_count": 525,
   "metadata": {},
   "outputs": [],
   "source": [
    "test_df['Total_frames_in_phone'] = test_df['Phone_Duration'] * 40"
   ]
  },
  {
   "cell_type": "code",
   "execution_count": 526,
   "metadata": {},
   "outputs": [
    {
     "data": {
      "text/html": [
       "<div>\n",
       "<style scoped>\n",
       "    .dataframe tbody tr th:only-of-type {\n",
       "        vertical-align: middle;\n",
       "    }\n",
       "\n",
       "    .dataframe tbody tr th {\n",
       "        vertical-align: top;\n",
       "    }\n",
       "\n",
       "    .dataframe thead th {\n",
       "        text-align: right;\n",
       "    }\n",
       "</style>\n",
       "<table border=\"1\" class=\"dataframe\">\n",
       "  <thead>\n",
       "    <tr style=\"text-align: right;\">\n",
       "      <th></th>\n",
       "      <th>Phone_Text</th>\n",
       "      <th>Phone_xmin</th>\n",
       "      <th>Phone_xmax</th>\n",
       "      <th>Word_Text</th>\n",
       "      <th>Word_xmin</th>\n",
       "      <th>Word_xmax</th>\n",
       "      <th>Vowel</th>\n",
       "      <th>Speaker</th>\n",
       "      <th>Phone_Duration</th>\n",
       "      <th>Total_frames_in_phone</th>\n",
       "    </tr>\n",
       "  </thead>\n",
       "  <tbody>\n",
       "    <tr>\n",
       "      <th>3414</th>\n",
       "      <td>EY</td>\n",
       "      <td>520.726125</td>\n",
       "      <td>520.886125</td>\n",
       "      <td>!SIL</td>\n",
       "      <td>518.455909</td>\n",
       "      <td>520.326117</td>\n",
       "      <td>1</td>\n",
       "      <td>2</td>\n",
       "      <td>0.160000</td>\n",
       "      <td>6.400000</td>\n",
       "    </tr>\n",
       "    <tr>\n",
       "      <th>3415</th>\n",
       "      <td>lg</td>\n",
       "      <td>520.886125</td>\n",
       "      <td>521.407062</td>\n",
       "      <td>&lt;LG&gt;</td>\n",
       "      <td>520.886125</td>\n",
       "      <td>521.407062</td>\n",
       "      <td>0</td>\n",
       "      <td>2</td>\n",
       "      <td>0.520937</td>\n",
       "      <td>20.837500</td>\n",
       "    </tr>\n",
       "    <tr>\n",
       "      <th>3416</th>\n",
       "      <td>!SIL</td>\n",
       "      <td>521.407062</td>\n",
       "      <td>525.604172</td>\n",
       "      <td>!SIL</td>\n",
       "      <td>521.407062</td>\n",
       "      <td>525.604172</td>\n",
       "      <td>0</td>\n",
       "      <td>2</td>\n",
       "      <td>4.197110</td>\n",
       "      <td>167.884394</td>\n",
       "    </tr>\n",
       "    <tr>\n",
       "      <th>3417</th>\n",
       "      <td>!SIL</td>\n",
       "      <td>525.604172</td>\n",
       "      <td>527.604172</td>\n",
       "      <td>!SIL</td>\n",
       "      <td>525.604172</td>\n",
       "      <td>527.604172</td>\n",
       "      <td>0</td>\n",
       "      <td>2</td>\n",
       "      <td>2.000000</td>\n",
       "      <td>80.000000</td>\n",
       "    </tr>\n",
       "  </tbody>\n",
       "</table>\n",
       "</div>"
      ],
      "text/plain": [
       "     Phone_Text  Phone_xmin  Phone_xmax Word_Text   Word_xmin   Word_xmax  \\\n",
       "3414         EY  520.726125  520.886125      !SIL  518.455909  520.326117   \n",
       "3415         lg  520.886125  521.407062      <LG>  520.886125  521.407062   \n",
       "3416       !SIL  521.407062  525.604172      !SIL  521.407062  525.604172   \n",
       "3417       !SIL  525.604172  527.604172      !SIL  525.604172  527.604172   \n",
       "\n",
       "      Vowel  Speaker  Phone_Duration  Total_frames_in_phone  \n",
       "3414      1        2        0.160000               6.400000  \n",
       "3415      0        2        0.520937              20.837500  \n",
       "3416      0        2        4.197110             167.884394  \n",
       "3417      0        2        2.000000              80.000000  "
      ]
     },
     "execution_count": 526,
     "metadata": {},
     "output_type": "execute_result"
    }
   ],
   "source": [
    "test_df.tail(4)"
   ]
  },
  {
   "cell_type": "code",
   "execution_count": 527,
   "metadata": {},
   "outputs": [],
   "source": [
    "test_df.reset_index(inplace=True)"
   ]
  },
  {
   "cell_type": "code",
   "execution_count": 528,
   "metadata": {},
   "outputs": [
    {
     "data": {
      "text/plain": [
       "0.6709100618503357"
      ]
     },
     "execution_count": 528,
     "metadata": {},
     "output_type": "execute_result"
    }
   ],
   "source": [
    "(first_full_phone_chunk * 8000) / len(long_audio) "
   ]
  },
  {
   "cell_type": "code",
   "execution_count": 529,
   "metadata": {},
   "outputs": [
    {
     "data": {
      "text/plain": [
       "70795.0"
      ]
     },
     "execution_count": 529,
     "metadata": {},
     "output_type": "execute_result"
    }
   ],
   "source": [
    "(first_full_phone_chunk * 8000) * 0.025"
   ]
  },
  {
   "cell_type": "code",
   "execution_count": 530,
   "metadata": {},
   "outputs": [
    {
     "data": {
      "text/plain": [
       "353.975"
      ]
     },
     "execution_count": 530,
     "metadata": {},
     "output_type": "execute_result"
    }
   ],
   "source": [
    "first_full_phone_chunk"
   ]
  },
  {
   "cell_type": "markdown",
   "metadata": {},
   "source": [
    "Let's recap. I want to see how many predicted vowels are actually in each vowel\n",
    "- so I should probably keep the test_df as is, and then chunk the predictions into the time intervals of the phones\n"
   ]
  },
  {
   "cell_type": "code",
   "execution_count": 686,
   "metadata": {},
   "outputs": [],
   "source": [
    "return_list = []\n",
    "split_point = int(len(mfcc_df) * 0.67)\n",
    "y_test2_indices = [((idx + split_point) * 0.025) for idx, x in enumerate(y_test2)]\n",
    "predictions_in_seconds = np.array(y_test2_indices)"
   ]
  },
  {
   "cell_type": "code",
   "execution_count": 532,
   "metadata": {},
   "outputs": [
    {
     "data": {
      "text/plain": [
       "array([353.475, 353.5  , 353.525, ..., 527.5  , 527.525, 527.55 ])"
      ]
     },
     "execution_count": 532,
     "metadata": {},
     "output_type": "execute_result"
    }
   ],
   "source": [
    "predictions_in_seconds"
   ]
  },
  {
   "cell_type": "code",
   "execution_count": 687,
   "metadata": {},
   "outputs": [],
   "source": [
    "predictions_and_time_in_seconds = list(zip(y_test2, y_test2_indices))"
   ]
  },
  {
   "cell_type": "code",
   "execution_count": 534,
   "metadata": {},
   "outputs": [
    {
     "data": {
      "text/plain": [
       "[(0, 353.475),\n",
       " (0, 353.5),\n",
       " (0, 353.52500000000003),\n",
       " (0, 353.55),\n",
       " (0, 353.57500000000005)]"
      ]
     },
     "execution_count": 534,
     "metadata": {},
     "output_type": "execute_result"
    }
   ],
   "source": [
    "predictions_and_time_in_seconds[0:5]"
   ]
  },
  {
   "cell_type": "code",
   "execution_count": 535,
   "metadata": {},
   "outputs": [
    {
     "data": {
      "text/plain": [
       "353.475"
      ]
     },
     "execution_count": 535,
     "metadata": {},
     "output_type": "execute_result"
    }
   ],
   "source": [
    "predictions_and_time_in_seconds[0][1]"
   ]
  },
  {
   "cell_type": "code",
   "execution_count": 536,
   "metadata": {},
   "outputs": [],
   "source": [
    "pos_prediction_list = []\n",
    "for x in range(test_df.shape[0]):\n",
    "    time_range = [test_df['Phone_xmin'][x], test_df['Phone_xmax'][x]]\n",
    "    total_pos_predictions = 0\n",
    "    for y in predictions_and_time_in_seconds:\n",
    "        if time_range[0] <= y[1] < time_range[1]:\n",
    "            if y[0] == 1:\n",
    "                total_pos_predictions += 1\n",
    "    pos_prediction_list.append(total_pos_predictions)"
   ]
  },
  {
   "cell_type": "code",
   "execution_count": 537,
   "metadata": {},
   "outputs": [
    {
     "data": {
      "text/plain": [
       "1031"
      ]
     },
     "execution_count": 537,
     "metadata": {},
     "output_type": "execute_result"
    }
   ],
   "source": [
    "len(pos_prediction_list)"
   ]
  },
  {
   "cell_type": "code",
   "execution_count": 538,
   "metadata": {},
   "outputs": [],
   "source": [
    "test_df['positive_predictions'] = pos_prediction_list"
   ]
  },
  {
   "cell_type": "code",
   "execution_count": 539,
   "metadata": {},
   "outputs": [
    {
     "data": {
      "text/html": [
       "<div>\n",
       "<style scoped>\n",
       "    .dataframe tbody tr th:only-of-type {\n",
       "        vertical-align: middle;\n",
       "    }\n",
       "\n",
       "    .dataframe tbody tr th {\n",
       "        vertical-align: top;\n",
       "    }\n",
       "\n",
       "    .dataframe thead th {\n",
       "        text-align: right;\n",
       "    }\n",
       "</style>\n",
       "<table border=\"1\" class=\"dataframe\">\n",
       "  <thead>\n",
       "    <tr style=\"text-align: right;\">\n",
       "      <th></th>\n",
       "      <th>index</th>\n",
       "      <th>Phone_Text</th>\n",
       "      <th>Phone_xmin</th>\n",
       "      <th>Phone_xmax</th>\n",
       "      <th>Word_Text</th>\n",
       "      <th>Word_xmin</th>\n",
       "      <th>Word_xmax</th>\n",
       "      <th>Vowel</th>\n",
       "      <th>Speaker</th>\n",
       "      <th>Phone_Duration</th>\n",
       "      <th>Total_frames_in_phone</th>\n",
       "      <th>positive_predictions</th>\n",
       "    </tr>\n",
       "  </thead>\n",
       "  <tbody>\n",
       "    <tr>\n",
       "      <th>0</th>\n",
       "      <td>1394</td>\n",
       "      <td>AH</td>\n",
       "      <td>353.988485</td>\n",
       "      <td>354.071</td>\n",
       "      <td>!SIL</td>\n",
       "      <td>343.027075</td>\n",
       "      <td>353.951077</td>\n",
       "      <td>1</td>\n",
       "      <td>6</td>\n",
       "      <td>0.082515</td>\n",
       "      <td>3.300592</td>\n",
       "      <td>3</td>\n",
       "    </tr>\n",
       "    <tr>\n",
       "      <th>1</th>\n",
       "      <td>1395</td>\n",
       "      <td>P</td>\n",
       "      <td>354.071000</td>\n",
       "      <td>354.211</td>\n",
       "      <td>!SIL</td>\n",
       "      <td>343.027075</td>\n",
       "      <td>353.951077</td>\n",
       "      <td>0</td>\n",
       "      <td>6</td>\n",
       "      <td>0.140000</td>\n",
       "      <td>5.600000</td>\n",
       "      <td>1</td>\n",
       "    </tr>\n",
       "  </tbody>\n",
       "</table>\n",
       "</div>"
      ],
      "text/plain": [
       "   index Phone_Text  Phone_xmin  Phone_xmax Word_Text   Word_xmin   Word_xmax  \\\n",
       "0   1394         AH  353.988485     354.071      !SIL  343.027075  353.951077   \n",
       "1   1395          P  354.071000     354.211      !SIL  343.027075  353.951077   \n",
       "\n",
       "   Vowel  Speaker  Phone_Duration  Total_frames_in_phone  positive_predictions  \n",
       "0      1        6        0.082515               3.300592                     3  \n",
       "1      0        6        0.140000               5.600000                     1  "
      ]
     },
     "execution_count": 539,
     "metadata": {},
     "output_type": "execute_result"
    }
   ],
   "source": [
    "test_df.head(2)"
   ]
  },
  {
   "cell_type": "code",
   "execution_count": 540,
   "metadata": {},
   "outputs": [],
   "source": [
    "# rounding the total possible frames because that's how many were presented to my model\n",
    "test_df['percent_positive_predictions'] = (test_df['positive_predictions'] / (round(test_df['Total_frames_in_phone']))) * 100"
   ]
  },
  {
   "cell_type": "code",
   "execution_count": 548,
   "metadata": {},
   "outputs": [
    {
     "data": {
      "text/html": [
       "<div>\n",
       "<style scoped>\n",
       "    .dataframe tbody tr th:only-of-type {\n",
       "        vertical-align: middle;\n",
       "    }\n",
       "\n",
       "    .dataframe tbody tr th {\n",
       "        vertical-align: top;\n",
       "    }\n",
       "\n",
       "    .dataframe thead th {\n",
       "        text-align: right;\n",
       "    }\n",
       "</style>\n",
       "<table border=\"1\" class=\"dataframe\">\n",
       "  <thead>\n",
       "    <tr style=\"text-align: right;\">\n",
       "      <th></th>\n",
       "      <th>index</th>\n",
       "      <th>Phone_Text</th>\n",
       "      <th>Phone_xmin</th>\n",
       "      <th>Phone_xmax</th>\n",
       "      <th>Word_Text</th>\n",
       "      <th>Word_xmin</th>\n",
       "      <th>Word_xmax</th>\n",
       "      <th>Vowel</th>\n",
       "      <th>Speaker</th>\n",
       "      <th>Phone_Duration</th>\n",
       "      <th>Total_frames_in_phone</th>\n",
       "      <th>positive_predictions</th>\n",
       "      <th>percent_positive_predictions</th>\n",
       "    </tr>\n",
       "  </thead>\n",
       "  <tbody>\n",
       "    <tr>\n",
       "      <th>0</th>\n",
       "      <td>1394</td>\n",
       "      <td>AH</td>\n",
       "      <td>353.988485</td>\n",
       "      <td>354.071</td>\n",
       "      <td>!SIL</td>\n",
       "      <td>343.027075</td>\n",
       "      <td>353.951077</td>\n",
       "      <td>1</td>\n",
       "      <td>6</td>\n",
       "      <td>0.082515</td>\n",
       "      <td>3.300592</td>\n",
       "      <td>3</td>\n",
       "      <td>100.000000</td>\n",
       "    </tr>\n",
       "    <tr>\n",
       "      <th>1</th>\n",
       "      <td>1395</td>\n",
       "      <td>P</td>\n",
       "      <td>354.071000</td>\n",
       "      <td>354.211</td>\n",
       "      <td>!SIL</td>\n",
       "      <td>343.027075</td>\n",
       "      <td>353.951077</td>\n",
       "      <td>0</td>\n",
       "      <td>6</td>\n",
       "      <td>0.140000</td>\n",
       "      <td>5.600000</td>\n",
       "      <td>1</td>\n",
       "      <td>16.666667</td>\n",
       "    </tr>\n",
       "    <tr>\n",
       "      <th>2</th>\n",
       "      <td>1396</td>\n",
       "      <td>AXR</td>\n",
       "      <td>354.211000</td>\n",
       "      <td>354.271</td>\n",
       "      <td>!SIL</td>\n",
       "      <td>343.027075</td>\n",
       "      <td>353.951077</td>\n",
       "      <td>1</td>\n",
       "      <td>6</td>\n",
       "      <td>0.060000</td>\n",
       "      <td>2.400000</td>\n",
       "      <td>2</td>\n",
       "      <td>100.000000</td>\n",
       "    </tr>\n",
       "  </tbody>\n",
       "</table>\n",
       "</div>"
      ],
      "text/plain": [
       "   index Phone_Text  Phone_xmin  Phone_xmax Word_Text   Word_xmin   Word_xmax  \\\n",
       "0   1394         AH  353.988485     354.071      !SIL  343.027075  353.951077   \n",
       "1   1395          P  354.071000     354.211      !SIL  343.027075  353.951077   \n",
       "2   1396        AXR  354.211000     354.271      !SIL  343.027075  353.951077   \n",
       "\n",
       "   Vowel  Speaker  Phone_Duration  Total_frames_in_phone  \\\n",
       "0      1        6        0.082515               3.300592   \n",
       "1      0        6        0.140000               5.600000   \n",
       "2      1        6        0.060000               2.400000   \n",
       "\n",
       "   positive_predictions  percent_positive_predictions  \n",
       "0                     3                    100.000000  \n",
       "1                     1                     16.666667  \n",
       "2                     2                    100.000000  "
      ]
     },
     "execution_count": 548,
     "metadata": {},
     "output_type": "execute_result"
    }
   ],
   "source": [
    "test_df.head(3)"
   ]
  },
  {
   "cell_type": "markdown",
   "metadata": {},
   "source": [
    "#### Understanding predictions and whether vowel was actually present"
   ]
  },
  {
   "cell_type": "code",
   "execution_count": 542,
   "metadata": {},
   "outputs": [],
   "source": [
    "true_vowel = test_df[test_df['Vowel'] == 1]"
   ]
  },
  {
   "cell_type": "code",
   "execution_count": 543,
   "metadata": {},
   "outputs": [
    {
     "data": {
      "text/plain": [
       "84.31560345615311"
      ]
     },
     "execution_count": 543,
     "metadata": {},
     "output_type": "execute_result"
    }
   ],
   "source": [
    "true_vowel['percent_positive_predictions'].mean()"
   ]
  },
  {
   "cell_type": "code",
   "execution_count": 544,
   "metadata": {},
   "outputs": [
    {
     "data": {
      "text/plain": [
       "<matplotlib.axes._subplots.AxesSubplot at 0x1d24a85da0>"
      ]
     },
     "execution_count": 544,
     "metadata": {},
     "output_type": "execute_result"
    },
    {
     "data": {
      "image/png": "[encoded data removed]",
      "text/plain": [
       "<Figure size 432x288 with 1 Axes>"
      ]
     },
     "metadata": {
      "needs_background": "light"
     },
     "output_type": "display_data"
    }
   ],
   "source": [
    "sns.kdeplot(true_vowel['percent_positive_predictions'])"
   ]
  },
  {
   "cell_type": "code",
   "execution_count": 545,
   "metadata": {},
   "outputs": [],
   "source": [
    "not_true_vowel = test_df[test_df['Vowel'] == 0]"
   ]
  },
  {
   "cell_type": "code",
   "execution_count": 546,
   "metadata": {},
   "outputs": [
    {
     "data": {
      "text/plain": [
       "18.27575848850993"
      ]
     },
     "execution_count": 546,
     "metadata": {},
     "output_type": "execute_result"
    }
   ],
   "source": [
    "not_true_vowel['percent_positive_predictions'].mean()"
   ]
  },
  {
   "cell_type": "code",
   "execution_count": 547,
   "metadata": {},
   "outputs": [
    {
     "data": {
      "text/plain": [
       "<matplotlib.axes._subplots.AxesSubplot at 0x1d24cb1dd8>"
      ]
     },
     "execution_count": 547,
     "metadata": {},
     "output_type": "execute_result"
    },
    {
     "data": {
      "image/png": "[encoded data removed]",
      "text/plain": [
       "<Figure size 432x288 with 1 Axes>"
      ]
     },
     "metadata": {
      "needs_background": "light"
     },
     "output_type": "display_data"
    }
   ],
   "source": [
    "sns.kdeplot(not_true_vowel['percent_positive_predictions'])"
   ]
  },
  {
   "cell_type": "markdown",
   "metadata": {},
   "source": [
    "### Did speaker have an effect on the predictions?"
   ]
  },
  {
   "cell_type": "code",
   "execution_count": 549,
   "metadata": {},
   "outputs": [
    {
     "data": {
      "text/plain": [
       "Speaker\n",
       "2    81.378064\n",
       "6    85.820789\n",
       "Name: percent_positive_predictions, dtype: float64"
      ]
     },
     "execution_count": 549,
     "metadata": {},
     "output_type": "execute_result"
    }
   ],
   "source": [
    "true_vowel.groupby(['Speaker']).percent_positive_predictions.mean()"
   ]
  },
  {
   "cell_type": "code",
   "execution_count": 550,
   "metadata": {},
   "outputs": [
    {
     "data": {
      "text/plain": [
       "Speaker\n",
       "2    19.379577\n",
       "6    17.648352\n",
       "Name: percent_positive_predictions, dtype: float64"
      ]
     },
     "execution_count": 550,
     "metadata": {},
     "output_type": "execute_result"
    }
   ],
   "source": [
    "not_true_vowel.groupby(['Speaker']).percent_positive_predictions.mean()"
   ]
  },
  {
   "cell_type": "markdown",
   "metadata": {},
   "source": [
    "Looks to be about the same for each (female) speaker. Perhaps slightly better for speaker 6 than speaker 2"
   ]
  },
  {
   "cell_type": "markdown",
   "metadata": {},
   "source": [
    "## Conclusion after post-hoc analysis"
   ]
  },
  {
   "cell_type": "markdown",
   "metadata": {},
   "source": [
    "This bagged model did pretty well at **not** selecting vowels, but was not very good at selecting all of the frames of the actual vowels. On average, it selected only 84% of the actual vowel frames as vowels, while selecting 18% of non-vowels as vowels. However, it was great to see that there is a clear difference between vowels and non-vowels in the two cases. If it was possible to chunk the predictions into clusters, we could significantly improve the model. \n",
    "- By having a pre-segmented data set, the model could be expected to do quite well."
   ]
  }
 ],
 "metadata": {
  "kernelspec": {
   "display_name": "Python [conda env:learn-env] *",
   "language": "python",
   "name": "conda-env-learn-env-py"
  },
  "language_info": {
   "codemirror_mode": {
    "name": "ipython",
    "version": 3
   },
   "file_extension": ".py",
   "mimetype": "text/x-python",
   "name": "python",
   "nbconvert_exporter": "python",
   "pygments_lexer": "ipython3",
   "version": "3.6.9"
  },
  "toc": {
   "base_numbering": 1,
   "nav_menu": {},
   "number_sections": true,
   "sideBar": true,
   "skip_h1_title": false,
   "title_cell": "Table of Contents",
   "title_sidebar": "Contents",
   "toc_cell": false,
   "toc_position": {
    "height": "calc(100% - 180px)",
    "left": "10px",
    "top": "150px",
    "width": "314px"
   },
   "toc_section_display": true,
   "toc_window_display": true
  },
  "varInspector": {
   "cols": {
    "lenName": 16,
    "lenType": 16,
    "lenVar": 40
   },
   "kernels_config": {
    "python": {
     "delete_cmd_postfix": "",
     "delete_cmd_prefix": "del ",
     "library": "var_list.py",
     "varRefreshCmd": "print(var_dic_list())"
    },
    "r": {
     "delete_cmd_postfix": ") ",
     "delete_cmd_prefix": "rm(",
     "library": "var_list.r",
     "varRefreshCmd": "cat(var_dic_list()) "
    }
   },
   "types_to_exclude": [
    "module",
    "function",
    "builtin_function_or_method",
    "instance",
    "_Feature"
   ],
   "window_display": false
  }
 },
 "nbformat": 4,
 "nbformat_minor": 2
}
