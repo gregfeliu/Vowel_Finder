{
 "cells": [
  {
   "cell_type": "markdown",
   "metadata": {},
   "source": [
    "# Splitting Wav Files By Channel"
   ]
  },
  {
   "cell_type": "markdown",
   "metadata": {},
   "source": [
    "## Imports"
   ]
  },
  {
   "cell_type": "code",
   "execution_count": 2,
   "metadata": {},
   "outputs": [],
   "source": [
    "from scipy.io import wavfile\n",
    "import re\n",
    "import os\n",
    "import pandas as pd\n",
    "import textgrids\n",
    "import glob"
   ]
  },
  {
   "cell_type": "markdown",
   "metadata": {},
   "source": [
    "# Wave Files "
   ]
  },
  {
   "cell_type": "markdown",
   "metadata": {},
   "source": [
    "## Get the wav files "
   ]
  },
  {
   "cell_type": "code",
   "execution_count": 3,
   "metadata": {
    "code_folding": []
   },
   "outputs": [],
   "source": [
    "def get_wav_files():\n",
    "    cwd = os.getcwd()\n",
    "    correct_folder = cwd + '/original_en_diapix_data'\n",
    "    return glob.glob(correct_folder + \"/*.wav\")"
   ]
  },
  {
   "cell_type": "code",
   "execution_count": 204,
   "metadata": {},
   "outputs": [],
   "source": [
    "my_wav_files = get_wav_files()"
   ]
  },
  {
   "cell_type": "markdown",
   "metadata": {},
   "source": [
    "## Get Speaker Names"
   ]
  },
  {
   "cell_type": "code",
   "execution_count": 4,
   "metadata": {
    "code_folding": []
   },
   "outputs": [],
   "source": [
    "def get_file_names(file_name):\n",
    "    a = re.findall(r\"(ENF?_\\d\\d)\", file_name)\n",
    "    channel1 = a[0]\n",
    "    if a[1] != a[0]:\n",
    "        channel2 = a[1]\n",
    "    return channel1, channel2"
   ]
  },
  {
   "cell_type": "markdown",
   "metadata": {},
   "source": [
    "## Move wavfile to new directory"
   ]
  },
  {
   "cell_type": "code",
   "execution_count": 5,
   "metadata": {
    "code_folding": []
   },
   "outputs": [],
   "source": [
    "def create_directory_move_file(file_to_be_moved, subdirectory_name = \"subdirectory_name\"):\n",
    "    cwd = os.getcwd()\n",
    "    os.mkdir(subdirectory_name)\n",
    "    for item in file_to_be_moved:\n",
    "        os.replace(cwd + '/' + item, cwd + '/' + subdirectory_name + '/' + item)"
   ]
  },
  {
   "cell_type": "markdown",
   "metadata": {},
   "source": [
    "## split and save the files to correct folder"
   ]
  },
  {
   "cell_type": "code",
   "execution_count": 6,
   "metadata": {
    "code_folding": []
   },
   "outputs": [],
   "source": [
    "def split_save_wav(wav_file_list):\n",
    "    for item in wav_file_list:\n",
    "        fs, data = wavfile.read(item)\n",
    "        channel1, channel2 = get_file_names(item)\n",
    "        wavfile.write(channel1, fs, data[:, 0])   # saving first column which corresponds to channel 1\n",
    "        wavfile.write(channel2, fs, data[:, 1])   # saving second column which corresponds to channel 2\n",
    "        os.replace(cwd + '/' + channel1, cwd + '/' + \"split_wav_files_folder\" + '/' + channel1)\n",
    "        os.replace(cwd + '/' + channel2, cwd + '/' + \"split_wav_files_folder\" + '/' + channel2)"
   ]
  },
  {
   "cell_type": "code",
   "execution_count": 211,
   "metadata": {},
   "outputs": [],
   "source": [
    "split_save_wav(my_wav_files)"
   ]
  },
  {
   "cell_type": "markdown",
   "metadata": {},
   "source": [
    "# Textgrids"
   ]
  },
  {
   "cell_type": "markdown",
   "metadata": {},
   "source": [
    "## Function to get textgrids "
   ]
  },
  {
   "cell_type": "code",
   "execution_count": 7,
   "metadata": {
    "code_folding": []
   },
   "outputs": [],
   "source": [
    "def get_textgrids_for_each_speaker():\n",
    "        cwd = os.getcwd()\n",
    "        textgrid_directory = cwd + \"/original_en_diapix_data_changed_textgrids\"\n",
    "        textgrid_list = glob.glob(textgrid_directory + \"/*.TextGrid\")\n",
    "        return textgrid_list"
   ]
  },
  {
   "cell_type": "code",
   "execution_count": 8,
   "metadata": {
    "code_folding": []
   },
   "outputs": [],
   "source": [
    "def make_mixed_into_lists(mixed_df):\n",
    "    text = []\n",
    "    xmin = []\n",
    "    xmax = []\n",
    "    for item in mixed_df[0]:\n",
    "        if re.match(r\"<Interval\\stext=\\\"(.*)\\\"\\sxmin=(.+)\\sxmax=(.+)>\", str(item)) != None:\n",
    "            x = re.match(r\"<Interval\\stext=\\\"(.*)\\\"\\sxmin=(.+)\\sxmax=(.+)>\" , str(item))\n",
    "            if x.group(1) == \"\":\n",
    "                text.append(np.nan)\n",
    "            else:\n",
    "                text.append(x.group(1))\n",
    "            xmin.append(float(x.group(2)))\n",
    "            xmax.append(float(x.group(3)))\n",
    "        else:\n",
    "            raise Exception\n",
    "    mixed_df['Word_Text'] = text\n",
    "    mixed_df['Word_xmin'] = xmin\n",
    "    mixed_df['Word_xmax'] = xmax\n",
    "    mixed_df.drop(columns = [0], inplace=True)\n",
    "    return mixed_df\n",
    "\n",
    "def make_phone_into_lists(phone_df):\n",
    "    text = []\n",
    "    xmin = []\n",
    "    xmax = []\n",
    "    for item in phone_df[0]:\n",
    "        if re.match(r\"<Interval\\stext=\\\"(.*)\\\"\\sxmin=(.+)\\sxmax=(.+)>\", str(item)) != None:\n",
    "            x = re.match(r\"<Interval\\stext=\\\"(.*)\\\"\\sxmin=(.+)\\sxmax=(.+)>\", str(item))\n",
    "            if x.group(1) == \"\":\n",
    "                text.append(np.nan)\n",
    "            else:\n",
    "                text.append(x.group(1))\n",
    "            xmin.append(float(x.group(2)))\n",
    "            xmax.append(float(x.group(3)))\n",
    "        else:\n",
    "            raise Exception\n",
    "    phone_df['Phone_Text'] = text\n",
    "    phone_df['Phone_xmin'] = xmin\n",
    "    phone_df['Phone_xmax'] = xmax\n",
    "    phone_df.drop(columns = [0], inplace=True)\n",
    "    return phone_df"
   ]
  },
  {
   "cell_type": "code",
   "execution_count": 9,
   "metadata": {
    "code_folding": []
   },
   "outputs": [],
   "source": [
    "def combine_dfs(grid):\n",
    "    # channel1\n",
    "    # make into a df\n",
    "    grid_mixed_df = pd.DataFrame.from_dict(grid['mixed'])\n",
    "    grid_phone_df = pd.DataFrame.from_dict(grid['phone'])\n",
    "    # making the df have columns\n",
    "    mixed_df = make_mixed_into_lists(grid_mixed_df)\n",
    "    phone_df = make_phone_into_lists(grid_phone_df)\n",
    "    # combining the two dataframes \n",
    "    combined_df = phone_df.merge(mixed_df, how='left', left_on='Phone_xmin', right_on='Word_xmin')\n",
    "    combined_df.fillna(method = 'ffill', inplace=True)\n",
    "    \n",
    "    #channel 2\n",
    "    grid_mixed_df2 = pd.DataFrame.from_dict(grid['mixed2'])\n",
    "    grid_phone_df2 = pd.DataFrame.from_dict(grid['phone2'])\n",
    "    # making the df have columns\n",
    "    mixed_df2 = make_mixed_into_lists(grid_mixed_df2)\n",
    "    phone_df2 = make_phone_into_lists(grid_phone_df2)\n",
    "    # combining the two dataframes \n",
    "    combined_df2 = phone_df2.merge(mixed_df2, how='left', left_on='Phone_xmin', right_on='Word_xmin')\n",
    "    combined_df2.fillna(method = 'ffill', inplace=True)\n",
    "    \n",
    "    return combined_df, combined_df2"
   ]
  },
  {
   "cell_type": "markdown",
   "metadata": {},
   "source": [
    "## Splitting and naming the textgrids "
   ]
  },
  {
   "cell_type": "code",
   "execution_count": 10,
   "metadata": {
    "code_folding": []
   },
   "outputs": [],
   "source": [
    "def split_and_name_textgrids():\n",
    "    cwd = os.getcwd()\n",
    "    textgrid_list = get_textgrids_for_each_speaker()\n",
    "    for file_name in textgrid_list:\n",
    "        channel1, channel2 = get_file_names(file_name)\n",
    "        grid = textgrids.TextGrid(file_name)\n",
    "        chan1, chan2 = combine_dfs(grid)\n",
    "        # name_dfs correctly\n",
    "        # save to csv\n",
    "        chan1.to_csv(cwd + '/split_wav_files_folder/' + channel1 + \"TextGrid\")\n",
    "        chan2.to_csv(cwd + '/split_wav_files_folder/' + channel2 + \"TextGrid\")\n",
    "        # put all of the files in split_wav_files_folder"
   ]
  },
  {
   "cell_type": "code",
   "execution_count": null,
   "metadata": {},
   "outputs": [],
   "source": [
    "split_and_name_textgrids()"
   ]
  },
  {
   "cell_type": "markdown",
   "metadata": {},
   "source": [
    "# Same process but for corrected_textgrid folder"
   ]
  },
  {
   "cell_type": "code",
   "execution_count": 11,
   "metadata": {},
   "outputs": [],
   "source": [
    "# file names \n",
    "cwd = os.getcwd()\n",
    "corrected_textgrid_names_list = glob.glob(cwd + \"/corrected_textgrid/*TextGrid\")"
   ]
  },
  {
   "cell_type": "code",
   "execution_count": 12,
   "metadata": {},
   "outputs": [
    {
     "data": {
      "text/plain": [
       "['/Users/gregfeliu/Desktop/Flatiron Bootcamp/Vowel Identifier/corrected_textgrid/DP_ENF_02_ENF_06_EN_ENF_02_DP_ENF_02_ENF_06_EN_ENF_06_corrected_both.TextGrid',\n",
       " '/Users/gregfeliu/Desktop/Flatiron Bootcamp/Vowel Identifier/corrected_textgrid/DP_ENF_02_ENF_06_EN_ENF_02_DP_ENF_02_ENF_06_EN_ENF_06_corrected_only_sp2.TextGrid']"
      ]
     },
     "execution_count": 12,
     "metadata": {},
     "output_type": "execute_result"
    }
   ],
   "source": [
    "corrected_textgrid_names_list"
   ]
  },
  {
   "cell_type": "code",
   "execution_count": 13,
   "metadata": {},
   "outputs": [],
   "source": [
    "for file_name in corrected_textgrid_names_list:\n",
    "    channel1, channel2 = get_file_names(corrected_textgrid_names_list[0])\n",
    "    grid = textgrids.TextGrid(file_name)\n",
    "    chan1, chan2 = combine_dfs(grid)\n",
    "    # name_dfs correctly\n",
    "    # save to csv\n",
    "#     chan1.to_csv(cwd + '/split_wav_files_folder/' + channel1 + \"TextGrid\")\n",
    "#     chan2.to_csv(cwd + '/split_wav_files_folder/' + channel2 + \"TextGrid\")"
   ]
  },
  {
   "cell_type": "code",
   "execution_count": 14,
   "metadata": {},
   "outputs": [
    {
     "data": {
      "text/html": [
       "<div>\n",
       "<style scoped>\n",
       "    .dataframe tbody tr th:only-of-type {\n",
       "        vertical-align: middle;\n",
       "    }\n",
       "\n",
       "    .dataframe tbody tr th {\n",
       "        vertical-align: top;\n",
       "    }\n",
       "\n",
       "    .dataframe thead th {\n",
       "        text-align: right;\n",
       "    }\n",
       "</style>\n",
       "<table border=\"1\" class=\"dataframe\">\n",
       "  <thead>\n",
       "    <tr style=\"text-align: right;\">\n",
       "      <th></th>\n",
       "      <th>Phone_Text</th>\n",
       "      <th>Phone_xmin</th>\n",
       "      <th>Phone_xmax</th>\n",
       "      <th>Word_Text</th>\n",
       "      <th>Word_xmin</th>\n",
       "      <th>Word_xmax</th>\n",
       "    </tr>\n",
       "  </thead>\n",
       "  <tbody>\n",
       "    <tr>\n",
       "      <th>0</th>\n",
       "      <td>NaN</td>\n",
       "      <td>0.000000</td>\n",
       "      <td>2.000000</td>\n",
       "      <td>NaN</td>\n",
       "      <td>0.000000</td>\n",
       "      <td>2.000000</td>\n",
       "    </tr>\n",
       "    <tr>\n",
       "      <th>1</th>\n",
       "      <td>!SIL</td>\n",
       "      <td>2.000000</td>\n",
       "      <td>9.491760</td>\n",
       "      <td>!SIL</td>\n",
       "      <td>2.000000</td>\n",
       "      <td>9.457105</td>\n",
       "    </tr>\n",
       "    <tr>\n",
       "      <th>2</th>\n",
       "      <td>y</td>\n",
       "      <td>9.491760</td>\n",
       "      <td>9.557000</td>\n",
       "      <td>!SIL</td>\n",
       "      <td>2.000000</td>\n",
       "      <td>9.457105</td>\n",
       "    </tr>\n",
       "    <tr>\n",
       "      <th>3</th>\n",
       "      <td>N</td>\n",
       "      <td>9.557000</td>\n",
       "      <td>9.647000</td>\n",
       "      <td>!SIL</td>\n",
       "      <td>2.000000</td>\n",
       "      <td>9.457105</td>\n",
       "    </tr>\n",
       "    <tr>\n",
       "      <th>4</th>\n",
       "      <td>DD</td>\n",
       "      <td>9.647000</td>\n",
       "      <td>9.677000</td>\n",
       "      <td>!SIL</td>\n",
       "      <td>2.000000</td>\n",
       "      <td>9.457105</td>\n",
       "    </tr>\n",
       "    <tr>\n",
       "      <th>...</th>\n",
       "      <td>...</td>\n",
       "      <td>...</td>\n",
       "      <td>...</td>\n",
       "      <td>...</td>\n",
       "      <td>...</td>\n",
       "      <td>...</td>\n",
       "    </tr>\n",
       "    <tr>\n",
       "      <th>1353</th>\n",
       "      <td>K</td>\n",
       "      <td>520.686125</td>\n",
       "      <td>520.726125</td>\n",
       "      <td>!SIL</td>\n",
       "      <td>518.455909</td>\n",
       "      <td>520.326117</td>\n",
       "    </tr>\n",
       "    <tr>\n",
       "      <th>1354</th>\n",
       "      <td>EY</td>\n",
       "      <td>520.726125</td>\n",
       "      <td>520.886125</td>\n",
       "      <td>!SIL</td>\n",
       "      <td>518.455909</td>\n",
       "      <td>520.326117</td>\n",
       "    </tr>\n",
       "    <tr>\n",
       "      <th>1355</th>\n",
       "      <td>lg</td>\n",
       "      <td>520.886125</td>\n",
       "      <td>521.407062</td>\n",
       "      <td>&lt;LG&gt;</td>\n",
       "      <td>520.886125</td>\n",
       "      <td>521.407062</td>\n",
       "    </tr>\n",
       "    <tr>\n",
       "      <th>1356</th>\n",
       "      <td>!SIL</td>\n",
       "      <td>521.407062</td>\n",
       "      <td>525.604172</td>\n",
       "      <td>!SIL</td>\n",
       "      <td>521.407062</td>\n",
       "      <td>525.604172</td>\n",
       "    </tr>\n",
       "    <tr>\n",
       "      <th>1357</th>\n",
       "      <td>!SIL</td>\n",
       "      <td>525.604172</td>\n",
       "      <td>527.604172</td>\n",
       "      <td>!SIL</td>\n",
       "      <td>525.604172</td>\n",
       "      <td>527.604172</td>\n",
       "    </tr>\n",
       "  </tbody>\n",
       "</table>\n",
       "<p>1358 rows × 6 columns</p>\n",
       "</div>"
      ],
      "text/plain": [
       "     Phone_Text  Phone_xmin  Phone_xmax Word_Text   Word_xmin   Word_xmax\n",
       "0           NaN    0.000000    2.000000       NaN    0.000000    2.000000\n",
       "1          !SIL    2.000000    9.491760      !SIL    2.000000    9.457105\n",
       "2             y    9.491760    9.557000      !SIL    2.000000    9.457105\n",
       "3             N    9.557000    9.647000      !SIL    2.000000    9.457105\n",
       "4            DD    9.647000    9.677000      !SIL    2.000000    9.457105\n",
       "...         ...         ...         ...       ...         ...         ...\n",
       "1353          K  520.686125  520.726125      !SIL  518.455909  520.326117\n",
       "1354         EY  520.726125  520.886125      !SIL  518.455909  520.326117\n",
       "1355         lg  520.886125  521.407062      <LG>  520.886125  521.407062\n",
       "1356       !SIL  521.407062  525.604172      !SIL  521.407062  525.604172\n",
       "1357       !SIL  525.604172  527.604172      !SIL  525.604172  527.604172\n",
       "\n",
       "[1358 rows x 6 columns]"
      ]
     },
     "execution_count": 14,
     "metadata": {},
     "output_type": "execute_result"
    }
   ],
   "source": [
    "chan1"
   ]
  },
  {
   "cell_type": "code",
   "execution_count": null,
   "metadata": {},
   "outputs": [],
   "source": []
  }
 ],
 "metadata": {
  "kernelspec": {
   "display_name": "Python [conda env:learn-env] *",
   "language": "python",
   "name": "conda-env-learn-env-py"
  },
  "language_info": {
   "codemirror_mode": {
    "name": "ipython",
    "version": 3
   },
   "file_extension": ".py",
   "mimetype": "text/x-python",
   "name": "python",
   "nbconvert_exporter": "python",
   "pygments_lexer": "ipython3",
   "version": "3.6.9"
  },
  "toc": {
   "base_numbering": 1,
   "nav_menu": {},
   "number_sections": true,
   "sideBar": true,
   "skip_h1_title": false,
   "title_cell": "Table of Contents",
   "title_sidebar": "Contents",
   "toc_cell": false,
   "toc_position": {
    "height": "calc(100% - 180px)",
    "left": "10px",
    "top": "150px",
    "width": "325.1875px"
   },
   "toc_section_display": true,
   "toc_window_display": true
  },
  "varInspector": {
   "cols": {
    "lenName": 16,
    "lenType": 16,
    "lenVar": 40
   },
   "kernels_config": {
    "python": {
     "delete_cmd_postfix": "",
     "delete_cmd_prefix": "del ",
     "library": "var_list.py",
     "varRefreshCmd": "print(var_dic_list())"
    },
    "r": {
     "delete_cmd_postfix": ") ",
     "delete_cmd_prefix": "rm(",
     "library": "var_list.r",
     "varRefreshCmd": "cat(var_dic_list()) "
    }
   },
   "types_to_exclude": [
    "module",
    "function",
    "builtin_function_or_method",
    "instance",
    "_Feature"
   ],
   "window_display": false
  }
 },
 "nbformat": 4,
 "nbformat_minor": 2
}
